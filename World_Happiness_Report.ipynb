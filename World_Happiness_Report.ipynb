{
  "cells": [
    {
      "cell_type": "markdown",
      "metadata": {
        "id": "MRzHxSb05jus"
      },
      "source": [
        "Rapor öncelikle Gallup Dünya Anketinden elde edilen verileri kullanır. Her yıllık rapor, Dünya Mutluluk Raporu web sitesinden indirilmek üzere halka açıktır.Mutluluk puanını takip eden sütunlar, ekonomik üretim, sosyal destek, yaşam beklentisi, özgürlük, yolsuzluğun olmaması ve cömertlik olmak üzere altı faktörün her birine odaklanarak mutluluk ve Sürdürülebilir Kalkınma arasındaki bağlantıyı içerir. (Vikipedi)\n",
        "\n",
        "World Happiness Report Official Website: https://worldhappiness.report/ \n",
        "\n",
        "Dünya Mutluluk Raporu, her ülkenin mutluluğunu belirtmek için belirteçler kullanır. Bir \"Ladder Skoru\" oluşturmak için toplanır ve daha sonra sonunda bir \"Distopya + residual\" puanı içerecek şekilde değiştirilir.\n",
        "Göstergeler arasında:\n",
        "\n",
        "\n",
        "*   Ladder score: Mutluluk puanı\n",
        "*   Country name: Ülkelerin İsimleri (Afghanistan, Albenia, ...,Zimbabwe)\n",
        "*   Life ladder: Yaşam kalitesi puanı (2.375 to 8.019)\n",
        "*   Log GDP per capita: GSYİH (6.635 to 11.648)\n",
        "*   Social support: Sosyal Destek (0.290 to 0.905)\n",
        "*   Healthy life expectancy at birth: Sağlıklı yaşam yüzdesi (32.300 to 77.100)\n",
        "*   Freedom to make life choices: Hayatı şekillendirmede özgürlük (0.258 to 0.985)\n",
        "*   Generosity: Cömertlik (-0.335 to 0.698)\n",
        "*   Perceptions of corruption : Yolsuzluk Algısı (0.035 to 0.983)\n",
        "\n",
        "Distopya, dünyanın en mutsuz insanlarına sahip hayali bir ülkedir.Dünyanın en düşük gelirli, en düşük yaşam beklentisi, en düşük cömertlik, en çok yolsuzluk, en az özgürlük ve en az sosyal desteği olan bir ülkede hayat çok tatsız olacağından, Ütopya'nın aksine “Distopya” olarak anılır."
      ]
    },
    {
      "cell_type": "markdown",
      "metadata": {
        "id": "TStCRjS18P8c"
      },
      "source": [
        "**Python Libraries**"
      ]
    },
    {
      "cell_type": "code",
      "execution_count": 1,
      "metadata": {
        "id": "59e_CPYf1IvE"
      },
      "outputs": [],
      "source": [
        "import numpy as np # linear algebra\n",
        "import pandas as pd # data processing, CSV file I/O \n",
        "import matplotlib.pyplot as plt\n",
        "import seaborn as sns\n",
        "sns.set_style(\"whitegrid\")\n",
        "import warnings\n",
        "warnings.filterwarnings(\"ignore\")\n",
        "import plotly.express as px;\n",
        "import xgboost as xgb\n",
        "from sklearn.model_selection import train_test_split, GridSearchCV\n",
        "from xgboost import XGBClassifier\n",
        "from sklearn.model_selection import RandomizedSearchCV\n",
        "from sklearn import linear_model\n",
        "import statsmodels.api as sm\n",
        "from sklearn.metrics import accuracy_score,classification_report\n",
        "import keras\n",
        "from keras.layers import Dense\n",
        "from keras.models import Sequential"
      ]
    },
    {
      "cell_type": "markdown",
      "metadata": {
        "id": "WoiEQ0rDADGQ"
      },
      "source": [
        "**Data Preperation**"
      ]
    },
    {
      "cell_type": "code",
      "execution_count": 2,
      "metadata": {
        "id": "C3muirwr8mlG",
        "colab": {
          "base_uri": "https://localhost:8080/",
          "height": 444
        },
        "outputId": "17ad67e9-f879-4fba-e6cb-43a830f12e42"
      },
      "outputs": [
        {
          "output_type": "execute_result",
          "data": {
            "text/html": [
              "\n",
              "  <div id=\"df-a98c42c4-d129-4fad-8bb0-9153cada6bb7\">\n",
              "    <div class=\"colab-df-container\">\n",
              "      <div>\n",
              "<style scoped>\n",
              "    .dataframe tbody tr th:only-of-type {\n",
              "        vertical-align: middle;\n",
              "    }\n",
              "\n",
              "    .dataframe tbody tr th {\n",
              "        vertical-align: top;\n",
              "    }\n",
              "\n",
              "    .dataframe thead th {\n",
              "        text-align: right;\n",
              "    }\n",
              "</style>\n",
              "<table border=\"1\" class=\"dataframe\">\n",
              "  <thead>\n",
              "    <tr style=\"text-align: right;\">\n",
              "      <th></th>\n",
              "      <th>Country name</th>\n",
              "      <th>Regional indicator</th>\n",
              "      <th>Ladder score</th>\n",
              "      <th>Standard error of ladder score</th>\n",
              "      <th>upperwhisker</th>\n",
              "      <th>lowerwhisker</th>\n",
              "      <th>Logged GDP per capita</th>\n",
              "      <th>Social support</th>\n",
              "      <th>Healthy life expectancy</th>\n",
              "      <th>Freedom to make life choices</th>\n",
              "      <th>Generosity</th>\n",
              "      <th>Perceptions of corruption</th>\n",
              "      <th>Ladder score in Dystopia</th>\n",
              "      <th>Explained by: Log GDP per capita</th>\n",
              "      <th>Explained by: Social support</th>\n",
              "      <th>Explained by: Healthy life expectancy</th>\n",
              "      <th>Explained by: Freedom to make life choices</th>\n",
              "      <th>Explained by: Generosity</th>\n",
              "      <th>Explained by: Perceptions of corruption</th>\n",
              "      <th>Dystopia + residual</th>\n",
              "    </tr>\n",
              "  </thead>\n",
              "  <tbody>\n",
              "    <tr>\n",
              "      <th>0</th>\n",
              "      <td>Finland</td>\n",
              "      <td>Western Europe</td>\n",
              "      <td>7.842</td>\n",
              "      <td>0.032</td>\n",
              "      <td>7.904</td>\n",
              "      <td>7.780</td>\n",
              "      <td>10.775</td>\n",
              "      <td>0.954</td>\n",
              "      <td>72.0</td>\n",
              "      <td>0.949</td>\n",
              "      <td>-0.098</td>\n",
              "      <td>0.186</td>\n",
              "      <td>2.43</td>\n",
              "      <td>1.446</td>\n",
              "      <td>1.106</td>\n",
              "      <td>0.741</td>\n",
              "      <td>0.691</td>\n",
              "      <td>0.124</td>\n",
              "      <td>0.481</td>\n",
              "      <td>3.253</td>\n",
              "    </tr>\n",
              "    <tr>\n",
              "      <th>1</th>\n",
              "      <td>Denmark</td>\n",
              "      <td>Western Europe</td>\n",
              "      <td>7.620</td>\n",
              "      <td>0.035</td>\n",
              "      <td>7.687</td>\n",
              "      <td>7.552</td>\n",
              "      <td>10.933</td>\n",
              "      <td>0.954</td>\n",
              "      <td>72.7</td>\n",
              "      <td>0.946</td>\n",
              "      <td>0.030</td>\n",
              "      <td>0.179</td>\n",
              "      <td>2.43</td>\n",
              "      <td>1.502</td>\n",
              "      <td>1.108</td>\n",
              "      <td>0.763</td>\n",
              "      <td>0.686</td>\n",
              "      <td>0.208</td>\n",
              "      <td>0.485</td>\n",
              "      <td>2.868</td>\n",
              "    </tr>\n",
              "    <tr>\n",
              "      <th>2</th>\n",
              "      <td>Switzerland</td>\n",
              "      <td>Western Europe</td>\n",
              "      <td>7.571</td>\n",
              "      <td>0.036</td>\n",
              "      <td>7.643</td>\n",
              "      <td>7.500</td>\n",
              "      <td>11.117</td>\n",
              "      <td>0.942</td>\n",
              "      <td>74.4</td>\n",
              "      <td>0.919</td>\n",
              "      <td>0.025</td>\n",
              "      <td>0.292</td>\n",
              "      <td>2.43</td>\n",
              "      <td>1.566</td>\n",
              "      <td>1.079</td>\n",
              "      <td>0.816</td>\n",
              "      <td>0.653</td>\n",
              "      <td>0.204</td>\n",
              "      <td>0.413</td>\n",
              "      <td>2.839</td>\n",
              "    </tr>\n",
              "    <tr>\n",
              "      <th>3</th>\n",
              "      <td>Iceland</td>\n",
              "      <td>Western Europe</td>\n",
              "      <td>7.554</td>\n",
              "      <td>0.059</td>\n",
              "      <td>7.670</td>\n",
              "      <td>7.438</td>\n",
              "      <td>10.878</td>\n",
              "      <td>0.983</td>\n",
              "      <td>73.0</td>\n",
              "      <td>0.955</td>\n",
              "      <td>0.160</td>\n",
              "      <td>0.673</td>\n",
              "      <td>2.43</td>\n",
              "      <td>1.482</td>\n",
              "      <td>1.172</td>\n",
              "      <td>0.772</td>\n",
              "      <td>0.698</td>\n",
              "      <td>0.293</td>\n",
              "      <td>0.170</td>\n",
              "      <td>2.967</td>\n",
              "    </tr>\n",
              "    <tr>\n",
              "      <th>4</th>\n",
              "      <td>Netherlands</td>\n",
              "      <td>Western Europe</td>\n",
              "      <td>7.464</td>\n",
              "      <td>0.027</td>\n",
              "      <td>7.518</td>\n",
              "      <td>7.410</td>\n",
              "      <td>10.932</td>\n",
              "      <td>0.942</td>\n",
              "      <td>72.4</td>\n",
              "      <td>0.913</td>\n",
              "      <td>0.175</td>\n",
              "      <td>0.338</td>\n",
              "      <td>2.43</td>\n",
              "      <td>1.501</td>\n",
              "      <td>1.079</td>\n",
              "      <td>0.753</td>\n",
              "      <td>0.647</td>\n",
              "      <td>0.302</td>\n",
              "      <td>0.384</td>\n",
              "      <td>2.798</td>\n",
              "    </tr>\n",
              "  </tbody>\n",
              "</table>\n",
              "</div>\n",
              "      <button class=\"colab-df-convert\" onclick=\"convertToInteractive('df-a98c42c4-d129-4fad-8bb0-9153cada6bb7')\"\n",
              "              title=\"Convert this dataframe to an interactive table.\"\n",
              "              style=\"display:none;\">\n",
              "        \n",
              "  <svg xmlns=\"http://www.w3.org/2000/svg\" height=\"24px\"viewBox=\"0 0 24 24\"\n",
              "       width=\"24px\">\n",
              "    <path d=\"M0 0h24v24H0V0z\" fill=\"none\"/>\n",
              "    <path d=\"M18.56 5.44l.94 2.06.94-2.06 2.06-.94-2.06-.94-.94-2.06-.94 2.06-2.06.94zm-11 1L8.5 8.5l.94-2.06 2.06-.94-2.06-.94L8.5 2.5l-.94 2.06-2.06.94zm10 10l.94 2.06.94-2.06 2.06-.94-2.06-.94-.94-2.06-.94 2.06-2.06.94z\"/><path d=\"M17.41 7.96l-1.37-1.37c-.4-.4-.92-.59-1.43-.59-.52 0-1.04.2-1.43.59L10.3 9.45l-7.72 7.72c-.78.78-.78 2.05 0 2.83L4 21.41c.39.39.9.59 1.41.59.51 0 1.02-.2 1.41-.59l7.78-7.78 2.81-2.81c.8-.78.8-2.07 0-2.86zM5.41 20L4 18.59l7.72-7.72 1.47 1.35L5.41 20z\"/>\n",
              "  </svg>\n",
              "      </button>\n",
              "      \n",
              "  <style>\n",
              "    .colab-df-container {\n",
              "      display:flex;\n",
              "      flex-wrap:wrap;\n",
              "      gap: 12px;\n",
              "    }\n",
              "\n",
              "    .colab-df-convert {\n",
              "      background-color: #E8F0FE;\n",
              "      border: none;\n",
              "      border-radius: 50%;\n",
              "      cursor: pointer;\n",
              "      display: none;\n",
              "      fill: #1967D2;\n",
              "      height: 32px;\n",
              "      padding: 0 0 0 0;\n",
              "      width: 32px;\n",
              "    }\n",
              "\n",
              "    .colab-df-convert:hover {\n",
              "      background-color: #E2EBFA;\n",
              "      box-shadow: 0px 1px 2px rgba(60, 64, 67, 0.3), 0px 1px 3px 1px rgba(60, 64, 67, 0.15);\n",
              "      fill: #174EA6;\n",
              "    }\n",
              "\n",
              "    [theme=dark] .colab-df-convert {\n",
              "      background-color: #3B4455;\n",
              "      fill: #D2E3FC;\n",
              "    }\n",
              "\n",
              "    [theme=dark] .colab-df-convert:hover {\n",
              "      background-color: #434B5C;\n",
              "      box-shadow: 0px 1px 3px 1px rgba(0, 0, 0, 0.15);\n",
              "      filter: drop-shadow(0px 1px 2px rgba(0, 0, 0, 0.3));\n",
              "      fill: #FFFFFF;\n",
              "    }\n",
              "  </style>\n",
              "\n",
              "      <script>\n",
              "        const buttonEl =\n",
              "          document.querySelector('#df-a98c42c4-d129-4fad-8bb0-9153cada6bb7 button.colab-df-convert');\n",
              "        buttonEl.style.display =\n",
              "          google.colab.kernel.accessAllowed ? 'block' : 'none';\n",
              "\n",
              "        async function convertToInteractive(key) {\n",
              "          const element = document.querySelector('#df-a98c42c4-d129-4fad-8bb0-9153cada6bb7');\n",
              "          const dataTable =\n",
              "            await google.colab.kernel.invokeFunction('convertToInteractive',\n",
              "                                                     [key], {});\n",
              "          if (!dataTable) return;\n",
              "\n",
              "          const docLinkHtml = 'Like what you see? Visit the ' +\n",
              "            '<a target=\"_blank\" href=https://colab.research.google.com/notebooks/data_table.ipynb>data table notebook</a>'\n",
              "            + ' to learn more about interactive tables.';\n",
              "          element.innerHTML = '';\n",
              "          dataTable['output_type'] = 'display_data';\n",
              "          await google.colab.output.renderOutput(dataTable, element);\n",
              "          const docLink = document.createElement('div');\n",
              "          docLink.innerHTML = docLinkHtml;\n",
              "          element.appendChild(docLink);\n",
              "        }\n",
              "      </script>\n",
              "    </div>\n",
              "  </div>\n",
              "  "
            ],
            "text/plain": [
              "  Country name  ... Dystopia + residual\n",
              "0      Finland  ...               3.253\n",
              "1      Denmark  ...               2.868\n",
              "2  Switzerland  ...               2.839\n",
              "3      Iceland  ...               2.967\n",
              "4  Netherlands  ...               2.798\n",
              "\n",
              "[5 rows x 20 columns]"
            ]
          },
          "metadata": {},
          "execution_count": 2
        }
      ],
      "source": [
        "df = pd.read_csv(\"world-happiness-report-2021.csv\")\n",
        "df.head()"
      ]
    },
    {
      "cell_type": "code",
      "execution_count": 3,
      "metadata": {
        "colab": {
          "base_uri": "https://localhost:8080/"
        },
        "id": "-7q8UGMGCxqM",
        "outputId": "e022adfe-d443-477e-ae45-29db0c90dc8a"
      },
      "outputs": [
        {
          "output_type": "execute_result",
          "data": {
            "text/plain": [
              "Index(['Country name', 'Regional indicator', 'Ladder score',\n",
              "       'Standard error of ladder score', 'upperwhisker', 'lowerwhisker',\n",
              "       'Logged GDP per capita', 'Social support', 'Healthy life expectancy',\n",
              "       'Freedom to make life choices', 'Generosity',\n",
              "       'Perceptions of corruption', 'Ladder score in Dystopia',\n",
              "       'Explained by: Log GDP per capita', 'Explained by: Social support',\n",
              "       'Explained by: Healthy life expectancy',\n",
              "       'Explained by: Freedom to make life choices',\n",
              "       'Explained by: Generosity', 'Explained by: Perceptions of corruption',\n",
              "       'Dystopia + residual'],\n",
              "      dtype='object')"
            ]
          },
          "metadata": {},
          "execution_count": 3
        }
      ],
      "source": [
        "#Hangisini daha fazla analiz için kullanacağımıza karar vermek için tüm sütunları göster\n",
        "df.columns"
      ]
    },
    {
      "cell_type": "code",
      "execution_count": 4,
      "metadata": {
        "colab": {
          "base_uri": "https://localhost:8080/",
          "height": 250
        },
        "id": "305uWxoHDFCy",
        "outputId": "cfb5b1d2-4dbb-4325-9d2f-115dfeaa8af3"
      },
      "outputs": [
        {
          "output_type": "execute_result",
          "data": {
            "text/html": [
              "\n",
              "  <div id=\"df-b397c310-8c25-4aff-ba2e-373dc4fb88f2\">\n",
              "    <div class=\"colab-df-container\">\n",
              "      <div>\n",
              "<style scoped>\n",
              "    .dataframe tbody tr th:only-of-type {\n",
              "        vertical-align: middle;\n",
              "    }\n",
              "\n",
              "    .dataframe tbody tr th {\n",
              "        vertical-align: top;\n",
              "    }\n",
              "\n",
              "    .dataframe thead th {\n",
              "        text-align: right;\n",
              "    }\n",
              "</style>\n",
              "<table border=\"1\" class=\"dataframe\">\n",
              "  <thead>\n",
              "    <tr style=\"text-align: right;\">\n",
              "      <th></th>\n",
              "      <th>Country name</th>\n",
              "      <th>Regional indicator</th>\n",
              "      <th>Ladder score</th>\n",
              "      <th>Logged GDP per capita</th>\n",
              "      <th>Social support</th>\n",
              "      <th>Healthy life expectancy</th>\n",
              "      <th>Freedom to make life choices</th>\n",
              "      <th>Generosity</th>\n",
              "      <th>Perceptions of corruption</th>\n",
              "    </tr>\n",
              "  </thead>\n",
              "  <tbody>\n",
              "    <tr>\n",
              "      <th>0</th>\n",
              "      <td>Finland</td>\n",
              "      <td>Western Europe</td>\n",
              "      <td>7.842</td>\n",
              "      <td>10.775</td>\n",
              "      <td>0.954</td>\n",
              "      <td>72.0</td>\n",
              "      <td>0.949</td>\n",
              "      <td>-0.098</td>\n",
              "      <td>0.186</td>\n",
              "    </tr>\n",
              "    <tr>\n",
              "      <th>1</th>\n",
              "      <td>Denmark</td>\n",
              "      <td>Western Europe</td>\n",
              "      <td>7.620</td>\n",
              "      <td>10.933</td>\n",
              "      <td>0.954</td>\n",
              "      <td>72.7</td>\n",
              "      <td>0.946</td>\n",
              "      <td>0.030</td>\n",
              "      <td>0.179</td>\n",
              "    </tr>\n",
              "    <tr>\n",
              "      <th>2</th>\n",
              "      <td>Switzerland</td>\n",
              "      <td>Western Europe</td>\n",
              "      <td>7.571</td>\n",
              "      <td>11.117</td>\n",
              "      <td>0.942</td>\n",
              "      <td>74.4</td>\n",
              "      <td>0.919</td>\n",
              "      <td>0.025</td>\n",
              "      <td>0.292</td>\n",
              "    </tr>\n",
              "    <tr>\n",
              "      <th>3</th>\n",
              "      <td>Iceland</td>\n",
              "      <td>Western Europe</td>\n",
              "      <td>7.554</td>\n",
              "      <td>10.878</td>\n",
              "      <td>0.983</td>\n",
              "      <td>73.0</td>\n",
              "      <td>0.955</td>\n",
              "      <td>0.160</td>\n",
              "      <td>0.673</td>\n",
              "    </tr>\n",
              "    <tr>\n",
              "      <th>4</th>\n",
              "      <td>Netherlands</td>\n",
              "      <td>Western Europe</td>\n",
              "      <td>7.464</td>\n",
              "      <td>10.932</td>\n",
              "      <td>0.942</td>\n",
              "      <td>72.4</td>\n",
              "      <td>0.913</td>\n",
              "      <td>0.175</td>\n",
              "      <td>0.338</td>\n",
              "    </tr>\n",
              "  </tbody>\n",
              "</table>\n",
              "</div>\n",
              "      <button class=\"colab-df-convert\" onclick=\"convertToInteractive('df-b397c310-8c25-4aff-ba2e-373dc4fb88f2')\"\n",
              "              title=\"Convert this dataframe to an interactive table.\"\n",
              "              style=\"display:none;\">\n",
              "        \n",
              "  <svg xmlns=\"http://www.w3.org/2000/svg\" height=\"24px\"viewBox=\"0 0 24 24\"\n",
              "       width=\"24px\">\n",
              "    <path d=\"M0 0h24v24H0V0z\" fill=\"none\"/>\n",
              "    <path d=\"M18.56 5.44l.94 2.06.94-2.06 2.06-.94-2.06-.94-.94-2.06-.94 2.06-2.06.94zm-11 1L8.5 8.5l.94-2.06 2.06-.94-2.06-.94L8.5 2.5l-.94 2.06-2.06.94zm10 10l.94 2.06.94-2.06 2.06-.94-2.06-.94-.94-2.06-.94 2.06-2.06.94z\"/><path d=\"M17.41 7.96l-1.37-1.37c-.4-.4-.92-.59-1.43-.59-.52 0-1.04.2-1.43.59L10.3 9.45l-7.72 7.72c-.78.78-.78 2.05 0 2.83L4 21.41c.39.39.9.59 1.41.59.51 0 1.02-.2 1.41-.59l7.78-7.78 2.81-2.81c.8-.78.8-2.07 0-2.86zM5.41 20L4 18.59l7.72-7.72 1.47 1.35L5.41 20z\"/>\n",
              "  </svg>\n",
              "      </button>\n",
              "      \n",
              "  <style>\n",
              "    .colab-df-container {\n",
              "      display:flex;\n",
              "      flex-wrap:wrap;\n",
              "      gap: 12px;\n",
              "    }\n",
              "\n",
              "    .colab-df-convert {\n",
              "      background-color: #E8F0FE;\n",
              "      border: none;\n",
              "      border-radius: 50%;\n",
              "      cursor: pointer;\n",
              "      display: none;\n",
              "      fill: #1967D2;\n",
              "      height: 32px;\n",
              "      padding: 0 0 0 0;\n",
              "      width: 32px;\n",
              "    }\n",
              "\n",
              "    .colab-df-convert:hover {\n",
              "      background-color: #E2EBFA;\n",
              "      box-shadow: 0px 1px 2px rgba(60, 64, 67, 0.3), 0px 1px 3px 1px rgba(60, 64, 67, 0.15);\n",
              "      fill: #174EA6;\n",
              "    }\n",
              "\n",
              "    [theme=dark] .colab-df-convert {\n",
              "      background-color: #3B4455;\n",
              "      fill: #D2E3FC;\n",
              "    }\n",
              "\n",
              "    [theme=dark] .colab-df-convert:hover {\n",
              "      background-color: #434B5C;\n",
              "      box-shadow: 0px 1px 3px 1px rgba(0, 0, 0, 0.15);\n",
              "      filter: drop-shadow(0px 1px 2px rgba(0, 0, 0, 0.3));\n",
              "      fill: #FFFFFF;\n",
              "    }\n",
              "  </style>\n",
              "\n",
              "      <script>\n",
              "        const buttonEl =\n",
              "          document.querySelector('#df-b397c310-8c25-4aff-ba2e-373dc4fb88f2 button.colab-df-convert');\n",
              "        buttonEl.style.display =\n",
              "          google.colab.kernel.accessAllowed ? 'block' : 'none';\n",
              "\n",
              "        async function convertToInteractive(key) {\n",
              "          const element = document.querySelector('#df-b397c310-8c25-4aff-ba2e-373dc4fb88f2');\n",
              "          const dataTable =\n",
              "            await google.colab.kernel.invokeFunction('convertToInteractive',\n",
              "                                                     [key], {});\n",
              "          if (!dataTable) return;\n",
              "\n",
              "          const docLinkHtml = 'Like what you see? Visit the ' +\n",
              "            '<a target=\"_blank\" href=https://colab.research.google.com/notebooks/data_table.ipynb>data table notebook</a>'\n",
              "            + ' to learn more about interactive tables.';\n",
              "          element.innerHTML = '';\n",
              "          dataTable['output_type'] = 'display_data';\n",
              "          await google.colab.output.renderOutput(dataTable, element);\n",
              "          const docLink = document.createElement('div');\n",
              "          docLink.innerHTML = docLinkHtml;\n",
              "          element.appendChild(docLink);\n",
              "        }\n",
              "      </script>\n",
              "    </div>\n",
              "  </div>\n",
              "  "
            ],
            "text/plain": [
              "  Country name Regional indicator  ...  Generosity  Perceptions of corruption\n",
              "0      Finland     Western Europe  ...      -0.098                      0.186\n",
              "1      Denmark     Western Europe  ...       0.030                      0.179\n",
              "2  Switzerland     Western Europe  ...       0.025                      0.292\n",
              "3      Iceland     Western Europe  ...       0.160                      0.673\n",
              "4  Netherlands     Western Europe  ...       0.175                      0.338\n",
              "\n",
              "[5 rows x 9 columns]"
            ]
          },
          "metadata": {},
          "execution_count": 4
        }
      ],
      "source": [
        "#Daha fazla analiz için kullanılmayan tüm sütunları bırakılmalı,Önce \"Explained\" kelimesini içeren sütunları bırak\n",
        "explained_cols= df.columns.str.find(\"Explained\")==0\n",
        "df= df.loc[:, ~explained_cols]\n",
        "#Now drop the rest of the columns which we'll not use\n",
        "df= df.drop(columns=[\"Standard error of ladder score\", \"upperwhisker\",\"lowerwhisker\", \"Ladder score in Dystopia\", \"Dystopia + residual\"])\n",
        "df.head()"
      ]
    },
    {
      "cell_type": "code",
      "execution_count": 5,
      "metadata": {
        "id": "FOjEBptoHyLY"
      },
      "outputs": [],
      "source": [
        "df.columns = ['country', 'regional', 'ladderScore', 'GDP', 'socialSupport', 'lifeExpect', 'freedomChoices', 'generosity','perceptionCorrupt']"
      ]
    },
    {
      "cell_type": "code",
      "execution_count": 6,
      "metadata": {
        "id": "C8aItiyogDzD"
      },
      "outputs": [],
      "source": [
        "continuous = ['GDP',\n",
        " 'socialSupport',\n",
        " 'lifeExpect',\n",
        " 'freedomChoices',\n",
        " 'generosity',\n",
        " 'perceptionCorrupt']\n"
      ]
    },
    {
      "cell_type": "markdown",
      "metadata": {
        "id": "rpTAwmBLKQb2"
      },
      "source": [
        "📌Her sayısal değişkenin sayısı 149 olduğundan eksik değer yok gibi görünüyor."
      ]
    },
    {
      "cell_type": "code",
      "execution_count": 7,
      "metadata": {
        "colab": {
          "base_uri": "https://localhost:8080/"
        },
        "id": "4OyD2terJgWr",
        "outputId": "9901ab97-849a-4dd0-e459-b68f47cf4482"
      },
      "outputs": [
        {
          "output_type": "stream",
          "name": "stdout",
          "text": [
            "<class 'pandas.core.frame.DataFrame'>\n",
            "RangeIndex: 149 entries, 0 to 148\n",
            "Data columns (total 9 columns):\n",
            " #   Column             Non-Null Count  Dtype  \n",
            "---  ------             --------------  -----  \n",
            " 0   country            149 non-null    object \n",
            " 1   regional           149 non-null    object \n",
            " 2   ladderScore        149 non-null    float64\n",
            " 3   GDP                149 non-null    float64\n",
            " 4   socialSupport      149 non-null    float64\n",
            " 5   lifeExpect         149 non-null    float64\n",
            " 6   freedomChoices     149 non-null    float64\n",
            " 7   generosity         149 non-null    float64\n",
            " 8   perceptionCorrupt  149 non-null    float64\n",
            "dtypes: float64(7), object(2)\n",
            "memory usage: 10.6+ KB\n"
          ]
        }
      ],
      "source": [
        "df.info()"
      ]
    },
    {
      "cell_type": "code",
      "execution_count": 8,
      "metadata": {
        "colab": {
          "base_uri": "https://localhost:8080/"
        },
        "id": "G6uUQAOEUTVI",
        "outputId": "fb339887-d238-4aa8-d48a-7e9aadf77210"
      },
      "outputs": [
        {
          "output_type": "execute_result",
          "data": {
            "text/plain": [
              "Series([], dtype: float64)"
            ]
          },
          "metadata": {},
          "execution_count": 8
        }
      ],
      "source": [
        "df.isna().sum().where(lambda x: x>0).dropna()"
      ]
    },
    {
      "cell_type": "markdown",
      "metadata": {
        "id": "vz_Qi5apKbZG"
      },
      "source": [
        "📌Mutluluk puanı 2.52'den (en mutsuz ülke) 7.84'e (en mutlu ülke) ulaşıyor.<br>\n",
        "📌Sosyal destek, yaşam seçimlerini yapma özgürlüğü ve yolsuzluk algısı değerleri 0 ile 1 arasında normal bir şekilde dağılmış görünmektedir."
      ]
    },
    {
      "cell_type": "code",
      "execution_count": 9,
      "metadata": {
        "colab": {
          "base_uri": "https://localhost:8080/",
          "height": 300
        },
        "id": "93L-TKiqKG_w",
        "outputId": "2fa3985e-b6f9-4a2e-fd5c-964f1ebc6433"
      },
      "outputs": [
        {
          "output_type": "execute_result",
          "data": {
            "text/html": [
              "\n",
              "  <div id=\"df-aeb24e03-b633-4831-99f7-a3acb77e4279\">\n",
              "    <div class=\"colab-df-container\">\n",
              "      <div>\n",
              "<style scoped>\n",
              "    .dataframe tbody tr th:only-of-type {\n",
              "        vertical-align: middle;\n",
              "    }\n",
              "\n",
              "    .dataframe tbody tr th {\n",
              "        vertical-align: top;\n",
              "    }\n",
              "\n",
              "    .dataframe thead th {\n",
              "        text-align: right;\n",
              "    }\n",
              "</style>\n",
              "<table border=\"1\" class=\"dataframe\">\n",
              "  <thead>\n",
              "    <tr style=\"text-align: right;\">\n",
              "      <th></th>\n",
              "      <th>ladderScore</th>\n",
              "      <th>GDP</th>\n",
              "      <th>socialSupport</th>\n",
              "      <th>lifeExpect</th>\n",
              "      <th>freedomChoices</th>\n",
              "      <th>generosity</th>\n",
              "      <th>perceptionCorrupt</th>\n",
              "    </tr>\n",
              "  </thead>\n",
              "  <tbody>\n",
              "    <tr>\n",
              "      <th>count</th>\n",
              "      <td>149.000000</td>\n",
              "      <td>149.000000</td>\n",
              "      <td>149.000000</td>\n",
              "      <td>149.000000</td>\n",
              "      <td>149.000000</td>\n",
              "      <td>149.000000</td>\n",
              "      <td>149.000000</td>\n",
              "    </tr>\n",
              "    <tr>\n",
              "      <th>mean</th>\n",
              "      <td>5.532839</td>\n",
              "      <td>9.432208</td>\n",
              "      <td>0.814745</td>\n",
              "      <td>64.992799</td>\n",
              "      <td>0.791597</td>\n",
              "      <td>-0.015134</td>\n",
              "      <td>0.727450</td>\n",
              "    </tr>\n",
              "    <tr>\n",
              "      <th>std</th>\n",
              "      <td>1.073924</td>\n",
              "      <td>1.158601</td>\n",
              "      <td>0.114889</td>\n",
              "      <td>6.762043</td>\n",
              "      <td>0.113332</td>\n",
              "      <td>0.150657</td>\n",
              "      <td>0.179226</td>\n",
              "    </tr>\n",
              "    <tr>\n",
              "      <th>min</th>\n",
              "      <td>2.523000</td>\n",
              "      <td>6.635000</td>\n",
              "      <td>0.463000</td>\n",
              "      <td>48.478000</td>\n",
              "      <td>0.382000</td>\n",
              "      <td>-0.288000</td>\n",
              "      <td>0.082000</td>\n",
              "    </tr>\n",
              "    <tr>\n",
              "      <th>25%</th>\n",
              "      <td>4.852000</td>\n",
              "      <td>8.541000</td>\n",
              "      <td>0.750000</td>\n",
              "      <td>59.802000</td>\n",
              "      <td>0.718000</td>\n",
              "      <td>-0.126000</td>\n",
              "      <td>0.667000</td>\n",
              "    </tr>\n",
              "    <tr>\n",
              "      <th>50%</th>\n",
              "      <td>5.534000</td>\n",
              "      <td>9.569000</td>\n",
              "      <td>0.832000</td>\n",
              "      <td>66.603000</td>\n",
              "      <td>0.804000</td>\n",
              "      <td>-0.036000</td>\n",
              "      <td>0.781000</td>\n",
              "    </tr>\n",
              "    <tr>\n",
              "      <th>75%</th>\n",
              "      <td>6.255000</td>\n",
              "      <td>10.421000</td>\n",
              "      <td>0.905000</td>\n",
              "      <td>69.600000</td>\n",
              "      <td>0.877000</td>\n",
              "      <td>0.079000</td>\n",
              "      <td>0.845000</td>\n",
              "    </tr>\n",
              "    <tr>\n",
              "      <th>max</th>\n",
              "      <td>7.842000</td>\n",
              "      <td>11.647000</td>\n",
              "      <td>0.983000</td>\n",
              "      <td>76.953000</td>\n",
              "      <td>0.970000</td>\n",
              "      <td>0.542000</td>\n",
              "      <td>0.939000</td>\n",
              "    </tr>\n",
              "  </tbody>\n",
              "</table>\n",
              "</div>\n",
              "      <button class=\"colab-df-convert\" onclick=\"convertToInteractive('df-aeb24e03-b633-4831-99f7-a3acb77e4279')\"\n",
              "              title=\"Convert this dataframe to an interactive table.\"\n",
              "              style=\"display:none;\">\n",
              "        \n",
              "  <svg xmlns=\"http://www.w3.org/2000/svg\" height=\"24px\"viewBox=\"0 0 24 24\"\n",
              "       width=\"24px\">\n",
              "    <path d=\"M0 0h24v24H0V0z\" fill=\"none\"/>\n",
              "    <path d=\"M18.56 5.44l.94 2.06.94-2.06 2.06-.94-2.06-.94-.94-2.06-.94 2.06-2.06.94zm-11 1L8.5 8.5l.94-2.06 2.06-.94-2.06-.94L8.5 2.5l-.94 2.06-2.06.94zm10 10l.94 2.06.94-2.06 2.06-.94-2.06-.94-.94-2.06-.94 2.06-2.06.94z\"/><path d=\"M17.41 7.96l-1.37-1.37c-.4-.4-.92-.59-1.43-.59-.52 0-1.04.2-1.43.59L10.3 9.45l-7.72 7.72c-.78.78-.78 2.05 0 2.83L4 21.41c.39.39.9.59 1.41.59.51 0 1.02-.2 1.41-.59l7.78-7.78 2.81-2.81c.8-.78.8-2.07 0-2.86zM5.41 20L4 18.59l7.72-7.72 1.47 1.35L5.41 20z\"/>\n",
              "  </svg>\n",
              "      </button>\n",
              "      \n",
              "  <style>\n",
              "    .colab-df-container {\n",
              "      display:flex;\n",
              "      flex-wrap:wrap;\n",
              "      gap: 12px;\n",
              "    }\n",
              "\n",
              "    .colab-df-convert {\n",
              "      background-color: #E8F0FE;\n",
              "      border: none;\n",
              "      border-radius: 50%;\n",
              "      cursor: pointer;\n",
              "      display: none;\n",
              "      fill: #1967D2;\n",
              "      height: 32px;\n",
              "      padding: 0 0 0 0;\n",
              "      width: 32px;\n",
              "    }\n",
              "\n",
              "    .colab-df-convert:hover {\n",
              "      background-color: #E2EBFA;\n",
              "      box-shadow: 0px 1px 2px rgba(60, 64, 67, 0.3), 0px 1px 3px 1px rgba(60, 64, 67, 0.15);\n",
              "      fill: #174EA6;\n",
              "    }\n",
              "\n",
              "    [theme=dark] .colab-df-convert {\n",
              "      background-color: #3B4455;\n",
              "      fill: #D2E3FC;\n",
              "    }\n",
              "\n",
              "    [theme=dark] .colab-df-convert:hover {\n",
              "      background-color: #434B5C;\n",
              "      box-shadow: 0px 1px 3px 1px rgba(0, 0, 0, 0.15);\n",
              "      filter: drop-shadow(0px 1px 2px rgba(0, 0, 0, 0.3));\n",
              "      fill: #FFFFFF;\n",
              "    }\n",
              "  </style>\n",
              "\n",
              "      <script>\n",
              "        const buttonEl =\n",
              "          document.querySelector('#df-aeb24e03-b633-4831-99f7-a3acb77e4279 button.colab-df-convert');\n",
              "        buttonEl.style.display =\n",
              "          google.colab.kernel.accessAllowed ? 'block' : 'none';\n",
              "\n",
              "        async function convertToInteractive(key) {\n",
              "          const element = document.querySelector('#df-aeb24e03-b633-4831-99f7-a3acb77e4279');\n",
              "          const dataTable =\n",
              "            await google.colab.kernel.invokeFunction('convertToInteractive',\n",
              "                                                     [key], {});\n",
              "          if (!dataTable) return;\n",
              "\n",
              "          const docLinkHtml = 'Like what you see? Visit the ' +\n",
              "            '<a target=\"_blank\" href=https://colab.research.google.com/notebooks/data_table.ipynb>data table notebook</a>'\n",
              "            + ' to learn more about interactive tables.';\n",
              "          element.innerHTML = '';\n",
              "          dataTable['output_type'] = 'display_data';\n",
              "          await google.colab.output.renderOutput(dataTable, element);\n",
              "          const docLink = document.createElement('div');\n",
              "          docLink.innerHTML = docLinkHtml;\n",
              "          element.appendChild(docLink);\n",
              "        }\n",
              "      </script>\n",
              "    </div>\n",
              "  </div>\n",
              "  "
            ],
            "text/plain": [
              "       ladderScore         GDP  ...  generosity  perceptionCorrupt\n",
              "count   149.000000  149.000000  ...  149.000000         149.000000\n",
              "mean      5.532839    9.432208  ...   -0.015134           0.727450\n",
              "std       1.073924    1.158601  ...    0.150657           0.179226\n",
              "min       2.523000    6.635000  ...   -0.288000           0.082000\n",
              "25%       4.852000    8.541000  ...   -0.126000           0.667000\n",
              "50%       5.534000    9.569000  ...   -0.036000           0.781000\n",
              "75%       6.255000   10.421000  ...    0.079000           0.845000\n",
              "max       7.842000   11.647000  ...    0.542000           0.939000\n",
              "\n",
              "[8 rows x 7 columns]"
            ]
          },
          "metadata": {},
          "execution_count": 9
        }
      ],
      "source": [
        "df.describe()"
      ]
    },
    {
      "cell_type": "markdown",
      "metadata": {
        "id": "O05y04fUM-b7"
      },
      "source": [
        "**EDA**"
      ]
    },
    {
      "cell_type": "markdown",
      "metadata": {
        "id": "FFC_diKgONr0"
      },
      "source": [
        "📌Batı Avrupa ve Kuzey Amerika bölgelerinin sağlıklı hayat yaşama beklentisi ve mutluluk skoru yüksek"
      ]
    },
    {
      "cell_type": "code",
      "execution_count": 10,
      "metadata": {
        "colab": {
          "base_uri": "https://localhost:8080/",
          "height": 382
        },
        "id": "mICNyDMXLj3h",
        "outputId": "8f63e4d8-995b-4c43-b588-91cf8bd0309d"
      },
      "outputs": [
        {
          "output_type": "execute_result",
          "data": {
            "text/plain": [
              "<seaborn.axisgrid.FacetGrid at 0x7f1998b1cbd0>"
            ]
          },
          "metadata": {},
          "execution_count": 10
        },
        {
          "output_type": "display_data",
          "data": {
            "image/png": "[encoded data removed]",
            "text/plain": [
              "<Figure size 612.975x360 with 1 Axes>"
            ]
          },
          "metadata": {}
        }
      ],
      "source": [
        "sns.set_theme()\n",
        "\n",
        "sns.relplot(\n",
        "    data=df,\n",
        "    x='ladderScore', \n",
        "    y='lifeExpect', \n",
        "    hue='regional')"
      ]
    },
    {
      "cell_type": "markdown",
      "metadata": {
        "id": "-e8keZite15_"
      },
      "source": [
        "📌Bölgesel olarak gruplandırma ve mutluluk skoruna göre sıralama"
      ]
    },
    {
      "cell_type": "code",
      "execution_count": 11,
      "metadata": {
        "colab": {
          "base_uri": "https://localhost:8080/",
          "height": 394
        },
        "id": "6U62eZH_XHNt",
        "outputId": "0418b0d1-5e9c-40e3-bc9c-6d0b99ec1808"
      },
      "outputs": [
        {
          "output_type": "execute_result",
          "data": {
            "text/html": [
              "\n",
              "  <div id=\"df-97aa4bf0-58e5-40b6-87cf-071b828dbedc\">\n",
              "    <div class=\"colab-df-container\">\n",
              "      <div>\n",
              "<style scoped>\n",
              "    .dataframe tbody tr th:only-of-type {\n",
              "        vertical-align: middle;\n",
              "    }\n",
              "\n",
              "    .dataframe tbody tr th {\n",
              "        vertical-align: top;\n",
              "    }\n",
              "\n",
              "    .dataframe thead th {\n",
              "        text-align: right;\n",
              "    }\n",
              "</style>\n",
              "<table border=\"1\" class=\"dataframe\">\n",
              "  <thead>\n",
              "    <tr style=\"text-align: right;\">\n",
              "      <th></th>\n",
              "      <th>ladderScore</th>\n",
              "      <th>GDP</th>\n",
              "      <th>socialSupport</th>\n",
              "      <th>lifeExpect</th>\n",
              "      <th>freedomChoices</th>\n",
              "      <th>generosity</th>\n",
              "      <th>perceptionCorrupt</th>\n",
              "    </tr>\n",
              "    <tr>\n",
              "      <th>regional</th>\n",
              "      <th></th>\n",
              "      <th></th>\n",
              "      <th></th>\n",
              "      <th></th>\n",
              "      <th></th>\n",
              "      <th></th>\n",
              "      <th></th>\n",
              "    </tr>\n",
              "  </thead>\n",
              "  <tbody>\n",
              "    <tr>\n",
              "      <th>South Asia</th>\n",
              "      <td>4.441857</td>\n",
              "      <td>8.682571</td>\n",
              "      <td>0.703429</td>\n",
              "      <td>62.681000</td>\n",
              "      <td>0.765000</td>\n",
              "      <td>0.042714</td>\n",
              "      <td>0.797429</td>\n",
              "    </tr>\n",
              "    <tr>\n",
              "      <th>Sub-Saharan Africa</th>\n",
              "      <td>4.494472</td>\n",
              "      <td>8.075194</td>\n",
              "      <td>0.696750</td>\n",
              "      <td>55.886472</td>\n",
              "      <td>0.723194</td>\n",
              "      <td>0.013444</td>\n",
              "      <td>0.765944</td>\n",
              "    </tr>\n",
              "    <tr>\n",
              "      <th>Middle East and North Africa</th>\n",
              "      <td>5.219765</td>\n",
              "      <td>9.666118</td>\n",
              "      <td>0.797647</td>\n",
              "      <td>65.609118</td>\n",
              "      <td>0.716471</td>\n",
              "      <td>-0.079765</td>\n",
              "      <td>0.762235</td>\n",
              "    </tr>\n",
              "    <tr>\n",
              "      <th>Southeast Asia</th>\n",
              "      <td>5.407556</td>\n",
              "      <td>9.421444</td>\n",
              "      <td>0.820333</td>\n",
              "      <td>64.888444</td>\n",
              "      <td>0.909000</td>\n",
              "      <td>0.156333</td>\n",
              "      <td>0.709111</td>\n",
              "    </tr>\n",
              "    <tr>\n",
              "      <th>Commonwealth of Independent States</th>\n",
              "      <td>5.467000</td>\n",
              "      <td>9.401833</td>\n",
              "      <td>0.872500</td>\n",
              "      <td>65.009500</td>\n",
              "      <td>0.816917</td>\n",
              "      <td>-0.036000</td>\n",
              "      <td>0.725083</td>\n",
              "    </tr>\n",
              "    <tr>\n",
              "      <th>East Asia</th>\n",
              "      <td>5.810333</td>\n",
              "      <td>10.367667</td>\n",
              "      <td>0.860500</td>\n",
              "      <td>71.252167</td>\n",
              "      <td>0.763500</td>\n",
              "      <td>-0.062333</td>\n",
              "      <td>0.683333</td>\n",
              "    </tr>\n",
              "    <tr>\n",
              "      <th>Latin America and Caribbean</th>\n",
              "      <td>5.908050</td>\n",
              "      <td>9.370000</td>\n",
              "      <td>0.839500</td>\n",
              "      <td>67.076050</td>\n",
              "      <td>0.831750</td>\n",
              "      <td>-0.067700</td>\n",
              "      <td>0.792600</td>\n",
              "    </tr>\n",
              "    <tr>\n",
              "      <th>Central and Eastern Europe</th>\n",
              "      <td>5.984765</td>\n",
              "      <td>10.109059</td>\n",
              "      <td>0.887412</td>\n",
              "      <td>68.338412</td>\n",
              "      <td>0.797059</td>\n",
              "      <td>-0.078941</td>\n",
              "      <td>0.850529</td>\n",
              "    </tr>\n",
              "    <tr>\n",
              "      <th>Western Europe</th>\n",
              "      <td>6.914905</td>\n",
              "      <td>10.822714</td>\n",
              "      <td>0.914476</td>\n",
              "      <td>73.033095</td>\n",
              "      <td>0.858714</td>\n",
              "      <td>-0.003190</td>\n",
              "      <td>0.523095</td>\n",
              "    </tr>\n",
              "    <tr>\n",
              "      <th>North America and ANZ</th>\n",
              "      <td>7.128500</td>\n",
              "      <td>10.809500</td>\n",
              "      <td>0.933500</td>\n",
              "      <td>72.325000</td>\n",
              "      <td>0.898750</td>\n",
              "      <td>0.120000</td>\n",
              "      <td>0.449250</td>\n",
              "    </tr>\n",
              "  </tbody>\n",
              "</table>\n",
              "</div>\n",
              "      <button class=\"colab-df-convert\" onclick=\"convertToInteractive('df-97aa4bf0-58e5-40b6-87cf-071b828dbedc')\"\n",
              "              title=\"Convert this dataframe to an interactive table.\"\n",
              "              style=\"display:none;\">\n",
              "        \n",
              "  <svg xmlns=\"http://www.w3.org/2000/svg\" height=\"24px\"viewBox=\"0 0 24 24\"\n",
              "       width=\"24px\">\n",
              "    <path d=\"M0 0h24v24H0V0z\" fill=\"none\"/>\n",
              "    <path d=\"M18.56 5.44l.94 2.06.94-2.06 2.06-.94-2.06-.94-.94-2.06-.94 2.06-2.06.94zm-11 1L8.5 8.5l.94-2.06 2.06-.94-2.06-.94L8.5 2.5l-.94 2.06-2.06.94zm10 10l.94 2.06.94-2.06 2.06-.94-2.06-.94-.94-2.06-.94 2.06-2.06.94z\"/><path d=\"M17.41 7.96l-1.37-1.37c-.4-.4-.92-.59-1.43-.59-.52 0-1.04.2-1.43.59L10.3 9.45l-7.72 7.72c-.78.78-.78 2.05 0 2.83L4 21.41c.39.39.9.59 1.41.59.51 0 1.02-.2 1.41-.59l7.78-7.78 2.81-2.81c.8-.78.8-2.07 0-2.86zM5.41 20L4 18.59l7.72-7.72 1.47 1.35L5.41 20z\"/>\n",
              "  </svg>\n",
              "      </button>\n",
              "      \n",
              "  <style>\n",
              "    .colab-df-container {\n",
              "      display:flex;\n",
              "      flex-wrap:wrap;\n",
              "      gap: 12px;\n",
              "    }\n",
              "\n",
              "    .colab-df-convert {\n",
              "      background-color: #E8F0FE;\n",
              "      border: none;\n",
              "      border-radius: 50%;\n",
              "      cursor: pointer;\n",
              "      display: none;\n",
              "      fill: #1967D2;\n",
              "      height: 32px;\n",
              "      padding: 0 0 0 0;\n",
              "      width: 32px;\n",
              "    }\n",
              "\n",
              "    .colab-df-convert:hover {\n",
              "      background-color: #E2EBFA;\n",
              "      box-shadow: 0px 1px 2px rgba(60, 64, 67, 0.3), 0px 1px 3px 1px rgba(60, 64, 67, 0.15);\n",
              "      fill: #174EA6;\n",
              "    }\n",
              "\n",
              "    [theme=dark] .colab-df-convert {\n",
              "      background-color: #3B4455;\n",
              "      fill: #D2E3FC;\n",
              "    }\n",
              "\n",
              "    [theme=dark] .colab-df-convert:hover {\n",
              "      background-color: #434B5C;\n",
              "      box-shadow: 0px 1px 3px 1px rgba(0, 0, 0, 0.15);\n",
              "      filter: drop-shadow(0px 1px 2px rgba(0, 0, 0, 0.3));\n",
              "      fill: #FFFFFF;\n",
              "    }\n",
              "  </style>\n",
              "\n",
              "      <script>\n",
              "        const buttonEl =\n",
              "          document.querySelector('#df-97aa4bf0-58e5-40b6-87cf-071b828dbedc button.colab-df-convert');\n",
              "        buttonEl.style.display =\n",
              "          google.colab.kernel.accessAllowed ? 'block' : 'none';\n",
              "\n",
              "        async function convertToInteractive(key) {\n",
              "          const element = document.querySelector('#df-97aa4bf0-58e5-40b6-87cf-071b828dbedc');\n",
              "          const dataTable =\n",
              "            await google.colab.kernel.invokeFunction('convertToInteractive',\n",
              "                                                     [key], {});\n",
              "          if (!dataTable) return;\n",
              "\n",
              "          const docLinkHtml = 'Like what you see? Visit the ' +\n",
              "            '<a target=\"_blank\" href=https://colab.research.google.com/notebooks/data_table.ipynb>data table notebook</a>'\n",
              "            + ' to learn more about interactive tables.';\n",
              "          element.innerHTML = '';\n",
              "          dataTable['output_type'] = 'display_data';\n",
              "          await google.colab.output.renderOutput(dataTable, element);\n",
              "          const docLink = document.createElement('div');\n",
              "          docLink.innerHTML = docLinkHtml;\n",
              "          element.appendChild(docLink);\n",
              "        }\n",
              "      </script>\n",
              "    </div>\n",
              "  </div>\n",
              "  "
            ],
            "text/plain": [
              "                                    ladderScore  ...  perceptionCorrupt\n",
              "regional                                         ...                   \n",
              "South Asia                             4.441857  ...           0.797429\n",
              "Sub-Saharan Africa                     4.494472  ...           0.765944\n",
              "Middle East and North Africa           5.219765  ...           0.762235\n",
              "Southeast Asia                         5.407556  ...           0.709111\n",
              "Commonwealth of Independent States     5.467000  ...           0.725083\n",
              "East Asia                              5.810333  ...           0.683333\n",
              "Latin America and Caribbean            5.908050  ...           0.792600\n",
              "Central and Eastern Europe             5.984765  ...           0.850529\n",
              "Western Europe                         6.914905  ...           0.523095\n",
              "North America and ANZ                  7.128500  ...           0.449250\n",
              "\n",
              "[10 rows x 7 columns]"
            ]
          },
          "metadata": {},
          "execution_count": 11
        }
      ],
      "source": [
        "df.groupby(['regional']).mean().sort_values('ladderScore')"
      ]
    },
    {
      "cell_type": "markdown",
      "metadata": {
        "id": "ogWXUQwTeCWs"
      },
      "source": [
        "📌Ülke bazında Mutluluk düzeyi (../8) <br>\n",
        "  Finlandiya : 7.84 <br>\n",
        "Türkiye : 4.94 <br>\n",
        "Afganistan : 2.52 "
      ]
    },
    {
      "cell_type": "code",
      "execution_count": 12,
      "metadata": {
        "colab": {
          "base_uri": "https://localhost:8080/",
          "height": 542
        },
        "id": "ZqLR9zgOSlnC",
        "outputId": "4c35c137-0cc9-4ec0-e009-82d752c809c9"
      },
      "outputs": [
        {
          "output_type": "display_data",
          "data": {
            "text/html": [
              "<html>\n",
              "<head><meta charset=\"utf-8\" /></head>\n",
              "<body>\n",
              "    <div>            <script src=\"https://cdnjs.cloudflare.com/ajax/libs/mathjax/2.7.5/MathJax.js?config=TeX-AMS-MML_SVG\"></script><script type=\"text/javascript\">if (window.MathJax) {MathJax.Hub.Config({SVG: {font: \"STIX-Web\"}});}</script>                <script type=\"text/javascript\">window.PlotlyConfig = {MathJaxConfig: 'local'};</script>\n",
              "        <script src=\"https://cdn.plot.ly/plotly-2.8.3.min.js\"></script>                <div id=\"a80d127c-324d-45c1-8adb-cea3abaada5e\" class=\"plotly-graph-div\" style=\"height:525px; width:100%;\"></div>            <script type=\"text/javascript\">                                    window.PLOTLYENV=window.PLOTLYENV || {};                                    if (document.getElementById(\"a80d127c-324d-45c1-8adb-cea3abaada5e\")) {                    Plotly.newPlot(                        \"a80d127c-324d-45c1-8adb-cea3abaada5e\",                        [{\"coloraxis\":\"coloraxis\",\"geo\":\"geo\",\"hovertemplate\":\"country=%{location}<br>ladderScore=%{z}<extra></extra>\",\"locationmode\":\"country names\",\"locations\":[\"Finland\",\"Denmark\",\"Switzerland\",\"Iceland\",\"Netherlands\",\"Norway\",\"Sweden\",\"Luxembourg\",\"New Zealand\",\"Austria\",\"Australia\",\"Israel\",\"Germany\",\"Canada\",\"Ireland\",\"Costa Rica\",\"United Kingdom\",\"Czech Republic\",\"United States\",\"Belgium\",\"France\",\"Bahrain\",\"Malta\",\"Taiwan Province of China\",\"United Arab Emirates\",\"Saudi Arabia\",\"Spain\",\"Italy\",\"Slovenia\",\"Guatemala\",\"Uruguay\",\"Singapore\",\"Kosovo\",\"Slovakia\",\"Brazil\",\"Mexico\",\"Jamaica\",\"Lithuania\",\"Cyprus\",\"Estonia\",\"Panama\",\"Uzbekistan\",\"Chile\",\"Poland\",\"Kazakhstan\",\"Romania\",\"Kuwait\",\"Serbia\",\"El Salvador\",\"Mauritius\",\"Latvia\",\"Colombia\",\"Hungary\",\"Thailand\",\"Nicaragua\",\"Japan\",\"Argentina\",\"Portugal\",\"Honduras\",\"Croatia\",\"Philippines\",\"South Korea\",\"Peru\",\"Bosnia and Herzegovina\",\"Moldova\",\"Ecuador\",\"Kyrgyzstan\",\"Greece\",\"Bolivia\",\"Mongolia\",\"Paraguay\",\"Montenegro\",\"Dominican Republic\",\"North Cyprus\",\"Belarus\",\"Russia\",\"Hong Kong S.A.R. of China\",\"Tajikistan\",\"Vietnam\",\"Libya\",\"Malaysia\",\"Indonesia\",\"Congo (Brazzaville)\",\"China\",\"Ivory Coast\",\"Armenia\",\"Nepal\",\"Bulgaria\",\"Maldives\",\"Azerbaijan\",\"Cameroon\",\"Senegal\",\"Albania\",\"North Macedonia\",\"Ghana\",\"Niger\",\"Turkmenistan\",\"Gambia\",\"Benin\",\"Laos\",\"Bangladesh\",\"Guinea\",\"South Africa\",\"Turkey\",\"Pakistan\",\"Morocco\",\"Venezuela\",\"Georgia\",\"Algeria\",\"Ukraine\",\"Iraq\",\"Gabon\",\"Burkina Faso\",\"Cambodia\",\"Mozambique\",\"Nigeria\",\"Mali\",\"Iran\",\"Uganda\",\"Liberia\",\"Kenya\",\"Tunisia\",\"Lebanon\",\"Namibia\",\"Palestinian Territories\",\"Myanmar\",\"Jordan\",\"Chad\",\"Sri Lanka\",\"Swaziland\",\"Comoros\",\"Egypt\",\"Ethiopia\",\"Mauritania\",\"Madagascar\",\"Togo\",\"Zambia\",\"Sierra Leone\",\"India\",\"Burundi\",\"Yemen\",\"Tanzania\",\"Haiti\",\"Malawi\",\"Lesotho\",\"Botswana\",\"Rwanda\",\"Zimbabwe\",\"Afghanistan\"],\"name\":\"\",\"z\":[7.842,7.62,7.571,7.554,7.464,7.392,7.363,7.324,7.277,7.268,7.183,7.157,7.155,7.103,7.085,7.069,7.064,6.965,6.951,6.834,6.69,6.647,6.602,6.584,6.561,6.494,6.491,6.483,6.461,6.435,6.431,6.377,6.372,6.331,6.33,6.317,6.309,6.255,6.223,6.189,6.18,6.179,6.172,6.166,6.152,6.14,6.106,6.078,6.061,6.049,6.032,6.012,5.992,5.985,5.972,5.94,5.929,5.929,5.919,5.882,5.88,5.845,5.84,5.813,5.766,5.764,5.744,5.723,5.716,5.677,5.653,5.581,5.545,5.536,5.534,5.477,5.477,5.466,5.411,5.41,5.384,5.345,5.342,5.339,5.306,5.283,5.269,5.266,5.198,5.171,5.142,5.132,5.117,5.101,5.088,5.074,5.066,5.051,5.045,5.03,5.025,4.984,4.956,4.948,4.934,4.918,4.892,4.891,4.887,4.875,4.854,4.852,4.834,4.83,4.794,4.759,4.723,4.721,4.636,4.625,4.607,4.596,4.584,4.574,4.517,4.426,4.395,4.355,4.325,4.308,4.289,4.283,4.275,4.227,4.208,4.107,4.073,3.849,3.819,3.775,3.658,3.623,3.615,3.6,3.512,3.467,3.415,3.145,2.523],\"type\":\"choropleth\"}],                        {\"template\":{\"data\":{\"bar\":[{\"error_x\":{\"color\":\"#2a3f5f\"},\"error_y\":{\"color\":\"#2a3f5f\"},\"marker\":{\"line\":{\"color\":\"#E5ECF6\",\"width\":0.5},\"pattern\":{\"fillmode\":\"overlay\",\"size\":10,\"solidity\":0.2}},\"type\":\"bar\"}],\"barpolar\":[{\"marker\":{\"line\":{\"color\":\"#E5ECF6\",\"width\":0.5},\"pattern\":{\"fillmode\":\"overlay\",\"size\":10,\"solidity\":0.2}},\"type\":\"barpolar\"}],\"carpet\":[{\"aaxis\":{\"endlinecolor\":\"#2a3f5f\",\"gridcolor\":\"white\",\"linecolor\":\"white\",\"minorgridcolor\":\"white\",\"startlinecolor\":\"#2a3f5f\"},\"baxis\":{\"endlinecolor\":\"#2a3f5f\",\"gridcolor\":\"white\",\"linecolor\":\"white\",\"minorgridcolor\":\"white\",\"startlinecolor\":\"#2a3f5f\"},\"type\":\"carpet\"}],\"choropleth\":[{\"colorbar\":{\"outlinewidth\":0,\"ticks\":\"\"},\"type\":\"choropleth\"}],\"contour\":[{\"colorbar\":{\"outlinewidth\":0,\"ticks\":\"\"},\"colorscale\":[[0.0,\"#0d0887\"],[0.1111111111111111,\"#46039f\"],[0.2222222222222222,\"#7201a8\"],[0.3333333333333333,\"#9c179e\"],[0.4444444444444444,\"#bd3786\"],[0.5555555555555556,\"#d8576b\"],[0.6666666666666666,\"#ed7953\"],[0.7777777777777778,\"#fb9f3a\"],[0.8888888888888888,\"#fdca26\"],[1.0,\"#f0f921\"]],\"type\":\"contour\"}],\"contourcarpet\":[{\"colorbar\":{\"outlinewidth\":0,\"ticks\":\"\"},\"type\":\"contourcarpet\"}],\"heatmap\":[{\"colorbar\":{\"outlinewidth\":0,\"ticks\":\"\"},\"colorscale\":[[0.0,\"#0d0887\"],[0.1111111111111111,\"#46039f\"],[0.2222222222222222,\"#7201a8\"],[0.3333333333333333,\"#9c179e\"],[0.4444444444444444,\"#bd3786\"],[0.5555555555555556,\"#d8576b\"],[0.6666666666666666,\"#ed7953\"],[0.7777777777777778,\"#fb9f3a\"],[0.8888888888888888,\"#fdca26\"],[1.0,\"#f0f921\"]],\"type\":\"heatmap\"}],\"heatmapgl\":[{\"colorbar\":{\"outlinewidth\":0,\"ticks\":\"\"},\"colorscale\":[[0.0,\"#0d0887\"],[0.1111111111111111,\"#46039f\"],[0.2222222222222222,\"#7201a8\"],[0.3333333333333333,\"#9c179e\"],[0.4444444444444444,\"#bd3786\"],[0.5555555555555556,\"#d8576b\"],[0.6666666666666666,\"#ed7953\"],[0.7777777777777778,\"#fb9f3a\"],[0.8888888888888888,\"#fdca26\"],[1.0,\"#f0f921\"]],\"type\":\"heatmapgl\"}],\"histogram\":[{\"marker\":{\"pattern\":{\"fillmode\":\"overlay\",\"size\":10,\"solidity\":0.2}},\"type\":\"histogram\"}],\"histogram2d\":[{\"colorbar\":{\"outlinewidth\":0,\"ticks\":\"\"},\"colorscale\":[[0.0,\"#0d0887\"],[0.1111111111111111,\"#46039f\"],[0.2222222222222222,\"#7201a8\"],[0.3333333333333333,\"#9c179e\"],[0.4444444444444444,\"#bd3786\"],[0.5555555555555556,\"#d8576b\"],[0.6666666666666666,\"#ed7953\"],[0.7777777777777778,\"#fb9f3a\"],[0.8888888888888888,\"#fdca26\"],[1.0,\"#f0f921\"]],\"type\":\"histogram2d\"}],\"histogram2dcontour\":[{\"colorbar\":{\"outlinewidth\":0,\"ticks\":\"\"},\"colorscale\":[[0.0,\"#0d0887\"],[0.1111111111111111,\"#46039f\"],[0.2222222222222222,\"#7201a8\"],[0.3333333333333333,\"#9c179e\"],[0.4444444444444444,\"#bd3786\"],[0.5555555555555556,\"#d8576b\"],[0.6666666666666666,\"#ed7953\"],[0.7777777777777778,\"#fb9f3a\"],[0.8888888888888888,\"#fdca26\"],[1.0,\"#f0f921\"]],\"type\":\"histogram2dcontour\"}],\"mesh3d\":[{\"colorbar\":{\"outlinewidth\":0,\"ticks\":\"\"},\"type\":\"mesh3d\"}],\"parcoords\":[{\"line\":{\"colorbar\":{\"outlinewidth\":0,\"ticks\":\"\"}},\"type\":\"parcoords\"}],\"pie\":[{\"automargin\":true,\"type\":\"pie\"}],\"scatter\":[{\"marker\":{\"colorbar\":{\"outlinewidth\":0,\"ticks\":\"\"}},\"type\":\"scatter\"}],\"scatter3d\":[{\"line\":{\"colorbar\":{\"outlinewidth\":0,\"ticks\":\"\"}},\"marker\":{\"colorbar\":{\"outlinewidth\":0,\"ticks\":\"\"}},\"type\":\"scatter3d\"}],\"scattercarpet\":[{\"marker\":{\"colorbar\":{\"outlinewidth\":0,\"ticks\":\"\"}},\"type\":\"scattercarpet\"}],\"scattergeo\":[{\"marker\":{\"colorbar\":{\"outlinewidth\":0,\"ticks\":\"\"}},\"type\":\"scattergeo\"}],\"scattergl\":[{\"marker\":{\"colorbar\":{\"outlinewidth\":0,\"ticks\":\"\"}},\"type\":\"scattergl\"}],\"scattermapbox\":[{\"marker\":{\"colorbar\":{\"outlinewidth\":0,\"ticks\":\"\"}},\"type\":\"scattermapbox\"}],\"scatterpolar\":[{\"marker\":{\"colorbar\":{\"outlinewidth\":0,\"ticks\":\"\"}},\"type\":\"scatterpolar\"}],\"scatterpolargl\":[{\"marker\":{\"colorbar\":{\"outlinewidth\":0,\"ticks\":\"\"}},\"type\":\"scatterpolargl\"}],\"scatterternary\":[{\"marker\":{\"colorbar\":{\"outlinewidth\":0,\"ticks\":\"\"}},\"type\":\"scatterternary\"}],\"surface\":[{\"colorbar\":{\"outlinewidth\":0,\"ticks\":\"\"},\"colorscale\":[[0.0,\"#0d0887\"],[0.1111111111111111,\"#46039f\"],[0.2222222222222222,\"#7201a8\"],[0.3333333333333333,\"#9c179e\"],[0.4444444444444444,\"#bd3786\"],[0.5555555555555556,\"#d8576b\"],[0.6666666666666666,\"#ed7953\"],[0.7777777777777778,\"#fb9f3a\"],[0.8888888888888888,\"#fdca26\"],[1.0,\"#f0f921\"]],\"type\":\"surface\"}],\"table\":[{\"cells\":{\"fill\":{\"color\":\"#EBF0F8\"},\"line\":{\"color\":\"white\"}},\"header\":{\"fill\":{\"color\":\"#C8D4E3\"},\"line\":{\"color\":\"white\"}},\"type\":\"table\"}]},\"layout\":{\"annotationdefaults\":{\"arrowcolor\":\"#2a3f5f\",\"arrowhead\":0,\"arrowwidth\":1},\"autotypenumbers\":\"strict\",\"coloraxis\":{\"colorbar\":{\"outlinewidth\":0,\"ticks\":\"\"}},\"colorscale\":{\"diverging\":[[0,\"#8e0152\"],[0.1,\"#c51b7d\"],[0.2,\"#de77ae\"],[0.3,\"#f1b6da\"],[0.4,\"#fde0ef\"],[0.5,\"#f7f7f7\"],[0.6,\"#e6f5d0\"],[0.7,\"#b8e186\"],[0.8,\"#7fbc41\"],[0.9,\"#4d9221\"],[1,\"#276419\"]],\"sequential\":[[0.0,\"#0d0887\"],[0.1111111111111111,\"#46039f\"],[0.2222222222222222,\"#7201a8\"],[0.3333333333333333,\"#9c179e\"],[0.4444444444444444,\"#bd3786\"],[0.5555555555555556,\"#d8576b\"],[0.6666666666666666,\"#ed7953\"],[0.7777777777777778,\"#fb9f3a\"],[0.8888888888888888,\"#fdca26\"],[1.0,\"#f0f921\"]],\"sequentialminus\":[[0.0,\"#0d0887\"],[0.1111111111111111,\"#46039f\"],[0.2222222222222222,\"#7201a8\"],[0.3333333333333333,\"#9c179e\"],[0.4444444444444444,\"#bd3786\"],[0.5555555555555556,\"#d8576b\"],[0.6666666666666666,\"#ed7953\"],[0.7777777777777778,\"#fb9f3a\"],[0.8888888888888888,\"#fdca26\"],[1.0,\"#f0f921\"]]},\"colorway\":[\"#636efa\",\"#EF553B\",\"#00cc96\",\"#ab63fa\",\"#FFA15A\",\"#19d3f3\",\"#FF6692\",\"#B6E880\",\"#FF97FF\",\"#FECB52\"],\"font\":{\"color\":\"#2a3f5f\"},\"geo\":{\"bgcolor\":\"white\",\"lakecolor\":\"white\",\"landcolor\":\"#E5ECF6\",\"showlakes\":true,\"showland\":true,\"subunitcolor\":\"white\"},\"hoverlabel\":{\"align\":\"left\"},\"hovermode\":\"closest\",\"mapbox\":{\"style\":\"light\"},\"paper_bgcolor\":\"white\",\"plot_bgcolor\":\"#E5ECF6\",\"polar\":{\"angularaxis\":{\"gridcolor\":\"white\",\"linecolor\":\"white\",\"ticks\":\"\"},\"bgcolor\":\"#E5ECF6\",\"radialaxis\":{\"gridcolor\":\"white\",\"linecolor\":\"white\",\"ticks\":\"\"}},\"scene\":{\"xaxis\":{\"backgroundcolor\":\"#E5ECF6\",\"gridcolor\":\"white\",\"gridwidth\":2,\"linecolor\":\"white\",\"showbackground\":true,\"ticks\":\"\",\"zerolinecolor\":\"white\"},\"yaxis\":{\"backgroundcolor\":\"#E5ECF6\",\"gridcolor\":\"white\",\"gridwidth\":2,\"linecolor\":\"white\",\"showbackground\":true,\"ticks\":\"\",\"zerolinecolor\":\"white\"},\"zaxis\":{\"backgroundcolor\":\"#E5ECF6\",\"gridcolor\":\"white\",\"gridwidth\":2,\"linecolor\":\"white\",\"showbackground\":true,\"ticks\":\"\",\"zerolinecolor\":\"white\"}},\"shapedefaults\":{\"line\":{\"color\":\"#2a3f5f\"}},\"ternary\":{\"aaxis\":{\"gridcolor\":\"white\",\"linecolor\":\"white\",\"ticks\":\"\"},\"baxis\":{\"gridcolor\":\"white\",\"linecolor\":\"white\",\"ticks\":\"\"},\"bgcolor\":\"#E5ECF6\",\"caxis\":{\"gridcolor\":\"white\",\"linecolor\":\"white\",\"ticks\":\"\"}},\"title\":{\"x\":0.05},\"xaxis\":{\"automargin\":true,\"gridcolor\":\"white\",\"linecolor\":\"white\",\"ticks\":\"\",\"title\":{\"standoff\":15},\"zerolinecolor\":\"white\",\"zerolinewidth\":2},\"yaxis\":{\"automargin\":true,\"gridcolor\":\"white\",\"linecolor\":\"white\",\"ticks\":\"\",\"title\":{\"standoff\":15},\"zerolinecolor\":\"white\",\"zerolinewidth\":2}}},\"geo\":{\"domain\":{\"x\":[0.0,1.0],\"y\":[0.0,1.0]},\"center\":{}},\"coloraxis\":{\"colorbar\":{\"title\":{\"text\":\"ladderScore\"}},\"colorscale\":[[0.0,\"#0d0887\"],[0.1111111111111111,\"#46039f\"],[0.2222222222222222,\"#7201a8\"],[0.3333333333333333,\"#9c179e\"],[0.4444444444444444,\"#bd3786\"],[0.5555555555555556,\"#d8576b\"],[0.6666666666666666,\"#ed7953\"],[0.7777777777777778,\"#fb9f3a\"],[0.8888888888888888,\"#fdca26\"],[1.0,\"#f0f921\"]]},\"legend\":{\"tracegroupgap\":0},\"margin\":{\"t\":60},\"title\":{\"text\":\"Happiness score Comparison by Countries\"}},                        {\"responsive\": true}                    ).then(function(){\n",
              "                            \n",
              "var gd = document.getElementById('a80d127c-324d-45c1-8adb-cea3abaada5e');\n",
              "var x = new MutationObserver(function (mutations, observer) {{\n",
              "        var display = window.getComputedStyle(gd).display;\n",
              "        if (!display || display === 'none') {{\n",
              "            console.log([gd, 'removed!']);\n",
              "            Plotly.purge(gd);\n",
              "            observer.disconnect();\n",
              "        }}\n",
              "}});\n",
              "\n",
              "// Listen for the removal of the full notebook cells\n",
              "var notebookContainer = gd.closest('#notebook-container');\n",
              "if (notebookContainer) {{\n",
              "    x.observe(notebookContainer, {childList: true});\n",
              "}}\n",
              "\n",
              "// Listen for the clearing of the current output cell\n",
              "var outputEl = gd.closest('.output');\n",
              "if (outputEl) {{\n",
              "    x.observe(outputEl, {childList: true});\n",
              "}}\n",
              "\n",
              "                        })                };                            </script>        </div>\n",
              "</body>\n",
              "</html>"
            ]
          },
          "metadata": {}
        }
      ],
      "source": [
        "fig = px.choropleth(df,\n",
        "                    locations = \"country\",\n",
        "                    color = \"ladderScore\",\n",
        "                    locationmode = \"country names\"\n",
        "                   );\n",
        "fig.update_layout(title = \"Happiness score Comparison by Countries\");\n",
        "fig.show();"
      ]
    },
    {
      "cell_type": "code",
      "execution_count": 13,
      "metadata": {
        "colab": {
          "base_uri": "https://localhost:8080/",
          "height": 617
        },
        "id": "i56ilxlmkjxi",
        "outputId": "20ecff21-9d24-43cb-bb22-4346b1f05fd3"
      },
      "outputs": [
        {
          "output_type": "display_data",
          "data": {
            "text/html": [
              "<html>\n",
              "<head><meta charset=\"utf-8\" /></head>\n",
              "<body>\n",
              "    <div>            <script src=\"https://cdnjs.cloudflare.com/ajax/libs/mathjax/2.7.5/MathJax.js?config=TeX-AMS-MML_SVG\"></script><script type=\"text/javascript\">if (window.MathJax) {MathJax.Hub.Config({SVG: {font: \"STIX-Web\"}});}</script>                <script type=\"text/javascript\">window.PlotlyConfig = {MathJaxConfig: 'local'};</script>\n",
              "        <script src=\"https://cdn.plot.ly/plotly-2.8.3.min.js\"></script>                <div id=\"7fda69b0-24af-4962-8ab2-1399ab78e88b\" class=\"plotly-graph-div\" style=\"height:600px; width:100%;\"></div>            <script type=\"text/javascript\">                                    window.PLOTLYENV=window.PLOTLYENV || {};                                    if (document.getElementById(\"7fda69b0-24af-4962-8ab2-1399ab78e88b\")) {                    Plotly.newPlot(                        \"7fda69b0-24af-4962-8ab2-1399ab78e88b\",                        [{\"alignmentgroup\":\"True\",\"hovertemplate\":\"country=%{x}<br>ladderScore=%{y}<extra></extra>\",\"legendgroup\":\"Finland\",\"marker\":{\"color\":\"#636efa\",\"pattern\":{\"shape\":\"\"}},\"name\":\"Finland\",\"offsetgroup\":\"Finland\",\"orientation\":\"v\",\"showlegend\":true,\"textposition\":\"auto\",\"x\":[\"Finland\"],\"xaxis\":\"x\",\"y\":[7.842],\"yaxis\":\"y\",\"type\":\"bar\"},{\"alignmentgroup\":\"True\",\"hovertemplate\":\"country=%{x}<br>ladderScore=%{y}<extra></extra>\",\"legendgroup\":\"Denmark\",\"marker\":{\"color\":\"#EF553B\",\"pattern\":{\"shape\":\"\"}},\"name\":\"Denmark\",\"offsetgroup\":\"Denmark\",\"orientation\":\"v\",\"showlegend\":true,\"textposition\":\"auto\",\"x\":[\"Denmark\"],\"xaxis\":\"x\",\"y\":[7.62],\"yaxis\":\"y\",\"type\":\"bar\"},{\"alignmentgroup\":\"True\",\"hovertemplate\":\"country=%{x}<br>ladderScore=%{y}<extra></extra>\",\"legendgroup\":\"Switzerland\",\"marker\":{\"color\":\"#00cc96\",\"pattern\":{\"shape\":\"\"}},\"name\":\"Switzerland\",\"offsetgroup\":\"Switzerland\",\"orientation\":\"v\",\"showlegend\":true,\"textposition\":\"auto\",\"x\":[\"Switzerland\"],\"xaxis\":\"x\",\"y\":[7.571],\"yaxis\":\"y\",\"type\":\"bar\"},{\"alignmentgroup\":\"True\",\"hovertemplate\":\"country=%{x}<br>ladderScore=%{y}<extra></extra>\",\"legendgroup\":\"Iceland\",\"marker\":{\"color\":\"#ab63fa\",\"pattern\":{\"shape\":\"\"}},\"name\":\"Iceland\",\"offsetgroup\":\"Iceland\",\"orientation\":\"v\",\"showlegend\":true,\"textposition\":\"auto\",\"x\":[\"Iceland\"],\"xaxis\":\"x\",\"y\":[7.554],\"yaxis\":\"y\",\"type\":\"bar\"},{\"alignmentgroup\":\"True\",\"hovertemplate\":\"country=%{x}<br>ladderScore=%{y}<extra></extra>\",\"legendgroup\":\"Netherlands\",\"marker\":{\"color\":\"#FFA15A\",\"pattern\":{\"shape\":\"\"}},\"name\":\"Netherlands\",\"offsetgroup\":\"Netherlands\",\"orientation\":\"v\",\"showlegend\":true,\"textposition\":\"auto\",\"x\":[\"Netherlands\"],\"xaxis\":\"x\",\"y\":[7.464],\"yaxis\":\"y\",\"type\":\"bar\"},{\"alignmentgroup\":\"True\",\"hovertemplate\":\"country=%{x}<br>ladderScore=%{y}<extra></extra>\",\"legendgroup\":\"Norway\",\"marker\":{\"color\":\"#19d3f3\",\"pattern\":{\"shape\":\"\"}},\"name\":\"Norway\",\"offsetgroup\":\"Norway\",\"orientation\":\"v\",\"showlegend\":true,\"textposition\":\"auto\",\"x\":[\"Norway\"],\"xaxis\":\"x\",\"y\":[7.392],\"yaxis\":\"y\",\"type\":\"bar\"},{\"alignmentgroup\":\"True\",\"hovertemplate\":\"country=%{x}<br>ladderScore=%{y}<extra></extra>\",\"legendgroup\":\"Sweden\",\"marker\":{\"color\":\"#FF6692\",\"pattern\":{\"shape\":\"\"}},\"name\":\"Sweden\",\"offsetgroup\":\"Sweden\",\"orientation\":\"v\",\"showlegend\":true,\"textposition\":\"auto\",\"x\":[\"Sweden\"],\"xaxis\":\"x\",\"y\":[7.363],\"yaxis\":\"y\",\"type\":\"bar\"},{\"alignmentgroup\":\"True\",\"hovertemplate\":\"country=%{x}<br>ladderScore=%{y}<extra></extra>\",\"legendgroup\":\"Luxembourg\",\"marker\":{\"color\":\"#B6E880\",\"pattern\":{\"shape\":\"\"}},\"name\":\"Luxembourg\",\"offsetgroup\":\"Luxembourg\",\"orientation\":\"v\",\"showlegend\":true,\"textposition\":\"auto\",\"x\":[\"Luxembourg\"],\"xaxis\":\"x\",\"y\":[7.324],\"yaxis\":\"y\",\"type\":\"bar\"},{\"alignmentgroup\":\"True\",\"hovertemplate\":\"country=%{x}<br>ladderScore=%{y}<extra></extra>\",\"legendgroup\":\"New Zealand\",\"marker\":{\"color\":\"#FF97FF\",\"pattern\":{\"shape\":\"\"}},\"name\":\"New Zealand\",\"offsetgroup\":\"New Zealand\",\"orientation\":\"v\",\"showlegend\":true,\"textposition\":\"auto\",\"x\":[\"New Zealand\"],\"xaxis\":\"x\",\"y\":[7.277],\"yaxis\":\"y\",\"type\":\"bar\"},{\"alignmentgroup\":\"True\",\"hovertemplate\":\"country=%{x}<br>ladderScore=%{y}<extra></extra>\",\"legendgroup\":\"Austria\",\"marker\":{\"color\":\"#FECB52\",\"pattern\":{\"shape\":\"\"}},\"name\":\"Austria\",\"offsetgroup\":\"Austria\",\"orientation\":\"v\",\"showlegend\":true,\"textposition\":\"auto\",\"x\":[\"Austria\"],\"xaxis\":\"x\",\"y\":[7.268],\"yaxis\":\"y\",\"type\":\"bar\"},{\"alignmentgroup\":\"True\",\"hovertemplate\":\"country=%{x}<br>ladderScore=%{y}<extra></extra>\",\"legendgroup\":\"Australia\",\"marker\":{\"color\":\"#636efa\",\"pattern\":{\"shape\":\"\"}},\"name\":\"Australia\",\"offsetgroup\":\"Australia\",\"orientation\":\"v\",\"showlegend\":true,\"textposition\":\"auto\",\"x\":[\"Australia\"],\"xaxis\":\"x\",\"y\":[7.183],\"yaxis\":\"y\",\"type\":\"bar\"},{\"alignmentgroup\":\"True\",\"hovertemplate\":\"country=%{x}<br>ladderScore=%{y}<extra></extra>\",\"legendgroup\":\"Israel\",\"marker\":{\"color\":\"#EF553B\",\"pattern\":{\"shape\":\"\"}},\"name\":\"Israel\",\"offsetgroup\":\"Israel\",\"orientation\":\"v\",\"showlegend\":true,\"textposition\":\"auto\",\"x\":[\"Israel\"],\"xaxis\":\"x\",\"y\":[7.157],\"yaxis\":\"y\",\"type\":\"bar\"},{\"alignmentgroup\":\"True\",\"hovertemplate\":\"country=%{x}<br>ladderScore=%{y}<extra></extra>\",\"legendgroup\":\"Germany\",\"marker\":{\"color\":\"#00cc96\",\"pattern\":{\"shape\":\"\"}},\"name\":\"Germany\",\"offsetgroup\":\"Germany\",\"orientation\":\"v\",\"showlegend\":true,\"textposition\":\"auto\",\"x\":[\"Germany\"],\"xaxis\":\"x\",\"y\":[7.155],\"yaxis\":\"y\",\"type\":\"bar\"},{\"alignmentgroup\":\"True\",\"hovertemplate\":\"country=%{x}<br>ladderScore=%{y}<extra></extra>\",\"legendgroup\":\"Canada\",\"marker\":{\"color\":\"#ab63fa\",\"pattern\":{\"shape\":\"\"}},\"name\":\"Canada\",\"offsetgroup\":\"Canada\",\"orientation\":\"v\",\"showlegend\":true,\"textposition\":\"auto\",\"x\":[\"Canada\"],\"xaxis\":\"x\",\"y\":[7.103],\"yaxis\":\"y\",\"type\":\"bar\"},{\"alignmentgroup\":\"True\",\"hovertemplate\":\"country=%{x}<br>ladderScore=%{y}<extra></extra>\",\"legendgroup\":\"Ireland\",\"marker\":{\"color\":\"#FFA15A\",\"pattern\":{\"shape\":\"\"}},\"name\":\"Ireland\",\"offsetgroup\":\"Ireland\",\"orientation\":\"v\",\"showlegend\":true,\"textposition\":\"auto\",\"x\":[\"Ireland\"],\"xaxis\":\"x\",\"y\":[7.085],\"yaxis\":\"y\",\"type\":\"bar\"},{\"alignmentgroup\":\"True\",\"hovertemplate\":\"country=%{x}<br>ladderScore=%{y}<extra></extra>\",\"legendgroup\":\"Costa Rica\",\"marker\":{\"color\":\"#19d3f3\",\"pattern\":{\"shape\":\"\"}},\"name\":\"Costa Rica\",\"offsetgroup\":\"Costa Rica\",\"orientation\":\"v\",\"showlegend\":true,\"textposition\":\"auto\",\"x\":[\"Costa Rica\"],\"xaxis\":\"x\",\"y\":[7.069],\"yaxis\":\"y\",\"type\":\"bar\"},{\"alignmentgroup\":\"True\",\"hovertemplate\":\"country=%{x}<br>ladderScore=%{y}<extra></extra>\",\"legendgroup\":\"United Kingdom\",\"marker\":{\"color\":\"#FF6692\",\"pattern\":{\"shape\":\"\"}},\"name\":\"United Kingdom\",\"offsetgroup\":\"United Kingdom\",\"orientation\":\"v\",\"showlegend\":true,\"textposition\":\"auto\",\"x\":[\"United Kingdom\"],\"xaxis\":\"x\",\"y\":[7.064],\"yaxis\":\"y\",\"type\":\"bar\"},{\"alignmentgroup\":\"True\",\"hovertemplate\":\"country=%{x}<br>ladderScore=%{y}<extra></extra>\",\"legendgroup\":\"Czech Republic\",\"marker\":{\"color\":\"#B6E880\",\"pattern\":{\"shape\":\"\"}},\"name\":\"Czech Republic\",\"offsetgroup\":\"Czech Republic\",\"orientation\":\"v\",\"showlegend\":true,\"textposition\":\"auto\",\"x\":[\"Czech Republic\"],\"xaxis\":\"x\",\"y\":[6.965],\"yaxis\":\"y\",\"type\":\"bar\"},{\"alignmentgroup\":\"True\",\"hovertemplate\":\"country=%{x}<br>ladderScore=%{y}<extra></extra>\",\"legendgroup\":\"United States\",\"marker\":{\"color\":\"#FF97FF\",\"pattern\":{\"shape\":\"\"}},\"name\":\"United States\",\"offsetgroup\":\"United States\",\"orientation\":\"v\",\"showlegend\":true,\"textposition\":\"auto\",\"x\":[\"United States\"],\"xaxis\":\"x\",\"y\":[6.951],\"yaxis\":\"y\",\"type\":\"bar\"},{\"alignmentgroup\":\"True\",\"hovertemplate\":\"country=%{x}<br>ladderScore=%{y}<extra></extra>\",\"legendgroup\":\"Belgium\",\"marker\":{\"color\":\"#FECB52\",\"pattern\":{\"shape\":\"\"}},\"name\":\"Belgium\",\"offsetgroup\":\"Belgium\",\"orientation\":\"v\",\"showlegend\":true,\"textposition\":\"auto\",\"x\":[\"Belgium\"],\"xaxis\":\"x\",\"y\":[6.834],\"yaxis\":\"y\",\"type\":\"bar\"},{\"alignmentgroup\":\"True\",\"hovertemplate\":\"country=%{x}<br>ladderScore=%{y}<extra></extra>\",\"legendgroup\":\"France\",\"marker\":{\"color\":\"#636efa\",\"pattern\":{\"shape\":\"\"}},\"name\":\"France\",\"offsetgroup\":\"France\",\"orientation\":\"v\",\"showlegend\":true,\"textposition\":\"auto\",\"x\":[\"France\"],\"xaxis\":\"x\",\"y\":[6.69],\"yaxis\":\"y\",\"type\":\"bar\"},{\"alignmentgroup\":\"True\",\"hovertemplate\":\"country=%{x}<br>ladderScore=%{y}<extra></extra>\",\"legendgroup\":\"Bahrain\",\"marker\":{\"color\":\"#EF553B\",\"pattern\":{\"shape\":\"\"}},\"name\":\"Bahrain\",\"offsetgroup\":\"Bahrain\",\"orientation\":\"v\",\"showlegend\":true,\"textposition\":\"auto\",\"x\":[\"Bahrain\"],\"xaxis\":\"x\",\"y\":[6.647],\"yaxis\":\"y\",\"type\":\"bar\"},{\"alignmentgroup\":\"True\",\"hovertemplate\":\"country=%{x}<br>ladderScore=%{y}<extra></extra>\",\"legendgroup\":\"Malta\",\"marker\":{\"color\":\"#00cc96\",\"pattern\":{\"shape\":\"\"}},\"name\":\"Malta\",\"offsetgroup\":\"Malta\",\"orientation\":\"v\",\"showlegend\":true,\"textposition\":\"auto\",\"x\":[\"Malta\"],\"xaxis\":\"x\",\"y\":[6.602],\"yaxis\":\"y\",\"type\":\"bar\"},{\"alignmentgroup\":\"True\",\"hovertemplate\":\"country=%{x}<br>ladderScore=%{y}<extra></extra>\",\"legendgroup\":\"Taiwan Province of China\",\"marker\":{\"color\":\"#ab63fa\",\"pattern\":{\"shape\":\"\"}},\"name\":\"Taiwan Province of China\",\"offsetgroup\":\"Taiwan Province of China\",\"orientation\":\"v\",\"showlegend\":true,\"textposition\":\"auto\",\"x\":[\"Taiwan Province of China\"],\"xaxis\":\"x\",\"y\":[6.584],\"yaxis\":\"y\",\"type\":\"bar\"},{\"alignmentgroup\":\"True\",\"hovertemplate\":\"country=%{x}<br>ladderScore=%{y}<extra></extra>\",\"legendgroup\":\"United Arab Emirates\",\"marker\":{\"color\":\"#FFA15A\",\"pattern\":{\"shape\":\"\"}},\"name\":\"United Arab Emirates\",\"offsetgroup\":\"United Arab Emirates\",\"orientation\":\"v\",\"showlegend\":true,\"textposition\":\"auto\",\"x\":[\"United Arab Emirates\"],\"xaxis\":\"x\",\"y\":[6.561],\"yaxis\":\"y\",\"type\":\"bar\"},{\"alignmentgroup\":\"True\",\"hovertemplate\":\"country=%{x}<br>ladderScore=%{y}<extra></extra>\",\"legendgroup\":\"Saudi Arabia\",\"marker\":{\"color\":\"#19d3f3\",\"pattern\":{\"shape\":\"\"}},\"name\":\"Saudi Arabia\",\"offsetgroup\":\"Saudi Arabia\",\"orientation\":\"v\",\"showlegend\":true,\"textposition\":\"auto\",\"x\":[\"Saudi Arabia\"],\"xaxis\":\"x\",\"y\":[6.494],\"yaxis\":\"y\",\"type\":\"bar\"},{\"alignmentgroup\":\"True\",\"hovertemplate\":\"country=%{x}<br>ladderScore=%{y}<extra></extra>\",\"legendgroup\":\"Spain\",\"marker\":{\"color\":\"#FF6692\",\"pattern\":{\"shape\":\"\"}},\"name\":\"Spain\",\"offsetgroup\":\"Spain\",\"orientation\":\"v\",\"showlegend\":true,\"textposition\":\"auto\",\"x\":[\"Spain\"],\"xaxis\":\"x\",\"y\":[6.491],\"yaxis\":\"y\",\"type\":\"bar\"},{\"alignmentgroup\":\"True\",\"hovertemplate\":\"country=%{x}<br>ladderScore=%{y}<extra></extra>\",\"legendgroup\":\"Italy\",\"marker\":{\"color\":\"#B6E880\",\"pattern\":{\"shape\":\"\"}},\"name\":\"Italy\",\"offsetgroup\":\"Italy\",\"orientation\":\"v\",\"showlegend\":true,\"textposition\":\"auto\",\"x\":[\"Italy\"],\"xaxis\":\"x\",\"y\":[6.483],\"yaxis\":\"y\",\"type\":\"bar\"},{\"alignmentgroup\":\"True\",\"hovertemplate\":\"country=%{x}<br>ladderScore=%{y}<extra></extra>\",\"legendgroup\":\"Slovenia\",\"marker\":{\"color\":\"#FF97FF\",\"pattern\":{\"shape\":\"\"}},\"name\":\"Slovenia\",\"offsetgroup\":\"Slovenia\",\"orientation\":\"v\",\"showlegend\":true,\"textposition\":\"auto\",\"x\":[\"Slovenia\"],\"xaxis\":\"x\",\"y\":[6.461],\"yaxis\":\"y\",\"type\":\"bar\"},{\"alignmentgroup\":\"True\",\"hovertemplate\":\"country=%{x}<br>ladderScore=%{y}<extra></extra>\",\"legendgroup\":\"Guatemala\",\"marker\":{\"color\":\"#FECB52\",\"pattern\":{\"shape\":\"\"}},\"name\":\"Guatemala\",\"offsetgroup\":\"Guatemala\",\"orientation\":\"v\",\"showlegend\":true,\"textposition\":\"auto\",\"x\":[\"Guatemala\"],\"xaxis\":\"x\",\"y\":[6.435],\"yaxis\":\"y\",\"type\":\"bar\"},{\"alignmentgroup\":\"True\",\"hovertemplate\":\"country=%{x}<br>ladderScore=%{y}<extra></extra>\",\"legendgroup\":\"Uruguay\",\"marker\":{\"color\":\"#636efa\",\"pattern\":{\"shape\":\"\"}},\"name\":\"Uruguay\",\"offsetgroup\":\"Uruguay\",\"orientation\":\"v\",\"showlegend\":true,\"textposition\":\"auto\",\"x\":[\"Uruguay\"],\"xaxis\":\"x\",\"y\":[6.431],\"yaxis\":\"y\",\"type\":\"bar\"},{\"alignmentgroup\":\"True\",\"hovertemplate\":\"country=%{x}<br>ladderScore=%{y}<extra></extra>\",\"legendgroup\":\"Singapore\",\"marker\":{\"color\":\"#EF553B\",\"pattern\":{\"shape\":\"\"}},\"name\":\"Singapore\",\"offsetgroup\":\"Singapore\",\"orientation\":\"v\",\"showlegend\":true,\"textposition\":\"auto\",\"x\":[\"Singapore\"],\"xaxis\":\"x\",\"y\":[6.377],\"yaxis\":\"y\",\"type\":\"bar\"},{\"alignmentgroup\":\"True\",\"hovertemplate\":\"country=%{x}<br>ladderScore=%{y}<extra></extra>\",\"legendgroup\":\"Kosovo\",\"marker\":{\"color\":\"#00cc96\",\"pattern\":{\"shape\":\"\"}},\"name\":\"Kosovo\",\"offsetgroup\":\"Kosovo\",\"orientation\":\"v\",\"showlegend\":true,\"textposition\":\"auto\",\"x\":[\"Kosovo\"],\"xaxis\":\"x\",\"y\":[6.372],\"yaxis\":\"y\",\"type\":\"bar\"},{\"alignmentgroup\":\"True\",\"hovertemplate\":\"country=%{x}<br>ladderScore=%{y}<extra></extra>\",\"legendgroup\":\"Slovakia\",\"marker\":{\"color\":\"#ab63fa\",\"pattern\":{\"shape\":\"\"}},\"name\":\"Slovakia\",\"offsetgroup\":\"Slovakia\",\"orientation\":\"v\",\"showlegend\":true,\"textposition\":\"auto\",\"x\":[\"Slovakia\"],\"xaxis\":\"x\",\"y\":[6.331],\"yaxis\":\"y\",\"type\":\"bar\"},{\"alignmentgroup\":\"True\",\"hovertemplate\":\"country=%{x}<br>ladderScore=%{y}<extra></extra>\",\"legendgroup\":\"Brazil\",\"marker\":{\"color\":\"#FFA15A\",\"pattern\":{\"shape\":\"\"}},\"name\":\"Brazil\",\"offsetgroup\":\"Brazil\",\"orientation\":\"v\",\"showlegend\":true,\"textposition\":\"auto\",\"x\":[\"Brazil\"],\"xaxis\":\"x\",\"y\":[6.33],\"yaxis\":\"y\",\"type\":\"bar\"},{\"alignmentgroup\":\"True\",\"hovertemplate\":\"country=%{x}<br>ladderScore=%{y}<extra></extra>\",\"legendgroup\":\"Mexico\",\"marker\":{\"color\":\"#19d3f3\",\"pattern\":{\"shape\":\"\"}},\"name\":\"Mexico\",\"offsetgroup\":\"Mexico\",\"orientation\":\"v\",\"showlegend\":true,\"textposition\":\"auto\",\"x\":[\"Mexico\"],\"xaxis\":\"x\",\"y\":[6.317],\"yaxis\":\"y\",\"type\":\"bar\"},{\"alignmentgroup\":\"True\",\"hovertemplate\":\"country=%{x}<br>ladderScore=%{y}<extra></extra>\",\"legendgroup\":\"Jamaica\",\"marker\":{\"color\":\"#FF6692\",\"pattern\":{\"shape\":\"\"}},\"name\":\"Jamaica\",\"offsetgroup\":\"Jamaica\",\"orientation\":\"v\",\"showlegend\":true,\"textposition\":\"auto\",\"x\":[\"Jamaica\"],\"xaxis\":\"x\",\"y\":[6.309],\"yaxis\":\"y\",\"type\":\"bar\"},{\"alignmentgroup\":\"True\",\"hovertemplate\":\"country=%{x}<br>ladderScore=%{y}<extra></extra>\",\"legendgroup\":\"Lithuania\",\"marker\":{\"color\":\"#B6E880\",\"pattern\":{\"shape\":\"\"}},\"name\":\"Lithuania\",\"offsetgroup\":\"Lithuania\",\"orientation\":\"v\",\"showlegend\":true,\"textposition\":\"auto\",\"x\":[\"Lithuania\"],\"xaxis\":\"x\",\"y\":[6.255],\"yaxis\":\"y\",\"type\":\"bar\"},{\"alignmentgroup\":\"True\",\"hovertemplate\":\"country=%{x}<br>ladderScore=%{y}<extra></extra>\",\"legendgroup\":\"Cyprus\",\"marker\":{\"color\":\"#FF97FF\",\"pattern\":{\"shape\":\"\"}},\"name\":\"Cyprus\",\"offsetgroup\":\"Cyprus\",\"orientation\":\"v\",\"showlegend\":true,\"textposition\":\"auto\",\"x\":[\"Cyprus\"],\"xaxis\":\"x\",\"y\":[6.223],\"yaxis\":\"y\",\"type\":\"bar\"},{\"alignmentgroup\":\"True\",\"hovertemplate\":\"country=%{x}<br>ladderScore=%{y}<extra></extra>\",\"legendgroup\":\"Estonia\",\"marker\":{\"color\":\"#FECB52\",\"pattern\":{\"shape\":\"\"}},\"name\":\"Estonia\",\"offsetgroup\":\"Estonia\",\"orientation\":\"v\",\"showlegend\":true,\"textposition\":\"auto\",\"x\":[\"Estonia\"],\"xaxis\":\"x\",\"y\":[6.189],\"yaxis\":\"y\",\"type\":\"bar\"},{\"alignmentgroup\":\"True\",\"hovertemplate\":\"country=%{x}<br>ladderScore=%{y}<extra></extra>\",\"legendgroup\":\"Panama\",\"marker\":{\"color\":\"#636efa\",\"pattern\":{\"shape\":\"\"}},\"name\":\"Panama\",\"offsetgroup\":\"Panama\",\"orientation\":\"v\",\"showlegend\":true,\"textposition\":\"auto\",\"x\":[\"Panama\"],\"xaxis\":\"x\",\"y\":[6.18],\"yaxis\":\"y\",\"type\":\"bar\"},{\"alignmentgroup\":\"True\",\"hovertemplate\":\"country=%{x}<br>ladderScore=%{y}<extra></extra>\",\"legendgroup\":\"Uzbekistan\",\"marker\":{\"color\":\"#EF553B\",\"pattern\":{\"shape\":\"\"}},\"name\":\"Uzbekistan\",\"offsetgroup\":\"Uzbekistan\",\"orientation\":\"v\",\"showlegend\":true,\"textposition\":\"auto\",\"x\":[\"Uzbekistan\"],\"xaxis\":\"x\",\"y\":[6.179],\"yaxis\":\"y\",\"type\":\"bar\"},{\"alignmentgroup\":\"True\",\"hovertemplate\":\"country=%{x}<br>ladderScore=%{y}<extra></extra>\",\"legendgroup\":\"Chile\",\"marker\":{\"color\":\"#00cc96\",\"pattern\":{\"shape\":\"\"}},\"name\":\"Chile\",\"offsetgroup\":\"Chile\",\"orientation\":\"v\",\"showlegend\":true,\"textposition\":\"auto\",\"x\":[\"Chile\"],\"xaxis\":\"x\",\"y\":[6.172],\"yaxis\":\"y\",\"type\":\"bar\"},{\"alignmentgroup\":\"True\",\"hovertemplate\":\"country=%{x}<br>ladderScore=%{y}<extra></extra>\",\"legendgroup\":\"Poland\",\"marker\":{\"color\":\"#ab63fa\",\"pattern\":{\"shape\":\"\"}},\"name\":\"Poland\",\"offsetgroup\":\"Poland\",\"orientation\":\"v\",\"showlegend\":true,\"textposition\":\"auto\",\"x\":[\"Poland\"],\"xaxis\":\"x\",\"y\":[6.166],\"yaxis\":\"y\",\"type\":\"bar\"},{\"alignmentgroup\":\"True\",\"hovertemplate\":\"country=%{x}<br>ladderScore=%{y}<extra></extra>\",\"legendgroup\":\"Kazakhstan\",\"marker\":{\"color\":\"#FFA15A\",\"pattern\":{\"shape\":\"\"}},\"name\":\"Kazakhstan\",\"offsetgroup\":\"Kazakhstan\",\"orientation\":\"v\",\"showlegend\":true,\"textposition\":\"auto\",\"x\":[\"Kazakhstan\"],\"xaxis\":\"x\",\"y\":[6.152],\"yaxis\":\"y\",\"type\":\"bar\"},{\"alignmentgroup\":\"True\",\"hovertemplate\":\"country=%{x}<br>ladderScore=%{y}<extra></extra>\",\"legendgroup\":\"Romania\",\"marker\":{\"color\":\"#19d3f3\",\"pattern\":{\"shape\":\"\"}},\"name\":\"Romania\",\"offsetgroup\":\"Romania\",\"orientation\":\"v\",\"showlegend\":true,\"textposition\":\"auto\",\"x\":[\"Romania\"],\"xaxis\":\"x\",\"y\":[6.14],\"yaxis\":\"y\",\"type\":\"bar\"},{\"alignmentgroup\":\"True\",\"hovertemplate\":\"country=%{x}<br>ladderScore=%{y}<extra></extra>\",\"legendgroup\":\"Kuwait\",\"marker\":{\"color\":\"#FF6692\",\"pattern\":{\"shape\":\"\"}},\"name\":\"Kuwait\",\"offsetgroup\":\"Kuwait\",\"orientation\":\"v\",\"showlegend\":true,\"textposition\":\"auto\",\"x\":[\"Kuwait\"],\"xaxis\":\"x\",\"y\":[6.106],\"yaxis\":\"y\",\"type\":\"bar\"},{\"alignmentgroup\":\"True\",\"hovertemplate\":\"country=%{x}<br>ladderScore=%{y}<extra></extra>\",\"legendgroup\":\"Serbia\",\"marker\":{\"color\":\"#B6E880\",\"pattern\":{\"shape\":\"\"}},\"name\":\"Serbia\",\"offsetgroup\":\"Serbia\",\"orientation\":\"v\",\"showlegend\":true,\"textposition\":\"auto\",\"x\":[\"Serbia\"],\"xaxis\":\"x\",\"y\":[6.078],\"yaxis\":\"y\",\"type\":\"bar\"},{\"alignmentgroup\":\"True\",\"hovertemplate\":\"country=%{x}<br>ladderScore=%{y}<extra></extra>\",\"legendgroup\":\"El Salvador\",\"marker\":{\"color\":\"#FF97FF\",\"pattern\":{\"shape\":\"\"}},\"name\":\"El Salvador\",\"offsetgroup\":\"El Salvador\",\"orientation\":\"v\",\"showlegend\":true,\"textposition\":\"auto\",\"x\":[\"El Salvador\"],\"xaxis\":\"x\",\"y\":[6.061],\"yaxis\":\"y\",\"type\":\"bar\"},{\"alignmentgroup\":\"True\",\"hovertemplate\":\"country=%{x}<br>ladderScore=%{y}<extra></extra>\",\"legendgroup\":\"Mauritius\",\"marker\":{\"color\":\"#FECB52\",\"pattern\":{\"shape\":\"\"}},\"name\":\"Mauritius\",\"offsetgroup\":\"Mauritius\",\"orientation\":\"v\",\"showlegend\":true,\"textposition\":\"auto\",\"x\":[\"Mauritius\"],\"xaxis\":\"x\",\"y\":[6.049],\"yaxis\":\"y\",\"type\":\"bar\"},{\"alignmentgroup\":\"True\",\"hovertemplate\":\"country=%{x}<br>ladderScore=%{y}<extra></extra>\",\"legendgroup\":\"Latvia\",\"marker\":{\"color\":\"#636efa\",\"pattern\":{\"shape\":\"\"}},\"name\":\"Latvia\",\"offsetgroup\":\"Latvia\",\"orientation\":\"v\",\"showlegend\":true,\"textposition\":\"auto\",\"x\":[\"Latvia\"],\"xaxis\":\"x\",\"y\":[6.032],\"yaxis\":\"y\",\"type\":\"bar\"},{\"alignmentgroup\":\"True\",\"hovertemplate\":\"country=%{x}<br>ladderScore=%{y}<extra></extra>\",\"legendgroup\":\"Colombia\",\"marker\":{\"color\":\"#EF553B\",\"pattern\":{\"shape\":\"\"}},\"name\":\"Colombia\",\"offsetgroup\":\"Colombia\",\"orientation\":\"v\",\"showlegend\":true,\"textposition\":\"auto\",\"x\":[\"Colombia\"],\"xaxis\":\"x\",\"y\":[6.012],\"yaxis\":\"y\",\"type\":\"bar\"},{\"alignmentgroup\":\"True\",\"hovertemplate\":\"country=%{x}<br>ladderScore=%{y}<extra></extra>\",\"legendgroup\":\"Hungary\",\"marker\":{\"color\":\"#00cc96\",\"pattern\":{\"shape\":\"\"}},\"name\":\"Hungary\",\"offsetgroup\":\"Hungary\",\"orientation\":\"v\",\"showlegend\":true,\"textposition\":\"auto\",\"x\":[\"Hungary\"],\"xaxis\":\"x\",\"y\":[5.992],\"yaxis\":\"y\",\"type\":\"bar\"},{\"alignmentgroup\":\"True\",\"hovertemplate\":\"country=%{x}<br>ladderScore=%{y}<extra></extra>\",\"legendgroup\":\"Thailand\",\"marker\":{\"color\":\"#ab63fa\",\"pattern\":{\"shape\":\"\"}},\"name\":\"Thailand\",\"offsetgroup\":\"Thailand\",\"orientation\":\"v\",\"showlegend\":true,\"textposition\":\"auto\",\"x\":[\"Thailand\"],\"xaxis\":\"x\",\"y\":[5.985],\"yaxis\":\"y\",\"type\":\"bar\"},{\"alignmentgroup\":\"True\",\"hovertemplate\":\"country=%{x}<br>ladderScore=%{y}<extra></extra>\",\"legendgroup\":\"Nicaragua\",\"marker\":{\"color\":\"#FFA15A\",\"pattern\":{\"shape\":\"\"}},\"name\":\"Nicaragua\",\"offsetgroup\":\"Nicaragua\",\"orientation\":\"v\",\"showlegend\":true,\"textposition\":\"auto\",\"x\":[\"Nicaragua\"],\"xaxis\":\"x\",\"y\":[5.972],\"yaxis\":\"y\",\"type\":\"bar\"},{\"alignmentgroup\":\"True\",\"hovertemplate\":\"country=%{x}<br>ladderScore=%{y}<extra></extra>\",\"legendgroup\":\"Japan\",\"marker\":{\"color\":\"#19d3f3\",\"pattern\":{\"shape\":\"\"}},\"name\":\"Japan\",\"offsetgroup\":\"Japan\",\"orientation\":\"v\",\"showlegend\":true,\"textposition\":\"auto\",\"x\":[\"Japan\"],\"xaxis\":\"x\",\"y\":[5.94],\"yaxis\":\"y\",\"type\":\"bar\"},{\"alignmentgroup\":\"True\",\"hovertemplate\":\"country=%{x}<br>ladderScore=%{y}<extra></extra>\",\"legendgroup\":\"Argentina\",\"marker\":{\"color\":\"#FF6692\",\"pattern\":{\"shape\":\"\"}},\"name\":\"Argentina\",\"offsetgroup\":\"Argentina\",\"orientation\":\"v\",\"showlegend\":true,\"textposition\":\"auto\",\"x\":[\"Argentina\"],\"xaxis\":\"x\",\"y\":[5.929],\"yaxis\":\"y\",\"type\":\"bar\"},{\"alignmentgroup\":\"True\",\"hovertemplate\":\"country=%{x}<br>ladderScore=%{y}<extra></extra>\",\"legendgroup\":\"Portugal\",\"marker\":{\"color\":\"#B6E880\",\"pattern\":{\"shape\":\"\"}},\"name\":\"Portugal\",\"offsetgroup\":\"Portugal\",\"orientation\":\"v\",\"showlegend\":true,\"textposition\":\"auto\",\"x\":[\"Portugal\"],\"xaxis\":\"x\",\"y\":[5.929],\"yaxis\":\"y\",\"type\":\"bar\"},{\"alignmentgroup\":\"True\",\"hovertemplate\":\"country=%{x}<br>ladderScore=%{y}<extra></extra>\",\"legendgroup\":\"Honduras\",\"marker\":{\"color\":\"#FF97FF\",\"pattern\":{\"shape\":\"\"}},\"name\":\"Honduras\",\"offsetgroup\":\"Honduras\",\"orientation\":\"v\",\"showlegend\":true,\"textposition\":\"auto\",\"x\":[\"Honduras\"],\"xaxis\":\"x\",\"y\":[5.919],\"yaxis\":\"y\",\"type\":\"bar\"},{\"alignmentgroup\":\"True\",\"hovertemplate\":\"country=%{x}<br>ladderScore=%{y}<extra></extra>\",\"legendgroup\":\"Croatia\",\"marker\":{\"color\":\"#FECB52\",\"pattern\":{\"shape\":\"\"}},\"name\":\"Croatia\",\"offsetgroup\":\"Croatia\",\"orientation\":\"v\",\"showlegend\":true,\"textposition\":\"auto\",\"x\":[\"Croatia\"],\"xaxis\":\"x\",\"y\":[5.882],\"yaxis\":\"y\",\"type\":\"bar\"},{\"alignmentgroup\":\"True\",\"hovertemplate\":\"country=%{x}<br>ladderScore=%{y}<extra></extra>\",\"legendgroup\":\"Philippines\",\"marker\":{\"color\":\"#636efa\",\"pattern\":{\"shape\":\"\"}},\"name\":\"Philippines\",\"offsetgroup\":\"Philippines\",\"orientation\":\"v\",\"showlegend\":true,\"textposition\":\"auto\",\"x\":[\"Philippines\"],\"xaxis\":\"x\",\"y\":[5.88],\"yaxis\":\"y\",\"type\":\"bar\"},{\"alignmentgroup\":\"True\",\"hovertemplate\":\"country=%{x}<br>ladderScore=%{y}<extra></extra>\",\"legendgroup\":\"South Korea\",\"marker\":{\"color\":\"#EF553B\",\"pattern\":{\"shape\":\"\"}},\"name\":\"South Korea\",\"offsetgroup\":\"South Korea\",\"orientation\":\"v\",\"showlegend\":true,\"textposition\":\"auto\",\"x\":[\"South Korea\"],\"xaxis\":\"x\",\"y\":[5.845],\"yaxis\":\"y\",\"type\":\"bar\"},{\"alignmentgroup\":\"True\",\"hovertemplate\":\"country=%{x}<br>ladderScore=%{y}<extra></extra>\",\"legendgroup\":\"Peru\",\"marker\":{\"color\":\"#00cc96\",\"pattern\":{\"shape\":\"\"}},\"name\":\"Peru\",\"offsetgroup\":\"Peru\",\"orientation\":\"v\",\"showlegend\":true,\"textposition\":\"auto\",\"x\":[\"Peru\"],\"xaxis\":\"x\",\"y\":[5.84],\"yaxis\":\"y\",\"type\":\"bar\"},{\"alignmentgroup\":\"True\",\"hovertemplate\":\"country=%{x}<br>ladderScore=%{y}<extra></extra>\",\"legendgroup\":\"Bosnia and Herzegovina\",\"marker\":{\"color\":\"#ab63fa\",\"pattern\":{\"shape\":\"\"}},\"name\":\"Bosnia and Herzegovina\",\"offsetgroup\":\"Bosnia and Herzegovina\",\"orientation\":\"v\",\"showlegend\":true,\"textposition\":\"auto\",\"x\":[\"Bosnia and Herzegovina\"],\"xaxis\":\"x\",\"y\":[5.813],\"yaxis\":\"y\",\"type\":\"bar\"},{\"alignmentgroup\":\"True\",\"hovertemplate\":\"country=%{x}<br>ladderScore=%{y}<extra></extra>\",\"legendgroup\":\"Moldova\",\"marker\":{\"color\":\"#FFA15A\",\"pattern\":{\"shape\":\"\"}},\"name\":\"Moldova\",\"offsetgroup\":\"Moldova\",\"orientation\":\"v\",\"showlegend\":true,\"textposition\":\"auto\",\"x\":[\"Moldova\"],\"xaxis\":\"x\",\"y\":[5.766],\"yaxis\":\"y\",\"type\":\"bar\"},{\"alignmentgroup\":\"True\",\"hovertemplate\":\"country=%{x}<br>ladderScore=%{y}<extra></extra>\",\"legendgroup\":\"Ecuador\",\"marker\":{\"color\":\"#19d3f3\",\"pattern\":{\"shape\":\"\"}},\"name\":\"Ecuador\",\"offsetgroup\":\"Ecuador\",\"orientation\":\"v\",\"showlegend\":true,\"textposition\":\"auto\",\"x\":[\"Ecuador\"],\"xaxis\":\"x\",\"y\":[5.764],\"yaxis\":\"y\",\"type\":\"bar\"},{\"alignmentgroup\":\"True\",\"hovertemplate\":\"country=%{x}<br>ladderScore=%{y}<extra></extra>\",\"legendgroup\":\"Kyrgyzstan\",\"marker\":{\"color\":\"#FF6692\",\"pattern\":{\"shape\":\"\"}},\"name\":\"Kyrgyzstan\",\"offsetgroup\":\"Kyrgyzstan\",\"orientation\":\"v\",\"showlegend\":true,\"textposition\":\"auto\",\"x\":[\"Kyrgyzstan\"],\"xaxis\":\"x\",\"y\":[5.744],\"yaxis\":\"y\",\"type\":\"bar\"},{\"alignmentgroup\":\"True\",\"hovertemplate\":\"country=%{x}<br>ladderScore=%{y}<extra></extra>\",\"legendgroup\":\"Greece\",\"marker\":{\"color\":\"#B6E880\",\"pattern\":{\"shape\":\"\"}},\"name\":\"Greece\",\"offsetgroup\":\"Greece\",\"orientation\":\"v\",\"showlegend\":true,\"textposition\":\"auto\",\"x\":[\"Greece\"],\"xaxis\":\"x\",\"y\":[5.723],\"yaxis\":\"y\",\"type\":\"bar\"},{\"alignmentgroup\":\"True\",\"hovertemplate\":\"country=%{x}<br>ladderScore=%{y}<extra></extra>\",\"legendgroup\":\"Bolivia\",\"marker\":{\"color\":\"#FF97FF\",\"pattern\":{\"shape\":\"\"}},\"name\":\"Bolivia\",\"offsetgroup\":\"Bolivia\",\"orientation\":\"v\",\"showlegend\":true,\"textposition\":\"auto\",\"x\":[\"Bolivia\"],\"xaxis\":\"x\",\"y\":[5.716],\"yaxis\":\"y\",\"type\":\"bar\"},{\"alignmentgroup\":\"True\",\"hovertemplate\":\"country=%{x}<br>ladderScore=%{y}<extra></extra>\",\"legendgroup\":\"Mongolia\",\"marker\":{\"color\":\"#FECB52\",\"pattern\":{\"shape\":\"\"}},\"name\":\"Mongolia\",\"offsetgroup\":\"Mongolia\",\"orientation\":\"v\",\"showlegend\":true,\"textposition\":\"auto\",\"x\":[\"Mongolia\"],\"xaxis\":\"x\",\"y\":[5.677],\"yaxis\":\"y\",\"type\":\"bar\"},{\"alignmentgroup\":\"True\",\"hovertemplate\":\"country=%{x}<br>ladderScore=%{y}<extra></extra>\",\"legendgroup\":\"Paraguay\",\"marker\":{\"color\":\"#636efa\",\"pattern\":{\"shape\":\"\"}},\"name\":\"Paraguay\",\"offsetgroup\":\"Paraguay\",\"orientation\":\"v\",\"showlegend\":true,\"textposition\":\"auto\",\"x\":[\"Paraguay\"],\"xaxis\":\"x\",\"y\":[5.653],\"yaxis\":\"y\",\"type\":\"bar\"},{\"alignmentgroup\":\"True\",\"hovertemplate\":\"country=%{x}<br>ladderScore=%{y}<extra></extra>\",\"legendgroup\":\"Montenegro\",\"marker\":{\"color\":\"#EF553B\",\"pattern\":{\"shape\":\"\"}},\"name\":\"Montenegro\",\"offsetgroup\":\"Montenegro\",\"orientation\":\"v\",\"showlegend\":true,\"textposition\":\"auto\",\"x\":[\"Montenegro\"],\"xaxis\":\"x\",\"y\":[5.581],\"yaxis\":\"y\",\"type\":\"bar\"},{\"alignmentgroup\":\"True\",\"hovertemplate\":\"country=%{x}<br>ladderScore=%{y}<extra></extra>\",\"legendgroup\":\"Dominican Republic\",\"marker\":{\"color\":\"#00cc96\",\"pattern\":{\"shape\":\"\"}},\"name\":\"Dominican Republic\",\"offsetgroup\":\"Dominican Republic\",\"orientation\":\"v\",\"showlegend\":true,\"textposition\":\"auto\",\"x\":[\"Dominican Republic\"],\"xaxis\":\"x\",\"y\":[5.545],\"yaxis\":\"y\",\"type\":\"bar\"},{\"alignmentgroup\":\"True\",\"hovertemplate\":\"country=%{x}<br>ladderScore=%{y}<extra></extra>\",\"legendgroup\":\"North Cyprus\",\"marker\":{\"color\":\"#ab63fa\",\"pattern\":{\"shape\":\"\"}},\"name\":\"North Cyprus\",\"offsetgroup\":\"North Cyprus\",\"orientation\":\"v\",\"showlegend\":true,\"textposition\":\"auto\",\"x\":[\"North Cyprus\"],\"xaxis\":\"x\",\"y\":[5.536],\"yaxis\":\"y\",\"type\":\"bar\"},{\"alignmentgroup\":\"True\",\"hovertemplate\":\"country=%{x}<br>ladderScore=%{y}<extra></extra>\",\"legendgroup\":\"Belarus\",\"marker\":{\"color\":\"#FFA15A\",\"pattern\":{\"shape\":\"\"}},\"name\":\"Belarus\",\"offsetgroup\":\"Belarus\",\"orientation\":\"v\",\"showlegend\":true,\"textposition\":\"auto\",\"x\":[\"Belarus\"],\"xaxis\":\"x\",\"y\":[5.534],\"yaxis\":\"y\",\"type\":\"bar\"},{\"alignmentgroup\":\"True\",\"hovertemplate\":\"country=%{x}<br>ladderScore=%{y}<extra></extra>\",\"legendgroup\":\"Russia\",\"marker\":{\"color\":\"#19d3f3\",\"pattern\":{\"shape\":\"\"}},\"name\":\"Russia\",\"offsetgroup\":\"Russia\",\"orientation\":\"v\",\"showlegend\":true,\"textposition\":\"auto\",\"x\":[\"Russia\"],\"xaxis\":\"x\",\"y\":[5.477],\"yaxis\":\"y\",\"type\":\"bar\"},{\"alignmentgroup\":\"True\",\"hovertemplate\":\"country=%{x}<br>ladderScore=%{y}<extra></extra>\",\"legendgroup\":\"Hong Kong S.A.R. of China\",\"marker\":{\"color\":\"#FF6692\",\"pattern\":{\"shape\":\"\"}},\"name\":\"Hong Kong S.A.R. of China\",\"offsetgroup\":\"Hong Kong S.A.R. of China\",\"orientation\":\"v\",\"showlegend\":true,\"textposition\":\"auto\",\"x\":[\"Hong Kong S.A.R. of China\"],\"xaxis\":\"x\",\"y\":[5.477],\"yaxis\":\"y\",\"type\":\"bar\"},{\"alignmentgroup\":\"True\",\"hovertemplate\":\"country=%{x}<br>ladderScore=%{y}<extra></extra>\",\"legendgroup\":\"Tajikistan\",\"marker\":{\"color\":\"#B6E880\",\"pattern\":{\"shape\":\"\"}},\"name\":\"Tajikistan\",\"offsetgroup\":\"Tajikistan\",\"orientation\":\"v\",\"showlegend\":true,\"textposition\":\"auto\",\"x\":[\"Tajikistan\"],\"xaxis\":\"x\",\"y\":[5.466],\"yaxis\":\"y\",\"type\":\"bar\"},{\"alignmentgroup\":\"True\",\"hovertemplate\":\"country=%{x}<br>ladderScore=%{y}<extra></extra>\",\"legendgroup\":\"Vietnam\",\"marker\":{\"color\":\"#FF97FF\",\"pattern\":{\"shape\":\"\"}},\"name\":\"Vietnam\",\"offsetgroup\":\"Vietnam\",\"orientation\":\"v\",\"showlegend\":true,\"textposition\":\"auto\",\"x\":[\"Vietnam\"],\"xaxis\":\"x\",\"y\":[5.411],\"yaxis\":\"y\",\"type\":\"bar\"},{\"alignmentgroup\":\"True\",\"hovertemplate\":\"country=%{x}<br>ladderScore=%{y}<extra></extra>\",\"legendgroup\":\"Libya\",\"marker\":{\"color\":\"#FECB52\",\"pattern\":{\"shape\":\"\"}},\"name\":\"Libya\",\"offsetgroup\":\"Libya\",\"orientation\":\"v\",\"showlegend\":true,\"textposition\":\"auto\",\"x\":[\"Libya\"],\"xaxis\":\"x\",\"y\":[5.41],\"yaxis\":\"y\",\"type\":\"bar\"},{\"alignmentgroup\":\"True\",\"hovertemplate\":\"country=%{x}<br>ladderScore=%{y}<extra></extra>\",\"legendgroup\":\"Malaysia\",\"marker\":{\"color\":\"#636efa\",\"pattern\":{\"shape\":\"\"}},\"name\":\"Malaysia\",\"offsetgroup\":\"Malaysia\",\"orientation\":\"v\",\"showlegend\":true,\"textposition\":\"auto\",\"x\":[\"Malaysia\"],\"xaxis\":\"x\",\"y\":[5.384],\"yaxis\":\"y\",\"type\":\"bar\"},{\"alignmentgroup\":\"True\",\"hovertemplate\":\"country=%{x}<br>ladderScore=%{y}<extra></extra>\",\"legendgroup\":\"Indonesia\",\"marker\":{\"color\":\"#EF553B\",\"pattern\":{\"shape\":\"\"}},\"name\":\"Indonesia\",\"offsetgroup\":\"Indonesia\",\"orientation\":\"v\",\"showlegend\":true,\"textposition\":\"auto\",\"x\":[\"Indonesia\"],\"xaxis\":\"x\",\"y\":[5.345],\"yaxis\":\"y\",\"type\":\"bar\"},{\"alignmentgroup\":\"True\",\"hovertemplate\":\"country=%{x}<br>ladderScore=%{y}<extra></extra>\",\"legendgroup\":\"Congo (Brazzaville)\",\"marker\":{\"color\":\"#00cc96\",\"pattern\":{\"shape\":\"\"}},\"name\":\"Congo (Brazzaville)\",\"offsetgroup\":\"Congo (Brazzaville)\",\"orientation\":\"v\",\"showlegend\":true,\"textposition\":\"auto\",\"x\":[\"Congo (Brazzaville)\"],\"xaxis\":\"x\",\"y\":[5.342],\"yaxis\":\"y\",\"type\":\"bar\"},{\"alignmentgroup\":\"True\",\"hovertemplate\":\"country=%{x}<br>ladderScore=%{y}<extra></extra>\",\"legendgroup\":\"China\",\"marker\":{\"color\":\"#ab63fa\",\"pattern\":{\"shape\":\"\"}},\"name\":\"China\",\"offsetgroup\":\"China\",\"orientation\":\"v\",\"showlegend\":true,\"textposition\":\"auto\",\"x\":[\"China\"],\"xaxis\":\"x\",\"y\":[5.339],\"yaxis\":\"y\",\"type\":\"bar\"},{\"alignmentgroup\":\"True\",\"hovertemplate\":\"country=%{x}<br>ladderScore=%{y}<extra></extra>\",\"legendgroup\":\"Ivory Coast\",\"marker\":{\"color\":\"#FFA15A\",\"pattern\":{\"shape\":\"\"}},\"name\":\"Ivory Coast\",\"offsetgroup\":\"Ivory Coast\",\"orientation\":\"v\",\"showlegend\":true,\"textposition\":\"auto\",\"x\":[\"Ivory Coast\"],\"xaxis\":\"x\",\"y\":[5.306],\"yaxis\":\"y\",\"type\":\"bar\"},{\"alignmentgroup\":\"True\",\"hovertemplate\":\"country=%{x}<br>ladderScore=%{y}<extra></extra>\",\"legendgroup\":\"Armenia\",\"marker\":{\"color\":\"#19d3f3\",\"pattern\":{\"shape\":\"\"}},\"name\":\"Armenia\",\"offsetgroup\":\"Armenia\",\"orientation\":\"v\",\"showlegend\":true,\"textposition\":\"auto\",\"x\":[\"Armenia\"],\"xaxis\":\"x\",\"y\":[5.283],\"yaxis\":\"y\",\"type\":\"bar\"},{\"alignmentgroup\":\"True\",\"hovertemplate\":\"country=%{x}<br>ladderScore=%{y}<extra></extra>\",\"legendgroup\":\"Nepal\",\"marker\":{\"color\":\"#FF6692\",\"pattern\":{\"shape\":\"\"}},\"name\":\"Nepal\",\"offsetgroup\":\"Nepal\",\"orientation\":\"v\",\"showlegend\":true,\"textposition\":\"auto\",\"x\":[\"Nepal\"],\"xaxis\":\"x\",\"y\":[5.269],\"yaxis\":\"y\",\"type\":\"bar\"},{\"alignmentgroup\":\"True\",\"hovertemplate\":\"country=%{x}<br>ladderScore=%{y}<extra></extra>\",\"legendgroup\":\"Bulgaria\",\"marker\":{\"color\":\"#B6E880\",\"pattern\":{\"shape\":\"\"}},\"name\":\"Bulgaria\",\"offsetgroup\":\"Bulgaria\",\"orientation\":\"v\",\"showlegend\":true,\"textposition\":\"auto\",\"x\":[\"Bulgaria\"],\"xaxis\":\"x\",\"y\":[5.266],\"yaxis\":\"y\",\"type\":\"bar\"},{\"alignmentgroup\":\"True\",\"hovertemplate\":\"country=%{x}<br>ladderScore=%{y}<extra></extra>\",\"legendgroup\":\"Maldives\",\"marker\":{\"color\":\"#FF97FF\",\"pattern\":{\"shape\":\"\"}},\"name\":\"Maldives\",\"offsetgroup\":\"Maldives\",\"orientation\":\"v\",\"showlegend\":true,\"textposition\":\"auto\",\"x\":[\"Maldives\"],\"xaxis\":\"x\",\"y\":[5.198],\"yaxis\":\"y\",\"type\":\"bar\"},{\"alignmentgroup\":\"True\",\"hovertemplate\":\"country=%{x}<br>ladderScore=%{y}<extra></extra>\",\"legendgroup\":\"Azerbaijan\",\"marker\":{\"color\":\"#FECB52\",\"pattern\":{\"shape\":\"\"}},\"name\":\"Azerbaijan\",\"offsetgroup\":\"Azerbaijan\",\"orientation\":\"v\",\"showlegend\":true,\"textposition\":\"auto\",\"x\":[\"Azerbaijan\"],\"xaxis\":\"x\",\"y\":[5.171],\"yaxis\":\"y\",\"type\":\"bar\"},{\"alignmentgroup\":\"True\",\"hovertemplate\":\"country=%{x}<br>ladderScore=%{y}<extra></extra>\",\"legendgroup\":\"Cameroon\",\"marker\":{\"color\":\"#636efa\",\"pattern\":{\"shape\":\"\"}},\"name\":\"Cameroon\",\"offsetgroup\":\"Cameroon\",\"orientation\":\"v\",\"showlegend\":true,\"textposition\":\"auto\",\"x\":[\"Cameroon\"],\"xaxis\":\"x\",\"y\":[5.142],\"yaxis\":\"y\",\"type\":\"bar\"},{\"alignmentgroup\":\"True\",\"hovertemplate\":\"country=%{x}<br>ladderScore=%{y}<extra></extra>\",\"legendgroup\":\"Senegal\",\"marker\":{\"color\":\"#EF553B\",\"pattern\":{\"shape\":\"\"}},\"name\":\"Senegal\",\"offsetgroup\":\"Senegal\",\"orientation\":\"v\",\"showlegend\":true,\"textposition\":\"auto\",\"x\":[\"Senegal\"],\"xaxis\":\"x\",\"y\":[5.132],\"yaxis\":\"y\",\"type\":\"bar\"},{\"alignmentgroup\":\"True\",\"hovertemplate\":\"country=%{x}<br>ladderScore=%{y}<extra></extra>\",\"legendgroup\":\"Albania\",\"marker\":{\"color\":\"#00cc96\",\"pattern\":{\"shape\":\"\"}},\"name\":\"Albania\",\"offsetgroup\":\"Albania\",\"orientation\":\"v\",\"showlegend\":true,\"textposition\":\"auto\",\"x\":[\"Albania\"],\"xaxis\":\"x\",\"y\":[5.117],\"yaxis\":\"y\",\"type\":\"bar\"},{\"alignmentgroup\":\"True\",\"hovertemplate\":\"country=%{x}<br>ladderScore=%{y}<extra></extra>\",\"legendgroup\":\"North Macedonia\",\"marker\":{\"color\":\"#ab63fa\",\"pattern\":{\"shape\":\"\"}},\"name\":\"North Macedonia\",\"offsetgroup\":\"North Macedonia\",\"orientation\":\"v\",\"showlegend\":true,\"textposition\":\"auto\",\"x\":[\"North Macedonia\"],\"xaxis\":\"x\",\"y\":[5.101],\"yaxis\":\"y\",\"type\":\"bar\"},{\"alignmentgroup\":\"True\",\"hovertemplate\":\"country=%{x}<br>ladderScore=%{y}<extra></extra>\",\"legendgroup\":\"Ghana\",\"marker\":{\"color\":\"#FFA15A\",\"pattern\":{\"shape\":\"\"}},\"name\":\"Ghana\",\"offsetgroup\":\"Ghana\",\"orientation\":\"v\",\"showlegend\":true,\"textposition\":\"auto\",\"x\":[\"Ghana\"],\"xaxis\":\"x\",\"y\":[5.088],\"yaxis\":\"y\",\"type\":\"bar\"},{\"alignmentgroup\":\"True\",\"hovertemplate\":\"country=%{x}<br>ladderScore=%{y}<extra></extra>\",\"legendgroup\":\"Niger\",\"marker\":{\"color\":\"#19d3f3\",\"pattern\":{\"shape\":\"\"}},\"name\":\"Niger\",\"offsetgroup\":\"Niger\",\"orientation\":\"v\",\"showlegend\":true,\"textposition\":\"auto\",\"x\":[\"Niger\"],\"xaxis\":\"x\",\"y\":[5.074],\"yaxis\":\"y\",\"type\":\"bar\"},{\"alignmentgroup\":\"True\",\"hovertemplate\":\"country=%{x}<br>ladderScore=%{y}<extra></extra>\",\"legendgroup\":\"Turkmenistan\",\"marker\":{\"color\":\"#FF6692\",\"pattern\":{\"shape\":\"\"}},\"name\":\"Turkmenistan\",\"offsetgroup\":\"Turkmenistan\",\"orientation\":\"v\",\"showlegend\":true,\"textposition\":\"auto\",\"x\":[\"Turkmenistan\"],\"xaxis\":\"x\",\"y\":[5.066],\"yaxis\":\"y\",\"type\":\"bar\"},{\"alignmentgroup\":\"True\",\"hovertemplate\":\"country=%{x}<br>ladderScore=%{y}<extra></extra>\",\"legendgroup\":\"Gambia\",\"marker\":{\"color\":\"#B6E880\",\"pattern\":{\"shape\":\"\"}},\"name\":\"Gambia\",\"offsetgroup\":\"Gambia\",\"orientation\":\"v\",\"showlegend\":true,\"textposition\":\"auto\",\"x\":[\"Gambia\"],\"xaxis\":\"x\",\"y\":[5.051],\"yaxis\":\"y\",\"type\":\"bar\"},{\"alignmentgroup\":\"True\",\"hovertemplate\":\"country=%{x}<br>ladderScore=%{y}<extra></extra>\",\"legendgroup\":\"Benin\",\"marker\":{\"color\":\"#FF97FF\",\"pattern\":{\"shape\":\"\"}},\"name\":\"Benin\",\"offsetgroup\":\"Benin\",\"orientation\":\"v\",\"showlegend\":true,\"textposition\":\"auto\",\"x\":[\"Benin\"],\"xaxis\":\"x\",\"y\":[5.045],\"yaxis\":\"y\",\"type\":\"bar\"},{\"alignmentgroup\":\"True\",\"hovertemplate\":\"country=%{x}<br>ladderScore=%{y}<extra></extra>\",\"legendgroup\":\"Laos\",\"marker\":{\"color\":\"#FECB52\",\"pattern\":{\"shape\":\"\"}},\"name\":\"Laos\",\"offsetgroup\":\"Laos\",\"orientation\":\"v\",\"showlegend\":true,\"textposition\":\"auto\",\"x\":[\"Laos\"],\"xaxis\":\"x\",\"y\":[5.03],\"yaxis\":\"y\",\"type\":\"bar\"},{\"alignmentgroup\":\"True\",\"hovertemplate\":\"country=%{x}<br>ladderScore=%{y}<extra></extra>\",\"legendgroup\":\"Bangladesh\",\"marker\":{\"color\":\"#636efa\",\"pattern\":{\"shape\":\"\"}},\"name\":\"Bangladesh\",\"offsetgroup\":\"Bangladesh\",\"orientation\":\"v\",\"showlegend\":true,\"textposition\":\"auto\",\"x\":[\"Bangladesh\"],\"xaxis\":\"x\",\"y\":[5.025],\"yaxis\":\"y\",\"type\":\"bar\"},{\"alignmentgroup\":\"True\",\"hovertemplate\":\"country=%{x}<br>ladderScore=%{y}<extra></extra>\",\"legendgroup\":\"Guinea\",\"marker\":{\"color\":\"#EF553B\",\"pattern\":{\"shape\":\"\"}},\"name\":\"Guinea\",\"offsetgroup\":\"Guinea\",\"orientation\":\"v\",\"showlegend\":true,\"textposition\":\"auto\",\"x\":[\"Guinea\"],\"xaxis\":\"x\",\"y\":[4.984],\"yaxis\":\"y\",\"type\":\"bar\"},{\"alignmentgroup\":\"True\",\"hovertemplate\":\"country=%{x}<br>ladderScore=%{y}<extra></extra>\",\"legendgroup\":\"South Africa\",\"marker\":{\"color\":\"#00cc96\",\"pattern\":{\"shape\":\"\"}},\"name\":\"South Africa\",\"offsetgroup\":\"South Africa\",\"orientation\":\"v\",\"showlegend\":true,\"textposition\":\"auto\",\"x\":[\"South Africa\"],\"xaxis\":\"x\",\"y\":[4.956],\"yaxis\":\"y\",\"type\":\"bar\"},{\"alignmentgroup\":\"True\",\"hovertemplate\":\"country=%{x}<br>ladderScore=%{y}<extra></extra>\",\"legendgroup\":\"Turkey\",\"marker\":{\"color\":\"#ab63fa\",\"pattern\":{\"shape\":\"\"}},\"name\":\"Turkey\",\"offsetgroup\":\"Turkey\",\"orientation\":\"v\",\"showlegend\":true,\"textposition\":\"auto\",\"x\":[\"Turkey\"],\"xaxis\":\"x\",\"y\":[4.948],\"yaxis\":\"y\",\"type\":\"bar\"},{\"alignmentgroup\":\"True\",\"hovertemplate\":\"country=%{x}<br>ladderScore=%{y}<extra></extra>\",\"legendgroup\":\"Pakistan\",\"marker\":{\"color\":\"#FFA15A\",\"pattern\":{\"shape\":\"\"}},\"name\":\"Pakistan\",\"offsetgroup\":\"Pakistan\",\"orientation\":\"v\",\"showlegend\":true,\"textposition\":\"auto\",\"x\":[\"Pakistan\"],\"xaxis\":\"x\",\"y\":[4.934],\"yaxis\":\"y\",\"type\":\"bar\"},{\"alignmentgroup\":\"True\",\"hovertemplate\":\"country=%{x}<br>ladderScore=%{y}<extra></extra>\",\"legendgroup\":\"Morocco\",\"marker\":{\"color\":\"#19d3f3\",\"pattern\":{\"shape\":\"\"}},\"name\":\"Morocco\",\"offsetgroup\":\"Morocco\",\"orientation\":\"v\",\"showlegend\":true,\"textposition\":\"auto\",\"x\":[\"Morocco\"],\"xaxis\":\"x\",\"y\":[4.918],\"yaxis\":\"y\",\"type\":\"bar\"},{\"alignmentgroup\":\"True\",\"hovertemplate\":\"country=%{x}<br>ladderScore=%{y}<extra></extra>\",\"legendgroup\":\"Venezuela\",\"marker\":{\"color\":\"#FF6692\",\"pattern\":{\"shape\":\"\"}},\"name\":\"Venezuela\",\"offsetgroup\":\"Venezuela\",\"orientation\":\"v\",\"showlegend\":true,\"textposition\":\"auto\",\"x\":[\"Venezuela\"],\"xaxis\":\"x\",\"y\":[4.892],\"yaxis\":\"y\",\"type\":\"bar\"},{\"alignmentgroup\":\"True\",\"hovertemplate\":\"country=%{x}<br>ladderScore=%{y}<extra></extra>\",\"legendgroup\":\"Georgia\",\"marker\":{\"color\":\"#B6E880\",\"pattern\":{\"shape\":\"\"}},\"name\":\"Georgia\",\"offsetgroup\":\"Georgia\",\"orientation\":\"v\",\"showlegend\":true,\"textposition\":\"auto\",\"x\":[\"Georgia\"],\"xaxis\":\"x\",\"y\":[4.891],\"yaxis\":\"y\",\"type\":\"bar\"},{\"alignmentgroup\":\"True\",\"hovertemplate\":\"country=%{x}<br>ladderScore=%{y}<extra></extra>\",\"legendgroup\":\"Algeria\",\"marker\":{\"color\":\"#FF97FF\",\"pattern\":{\"shape\":\"\"}},\"name\":\"Algeria\",\"offsetgroup\":\"Algeria\",\"orientation\":\"v\",\"showlegend\":true,\"textposition\":\"auto\",\"x\":[\"Algeria\"],\"xaxis\":\"x\",\"y\":[4.887],\"yaxis\":\"y\",\"type\":\"bar\"},{\"alignmentgroup\":\"True\",\"hovertemplate\":\"country=%{x}<br>ladderScore=%{y}<extra></extra>\",\"legendgroup\":\"Ukraine\",\"marker\":{\"color\":\"#FECB52\",\"pattern\":{\"shape\":\"\"}},\"name\":\"Ukraine\",\"offsetgroup\":\"Ukraine\",\"orientation\":\"v\",\"showlegend\":true,\"textposition\":\"auto\",\"x\":[\"Ukraine\"],\"xaxis\":\"x\",\"y\":[4.875],\"yaxis\":\"y\",\"type\":\"bar\"},{\"alignmentgroup\":\"True\",\"hovertemplate\":\"country=%{x}<br>ladderScore=%{y}<extra></extra>\",\"legendgroup\":\"Iraq\",\"marker\":{\"color\":\"#636efa\",\"pattern\":{\"shape\":\"\"}},\"name\":\"Iraq\",\"offsetgroup\":\"Iraq\",\"orientation\":\"v\",\"showlegend\":true,\"textposition\":\"auto\",\"x\":[\"Iraq\"],\"xaxis\":\"x\",\"y\":[4.854],\"yaxis\":\"y\",\"type\":\"bar\"},{\"alignmentgroup\":\"True\",\"hovertemplate\":\"country=%{x}<br>ladderScore=%{y}<extra></extra>\",\"legendgroup\":\"Gabon\",\"marker\":{\"color\":\"#EF553B\",\"pattern\":{\"shape\":\"\"}},\"name\":\"Gabon\",\"offsetgroup\":\"Gabon\",\"orientation\":\"v\",\"showlegend\":true,\"textposition\":\"auto\",\"x\":[\"Gabon\"],\"xaxis\":\"x\",\"y\":[4.852],\"yaxis\":\"y\",\"type\":\"bar\"},{\"alignmentgroup\":\"True\",\"hovertemplate\":\"country=%{x}<br>ladderScore=%{y}<extra></extra>\",\"legendgroup\":\"Burkina Faso\",\"marker\":{\"color\":\"#00cc96\",\"pattern\":{\"shape\":\"\"}},\"name\":\"Burkina Faso\",\"offsetgroup\":\"Burkina Faso\",\"orientation\":\"v\",\"showlegend\":true,\"textposition\":\"auto\",\"x\":[\"Burkina Faso\"],\"xaxis\":\"x\",\"y\":[4.834],\"yaxis\":\"y\",\"type\":\"bar\"},{\"alignmentgroup\":\"True\",\"hovertemplate\":\"country=%{x}<br>ladderScore=%{y}<extra></extra>\",\"legendgroup\":\"Cambodia\",\"marker\":{\"color\":\"#ab63fa\",\"pattern\":{\"shape\":\"\"}},\"name\":\"Cambodia\",\"offsetgroup\":\"Cambodia\",\"orientation\":\"v\",\"showlegend\":true,\"textposition\":\"auto\",\"x\":[\"Cambodia\"],\"xaxis\":\"x\",\"y\":[4.83],\"yaxis\":\"y\",\"type\":\"bar\"},{\"alignmentgroup\":\"True\",\"hovertemplate\":\"country=%{x}<br>ladderScore=%{y}<extra></extra>\",\"legendgroup\":\"Mozambique\",\"marker\":{\"color\":\"#FFA15A\",\"pattern\":{\"shape\":\"\"}},\"name\":\"Mozambique\",\"offsetgroup\":\"Mozambique\",\"orientation\":\"v\",\"showlegend\":true,\"textposition\":\"auto\",\"x\":[\"Mozambique\"],\"xaxis\":\"x\",\"y\":[4.794],\"yaxis\":\"y\",\"type\":\"bar\"},{\"alignmentgroup\":\"True\",\"hovertemplate\":\"country=%{x}<br>ladderScore=%{y}<extra></extra>\",\"legendgroup\":\"Nigeria\",\"marker\":{\"color\":\"#19d3f3\",\"pattern\":{\"shape\":\"\"}},\"name\":\"Nigeria\",\"offsetgroup\":\"Nigeria\",\"orientation\":\"v\",\"showlegend\":true,\"textposition\":\"auto\",\"x\":[\"Nigeria\"],\"xaxis\":\"x\",\"y\":[4.759],\"yaxis\":\"y\",\"type\":\"bar\"},{\"alignmentgroup\":\"True\",\"hovertemplate\":\"country=%{x}<br>ladderScore=%{y}<extra></extra>\",\"legendgroup\":\"Mali\",\"marker\":{\"color\":\"#FF6692\",\"pattern\":{\"shape\":\"\"}},\"name\":\"Mali\",\"offsetgroup\":\"Mali\",\"orientation\":\"v\",\"showlegend\":true,\"textposition\":\"auto\",\"x\":[\"Mali\"],\"xaxis\":\"x\",\"y\":[4.723],\"yaxis\":\"y\",\"type\":\"bar\"},{\"alignmentgroup\":\"True\",\"hovertemplate\":\"country=%{x}<br>ladderScore=%{y}<extra></extra>\",\"legendgroup\":\"Iran\",\"marker\":{\"color\":\"#B6E880\",\"pattern\":{\"shape\":\"\"}},\"name\":\"Iran\",\"offsetgroup\":\"Iran\",\"orientation\":\"v\",\"showlegend\":true,\"textposition\":\"auto\",\"x\":[\"Iran\"],\"xaxis\":\"x\",\"y\":[4.721],\"yaxis\":\"y\",\"type\":\"bar\"},{\"alignmentgroup\":\"True\",\"hovertemplate\":\"country=%{x}<br>ladderScore=%{y}<extra></extra>\",\"legendgroup\":\"Uganda\",\"marker\":{\"color\":\"#FF97FF\",\"pattern\":{\"shape\":\"\"}},\"name\":\"Uganda\",\"offsetgroup\":\"Uganda\",\"orientation\":\"v\",\"showlegend\":true,\"textposition\":\"auto\",\"x\":[\"Uganda\"],\"xaxis\":\"x\",\"y\":[4.636],\"yaxis\":\"y\",\"type\":\"bar\"},{\"alignmentgroup\":\"True\",\"hovertemplate\":\"country=%{x}<br>ladderScore=%{y}<extra></extra>\",\"legendgroup\":\"Liberia\",\"marker\":{\"color\":\"#FECB52\",\"pattern\":{\"shape\":\"\"}},\"name\":\"Liberia\",\"offsetgroup\":\"Liberia\",\"orientation\":\"v\",\"showlegend\":true,\"textposition\":\"auto\",\"x\":[\"Liberia\"],\"xaxis\":\"x\",\"y\":[4.625],\"yaxis\":\"y\",\"type\":\"bar\"},{\"alignmentgroup\":\"True\",\"hovertemplate\":\"country=%{x}<br>ladderScore=%{y}<extra></extra>\",\"legendgroup\":\"Kenya\",\"marker\":{\"color\":\"#636efa\",\"pattern\":{\"shape\":\"\"}},\"name\":\"Kenya\",\"offsetgroup\":\"Kenya\",\"orientation\":\"v\",\"showlegend\":true,\"textposition\":\"auto\",\"x\":[\"Kenya\"],\"xaxis\":\"x\",\"y\":[4.607],\"yaxis\":\"y\",\"type\":\"bar\"},{\"alignmentgroup\":\"True\",\"hovertemplate\":\"country=%{x}<br>ladderScore=%{y}<extra></extra>\",\"legendgroup\":\"Tunisia\",\"marker\":{\"color\":\"#EF553B\",\"pattern\":{\"shape\":\"\"}},\"name\":\"Tunisia\",\"offsetgroup\":\"Tunisia\",\"orientation\":\"v\",\"showlegend\":true,\"textposition\":\"auto\",\"x\":[\"Tunisia\"],\"xaxis\":\"x\",\"y\":[4.596],\"yaxis\":\"y\",\"type\":\"bar\"},{\"alignmentgroup\":\"True\",\"hovertemplate\":\"country=%{x}<br>ladderScore=%{y}<extra></extra>\",\"legendgroup\":\"Lebanon\",\"marker\":{\"color\":\"#00cc96\",\"pattern\":{\"shape\":\"\"}},\"name\":\"Lebanon\",\"offsetgroup\":\"Lebanon\",\"orientation\":\"v\",\"showlegend\":true,\"textposition\":\"auto\",\"x\":[\"Lebanon\"],\"xaxis\":\"x\",\"y\":[4.584],\"yaxis\":\"y\",\"type\":\"bar\"},{\"alignmentgroup\":\"True\",\"hovertemplate\":\"country=%{x}<br>ladderScore=%{y}<extra></extra>\",\"legendgroup\":\"Namibia\",\"marker\":{\"color\":\"#ab63fa\",\"pattern\":{\"shape\":\"\"}},\"name\":\"Namibia\",\"offsetgroup\":\"Namibia\",\"orientation\":\"v\",\"showlegend\":true,\"textposition\":\"auto\",\"x\":[\"Namibia\"],\"xaxis\":\"x\",\"y\":[4.574],\"yaxis\":\"y\",\"type\":\"bar\"},{\"alignmentgroup\":\"True\",\"hovertemplate\":\"country=%{x}<br>ladderScore=%{y}<extra></extra>\",\"legendgroup\":\"Palestinian Territories\",\"marker\":{\"color\":\"#FFA15A\",\"pattern\":{\"shape\":\"\"}},\"name\":\"Palestinian Territories\",\"offsetgroup\":\"Palestinian Territories\",\"orientation\":\"v\",\"showlegend\":true,\"textposition\":\"auto\",\"x\":[\"Palestinian Territories\"],\"xaxis\":\"x\",\"y\":[4.517],\"yaxis\":\"y\",\"type\":\"bar\"},{\"alignmentgroup\":\"True\",\"hovertemplate\":\"country=%{x}<br>ladderScore=%{y}<extra></extra>\",\"legendgroup\":\"Myanmar\",\"marker\":{\"color\":\"#19d3f3\",\"pattern\":{\"shape\":\"\"}},\"name\":\"Myanmar\",\"offsetgroup\":\"Myanmar\",\"orientation\":\"v\",\"showlegend\":true,\"textposition\":\"auto\",\"x\":[\"Myanmar\"],\"xaxis\":\"x\",\"y\":[4.426],\"yaxis\":\"y\",\"type\":\"bar\"},{\"alignmentgroup\":\"True\",\"hovertemplate\":\"country=%{x}<br>ladderScore=%{y}<extra></extra>\",\"legendgroup\":\"Jordan\",\"marker\":{\"color\":\"#FF6692\",\"pattern\":{\"shape\":\"\"}},\"name\":\"Jordan\",\"offsetgroup\":\"Jordan\",\"orientation\":\"v\",\"showlegend\":true,\"textposition\":\"auto\",\"x\":[\"Jordan\"],\"xaxis\":\"x\",\"y\":[4.395],\"yaxis\":\"y\",\"type\":\"bar\"},{\"alignmentgroup\":\"True\",\"hovertemplate\":\"country=%{x}<br>ladderScore=%{y}<extra></extra>\",\"legendgroup\":\"Chad\",\"marker\":{\"color\":\"#B6E880\",\"pattern\":{\"shape\":\"\"}},\"name\":\"Chad\",\"offsetgroup\":\"Chad\",\"orientation\":\"v\",\"showlegend\":true,\"textposition\":\"auto\",\"x\":[\"Chad\"],\"xaxis\":\"x\",\"y\":[4.355],\"yaxis\":\"y\",\"type\":\"bar\"},{\"alignmentgroup\":\"True\",\"hovertemplate\":\"country=%{x}<br>ladderScore=%{y}<extra></extra>\",\"legendgroup\":\"Sri Lanka\",\"marker\":{\"color\":\"#FF97FF\",\"pattern\":{\"shape\":\"\"}},\"name\":\"Sri Lanka\",\"offsetgroup\":\"Sri Lanka\",\"orientation\":\"v\",\"showlegend\":true,\"textposition\":\"auto\",\"x\":[\"Sri Lanka\"],\"xaxis\":\"x\",\"y\":[4.325],\"yaxis\":\"y\",\"type\":\"bar\"},{\"alignmentgroup\":\"True\",\"hovertemplate\":\"country=%{x}<br>ladderScore=%{y}<extra></extra>\",\"legendgroup\":\"Swaziland\",\"marker\":{\"color\":\"#FECB52\",\"pattern\":{\"shape\":\"\"}},\"name\":\"Swaziland\",\"offsetgroup\":\"Swaziland\",\"orientation\":\"v\",\"showlegend\":true,\"textposition\":\"auto\",\"x\":[\"Swaziland\"],\"xaxis\":\"x\",\"y\":[4.308],\"yaxis\":\"y\",\"type\":\"bar\"},{\"alignmentgroup\":\"True\",\"hovertemplate\":\"country=%{x}<br>ladderScore=%{y}<extra></extra>\",\"legendgroup\":\"Comoros\",\"marker\":{\"color\":\"#636efa\",\"pattern\":{\"shape\":\"\"}},\"name\":\"Comoros\",\"offsetgroup\":\"Comoros\",\"orientation\":\"v\",\"showlegend\":true,\"textposition\":\"auto\",\"x\":[\"Comoros\"],\"xaxis\":\"x\",\"y\":[4.289],\"yaxis\":\"y\",\"type\":\"bar\"},{\"alignmentgroup\":\"True\",\"hovertemplate\":\"country=%{x}<br>ladderScore=%{y}<extra></extra>\",\"legendgroup\":\"Egypt\",\"marker\":{\"color\":\"#EF553B\",\"pattern\":{\"shape\":\"\"}},\"name\":\"Egypt\",\"offsetgroup\":\"Egypt\",\"orientation\":\"v\",\"showlegend\":true,\"textposition\":\"auto\",\"x\":[\"Egypt\"],\"xaxis\":\"x\",\"y\":[4.283],\"yaxis\":\"y\",\"type\":\"bar\"},{\"alignmentgroup\":\"True\",\"hovertemplate\":\"country=%{x}<br>ladderScore=%{y}<extra></extra>\",\"legendgroup\":\"Ethiopia\",\"marker\":{\"color\":\"#00cc96\",\"pattern\":{\"shape\":\"\"}},\"name\":\"Ethiopia\",\"offsetgroup\":\"Ethiopia\",\"orientation\":\"v\",\"showlegend\":true,\"textposition\":\"auto\",\"x\":[\"Ethiopia\"],\"xaxis\":\"x\",\"y\":[4.275],\"yaxis\":\"y\",\"type\":\"bar\"},{\"alignmentgroup\":\"True\",\"hovertemplate\":\"country=%{x}<br>ladderScore=%{y}<extra></extra>\",\"legendgroup\":\"Mauritania\",\"marker\":{\"color\":\"#ab63fa\",\"pattern\":{\"shape\":\"\"}},\"name\":\"Mauritania\",\"offsetgroup\":\"Mauritania\",\"orientation\":\"v\",\"showlegend\":true,\"textposition\":\"auto\",\"x\":[\"Mauritania\"],\"xaxis\":\"x\",\"y\":[4.227],\"yaxis\":\"y\",\"type\":\"bar\"},{\"alignmentgroup\":\"True\",\"hovertemplate\":\"country=%{x}<br>ladderScore=%{y}<extra></extra>\",\"legendgroup\":\"Madagascar\",\"marker\":{\"color\":\"#FFA15A\",\"pattern\":{\"shape\":\"\"}},\"name\":\"Madagascar\",\"offsetgroup\":\"Madagascar\",\"orientation\":\"v\",\"showlegend\":true,\"textposition\":\"auto\",\"x\":[\"Madagascar\"],\"xaxis\":\"x\",\"y\":[4.208],\"yaxis\":\"y\",\"type\":\"bar\"},{\"alignmentgroup\":\"True\",\"hovertemplate\":\"country=%{x}<br>ladderScore=%{y}<extra></extra>\",\"legendgroup\":\"Togo\",\"marker\":{\"color\":\"#19d3f3\",\"pattern\":{\"shape\":\"\"}},\"name\":\"Togo\",\"offsetgroup\":\"Togo\",\"orientation\":\"v\",\"showlegend\":true,\"textposition\":\"auto\",\"x\":[\"Togo\"],\"xaxis\":\"x\",\"y\":[4.107],\"yaxis\":\"y\",\"type\":\"bar\"},{\"alignmentgroup\":\"True\",\"hovertemplate\":\"country=%{x}<br>ladderScore=%{y}<extra></extra>\",\"legendgroup\":\"Zambia\",\"marker\":{\"color\":\"#FF6692\",\"pattern\":{\"shape\":\"\"}},\"name\":\"Zambia\",\"offsetgroup\":\"Zambia\",\"orientation\":\"v\",\"showlegend\":true,\"textposition\":\"auto\",\"x\":[\"Zambia\"],\"xaxis\":\"x\",\"y\":[4.073],\"yaxis\":\"y\",\"type\":\"bar\"},{\"alignmentgroup\":\"True\",\"hovertemplate\":\"country=%{x}<br>ladderScore=%{y}<extra></extra>\",\"legendgroup\":\"Sierra Leone\",\"marker\":{\"color\":\"#B6E880\",\"pattern\":{\"shape\":\"\"}},\"name\":\"Sierra Leone\",\"offsetgroup\":\"Sierra Leone\",\"orientation\":\"v\",\"showlegend\":true,\"textposition\":\"auto\",\"x\":[\"Sierra Leone\"],\"xaxis\":\"x\",\"y\":[3.849],\"yaxis\":\"y\",\"type\":\"bar\"},{\"alignmentgroup\":\"True\",\"hovertemplate\":\"country=%{x}<br>ladderScore=%{y}<extra></extra>\",\"legendgroup\":\"India\",\"marker\":{\"color\":\"#FF97FF\",\"pattern\":{\"shape\":\"\"}},\"name\":\"India\",\"offsetgroup\":\"India\",\"orientation\":\"v\",\"showlegend\":true,\"textposition\":\"auto\",\"x\":[\"India\"],\"xaxis\":\"x\",\"y\":[3.819],\"yaxis\":\"y\",\"type\":\"bar\"},{\"alignmentgroup\":\"True\",\"hovertemplate\":\"country=%{x}<br>ladderScore=%{y}<extra></extra>\",\"legendgroup\":\"Burundi\",\"marker\":{\"color\":\"#FECB52\",\"pattern\":{\"shape\":\"\"}},\"name\":\"Burundi\",\"offsetgroup\":\"Burundi\",\"orientation\":\"v\",\"showlegend\":true,\"textposition\":\"auto\",\"x\":[\"Burundi\"],\"xaxis\":\"x\",\"y\":[3.775],\"yaxis\":\"y\",\"type\":\"bar\"},{\"alignmentgroup\":\"True\",\"hovertemplate\":\"country=%{x}<br>ladderScore=%{y}<extra></extra>\",\"legendgroup\":\"Yemen\",\"marker\":{\"color\":\"#636efa\",\"pattern\":{\"shape\":\"\"}},\"name\":\"Yemen\",\"offsetgroup\":\"Yemen\",\"orientation\":\"v\",\"showlegend\":true,\"textposition\":\"auto\",\"x\":[\"Yemen\"],\"xaxis\":\"x\",\"y\":[3.658],\"yaxis\":\"y\",\"type\":\"bar\"},{\"alignmentgroup\":\"True\",\"hovertemplate\":\"country=%{x}<br>ladderScore=%{y}<extra></extra>\",\"legendgroup\":\"Tanzania\",\"marker\":{\"color\":\"#EF553B\",\"pattern\":{\"shape\":\"\"}},\"name\":\"Tanzania\",\"offsetgroup\":\"Tanzania\",\"orientation\":\"v\",\"showlegend\":true,\"textposition\":\"auto\",\"x\":[\"Tanzania\"],\"xaxis\":\"x\",\"y\":[3.623],\"yaxis\":\"y\",\"type\":\"bar\"},{\"alignmentgroup\":\"True\",\"hovertemplate\":\"country=%{x}<br>ladderScore=%{y}<extra></extra>\",\"legendgroup\":\"Haiti\",\"marker\":{\"color\":\"#00cc96\",\"pattern\":{\"shape\":\"\"}},\"name\":\"Haiti\",\"offsetgroup\":\"Haiti\",\"orientation\":\"v\",\"showlegend\":true,\"textposition\":\"auto\",\"x\":[\"Haiti\"],\"xaxis\":\"x\",\"y\":[3.615],\"yaxis\":\"y\",\"type\":\"bar\"},{\"alignmentgroup\":\"True\",\"hovertemplate\":\"country=%{x}<br>ladderScore=%{y}<extra></extra>\",\"legendgroup\":\"Malawi\",\"marker\":{\"color\":\"#ab63fa\",\"pattern\":{\"shape\":\"\"}},\"name\":\"Malawi\",\"offsetgroup\":\"Malawi\",\"orientation\":\"v\",\"showlegend\":true,\"textposition\":\"auto\",\"x\":[\"Malawi\"],\"xaxis\":\"x\",\"y\":[3.6],\"yaxis\":\"y\",\"type\":\"bar\"},{\"alignmentgroup\":\"True\",\"hovertemplate\":\"country=%{x}<br>ladderScore=%{y}<extra></extra>\",\"legendgroup\":\"Lesotho\",\"marker\":{\"color\":\"#FFA15A\",\"pattern\":{\"shape\":\"\"}},\"name\":\"Lesotho\",\"offsetgroup\":\"Lesotho\",\"orientation\":\"v\",\"showlegend\":true,\"textposition\":\"auto\",\"x\":[\"Lesotho\"],\"xaxis\":\"x\",\"y\":[3.512],\"yaxis\":\"y\",\"type\":\"bar\"},{\"alignmentgroup\":\"True\",\"hovertemplate\":\"country=%{x}<br>ladderScore=%{y}<extra></extra>\",\"legendgroup\":\"Botswana\",\"marker\":{\"color\":\"#19d3f3\",\"pattern\":{\"shape\":\"\"}},\"name\":\"Botswana\",\"offsetgroup\":\"Botswana\",\"orientation\":\"v\",\"showlegend\":true,\"textposition\":\"auto\",\"x\":[\"Botswana\"],\"xaxis\":\"x\",\"y\":[3.467],\"yaxis\":\"y\",\"type\":\"bar\"},{\"alignmentgroup\":\"True\",\"hovertemplate\":\"country=%{x}<br>ladderScore=%{y}<extra></extra>\",\"legendgroup\":\"Rwanda\",\"marker\":{\"color\":\"#FF6692\",\"pattern\":{\"shape\":\"\"}},\"name\":\"Rwanda\",\"offsetgroup\":\"Rwanda\",\"orientation\":\"v\",\"showlegend\":true,\"textposition\":\"auto\",\"x\":[\"Rwanda\"],\"xaxis\":\"x\",\"y\":[3.415],\"yaxis\":\"y\",\"type\":\"bar\"},{\"alignmentgroup\":\"True\",\"hovertemplate\":\"country=%{x}<br>ladderScore=%{y}<extra></extra>\",\"legendgroup\":\"Zimbabwe\",\"marker\":{\"color\":\"#B6E880\",\"pattern\":{\"shape\":\"\"}},\"name\":\"Zimbabwe\",\"offsetgroup\":\"Zimbabwe\",\"orientation\":\"v\",\"showlegend\":true,\"textposition\":\"auto\",\"x\":[\"Zimbabwe\"],\"xaxis\":\"x\",\"y\":[3.145],\"yaxis\":\"y\",\"type\":\"bar\"},{\"alignmentgroup\":\"True\",\"hovertemplate\":\"country=%{x}<br>ladderScore=%{y}<extra></extra>\",\"legendgroup\":\"Afghanistan\",\"marker\":{\"color\":\"#FF97FF\",\"pattern\":{\"shape\":\"\"}},\"name\":\"Afghanistan\",\"offsetgroup\":\"Afghanistan\",\"orientation\":\"v\",\"showlegend\":true,\"textposition\":\"auto\",\"x\":[\"Afghanistan\"],\"xaxis\":\"x\",\"y\":[2.523],\"yaxis\":\"y\",\"type\":\"bar\"}],                        {\"template\":{\"data\":{\"bar\":[{\"error_x\":{\"color\":\"#2a3f5f\"},\"error_y\":{\"color\":\"#2a3f5f\"},\"marker\":{\"line\":{\"color\":\"#E5ECF6\",\"width\":0.5},\"pattern\":{\"fillmode\":\"overlay\",\"size\":10,\"solidity\":0.2}},\"type\":\"bar\"}],\"barpolar\":[{\"marker\":{\"line\":{\"color\":\"#E5ECF6\",\"width\":0.5},\"pattern\":{\"fillmode\":\"overlay\",\"size\":10,\"solidity\":0.2}},\"type\":\"barpolar\"}],\"carpet\":[{\"aaxis\":{\"endlinecolor\":\"#2a3f5f\",\"gridcolor\":\"white\",\"linecolor\":\"white\",\"minorgridcolor\":\"white\",\"startlinecolor\":\"#2a3f5f\"},\"baxis\":{\"endlinecolor\":\"#2a3f5f\",\"gridcolor\":\"white\",\"linecolor\":\"white\",\"minorgridcolor\":\"white\",\"startlinecolor\":\"#2a3f5f\"},\"type\":\"carpet\"}],\"choropleth\":[{\"colorbar\":{\"outlinewidth\":0,\"ticks\":\"\"},\"type\":\"choropleth\"}],\"contour\":[{\"colorbar\":{\"outlinewidth\":0,\"ticks\":\"\"},\"colorscale\":[[0.0,\"#0d0887\"],[0.1111111111111111,\"#46039f\"],[0.2222222222222222,\"#7201a8\"],[0.3333333333333333,\"#9c179e\"],[0.4444444444444444,\"#bd3786\"],[0.5555555555555556,\"#d8576b\"],[0.6666666666666666,\"#ed7953\"],[0.7777777777777778,\"#fb9f3a\"],[0.8888888888888888,\"#fdca26\"],[1.0,\"#f0f921\"]],\"type\":\"contour\"}],\"contourcarpet\":[{\"colorbar\":{\"outlinewidth\":0,\"ticks\":\"\"},\"type\":\"contourcarpet\"}],\"heatmap\":[{\"colorbar\":{\"outlinewidth\":0,\"ticks\":\"\"},\"colorscale\":[[0.0,\"#0d0887\"],[0.1111111111111111,\"#46039f\"],[0.2222222222222222,\"#7201a8\"],[0.3333333333333333,\"#9c179e\"],[0.4444444444444444,\"#bd3786\"],[0.5555555555555556,\"#d8576b\"],[0.6666666666666666,\"#ed7953\"],[0.7777777777777778,\"#fb9f3a\"],[0.8888888888888888,\"#fdca26\"],[1.0,\"#f0f921\"]],\"type\":\"heatmap\"}],\"heatmapgl\":[{\"colorbar\":{\"outlinewidth\":0,\"ticks\":\"\"},\"colorscale\":[[0.0,\"#0d0887\"],[0.1111111111111111,\"#46039f\"],[0.2222222222222222,\"#7201a8\"],[0.3333333333333333,\"#9c179e\"],[0.4444444444444444,\"#bd3786\"],[0.5555555555555556,\"#d8576b\"],[0.6666666666666666,\"#ed7953\"],[0.7777777777777778,\"#fb9f3a\"],[0.8888888888888888,\"#fdca26\"],[1.0,\"#f0f921\"]],\"type\":\"heatmapgl\"}],\"histogram\":[{\"marker\":{\"pattern\":{\"fillmode\":\"overlay\",\"size\":10,\"solidity\":0.2}},\"type\":\"histogram\"}],\"histogram2d\":[{\"colorbar\":{\"outlinewidth\":0,\"ticks\":\"\"},\"colorscale\":[[0.0,\"#0d0887\"],[0.1111111111111111,\"#46039f\"],[0.2222222222222222,\"#7201a8\"],[0.3333333333333333,\"#9c179e\"],[0.4444444444444444,\"#bd3786\"],[0.5555555555555556,\"#d8576b\"],[0.6666666666666666,\"#ed7953\"],[0.7777777777777778,\"#fb9f3a\"],[0.8888888888888888,\"#fdca26\"],[1.0,\"#f0f921\"]],\"type\":\"histogram2d\"}],\"histogram2dcontour\":[{\"colorbar\":{\"outlinewidth\":0,\"ticks\":\"\"},\"colorscale\":[[0.0,\"#0d0887\"],[0.1111111111111111,\"#46039f\"],[0.2222222222222222,\"#7201a8\"],[0.3333333333333333,\"#9c179e\"],[0.4444444444444444,\"#bd3786\"],[0.5555555555555556,\"#d8576b\"],[0.6666666666666666,\"#ed7953\"],[0.7777777777777778,\"#fb9f3a\"],[0.8888888888888888,\"#fdca26\"],[1.0,\"#f0f921\"]],\"type\":\"histogram2dcontour\"}],\"mesh3d\":[{\"colorbar\":{\"outlinewidth\":0,\"ticks\":\"\"},\"type\":\"mesh3d\"}],\"parcoords\":[{\"line\":{\"colorbar\":{\"outlinewidth\":0,\"ticks\":\"\"}},\"type\":\"parcoords\"}],\"pie\":[{\"automargin\":true,\"type\":\"pie\"}],\"scatter\":[{\"marker\":{\"colorbar\":{\"outlinewidth\":0,\"ticks\":\"\"}},\"type\":\"scatter\"}],\"scatter3d\":[{\"line\":{\"colorbar\":{\"outlinewidth\":0,\"ticks\":\"\"}},\"marker\":{\"colorbar\":{\"outlinewidth\":0,\"ticks\":\"\"}},\"type\":\"scatter3d\"}],\"scattercarpet\":[{\"marker\":{\"colorbar\":{\"outlinewidth\":0,\"ticks\":\"\"}},\"type\":\"scattercarpet\"}],\"scattergeo\":[{\"marker\":{\"colorbar\":{\"outlinewidth\":0,\"ticks\":\"\"}},\"type\":\"scattergeo\"}],\"scattergl\":[{\"marker\":{\"colorbar\":{\"outlinewidth\":0,\"ticks\":\"\"}},\"type\":\"scattergl\"}],\"scattermapbox\":[{\"marker\":{\"colorbar\":{\"outlinewidth\":0,\"ticks\":\"\"}},\"type\":\"scattermapbox\"}],\"scatterpolar\":[{\"marker\":{\"colorbar\":{\"outlinewidth\":0,\"ticks\":\"\"}},\"type\":\"scatterpolar\"}],\"scatterpolargl\":[{\"marker\":{\"colorbar\":{\"outlinewidth\":0,\"ticks\":\"\"}},\"type\":\"scatterpolargl\"}],\"scatterternary\":[{\"marker\":{\"colorbar\":{\"outlinewidth\":0,\"ticks\":\"\"}},\"type\":\"scatterternary\"}],\"surface\":[{\"colorbar\":{\"outlinewidth\":0,\"ticks\":\"\"},\"colorscale\":[[0.0,\"#0d0887\"],[0.1111111111111111,\"#46039f\"],[0.2222222222222222,\"#7201a8\"],[0.3333333333333333,\"#9c179e\"],[0.4444444444444444,\"#bd3786\"],[0.5555555555555556,\"#d8576b\"],[0.6666666666666666,\"#ed7953\"],[0.7777777777777778,\"#fb9f3a\"],[0.8888888888888888,\"#fdca26\"],[1.0,\"#f0f921\"]],\"type\":\"surface\"}],\"table\":[{\"cells\":{\"fill\":{\"color\":\"#EBF0F8\"},\"line\":{\"color\":\"white\"}},\"header\":{\"fill\":{\"color\":\"#C8D4E3\"},\"line\":{\"color\":\"white\"}},\"type\":\"table\"}]},\"layout\":{\"annotationdefaults\":{\"arrowcolor\":\"#2a3f5f\",\"arrowhead\":0,\"arrowwidth\":1},\"autotypenumbers\":\"strict\",\"coloraxis\":{\"colorbar\":{\"outlinewidth\":0,\"ticks\":\"\"}},\"colorscale\":{\"diverging\":[[0,\"#8e0152\"],[0.1,\"#c51b7d\"],[0.2,\"#de77ae\"],[0.3,\"#f1b6da\"],[0.4,\"#fde0ef\"],[0.5,\"#f7f7f7\"],[0.6,\"#e6f5d0\"],[0.7,\"#b8e186\"],[0.8,\"#7fbc41\"],[0.9,\"#4d9221\"],[1,\"#276419\"]],\"sequential\":[[0.0,\"#0d0887\"],[0.1111111111111111,\"#46039f\"],[0.2222222222222222,\"#7201a8\"],[0.3333333333333333,\"#9c179e\"],[0.4444444444444444,\"#bd3786\"],[0.5555555555555556,\"#d8576b\"],[0.6666666666666666,\"#ed7953\"],[0.7777777777777778,\"#fb9f3a\"],[0.8888888888888888,\"#fdca26\"],[1.0,\"#f0f921\"]],\"sequentialminus\":[[0.0,\"#0d0887\"],[0.1111111111111111,\"#46039f\"],[0.2222222222222222,\"#7201a8\"],[0.3333333333333333,\"#9c179e\"],[0.4444444444444444,\"#bd3786\"],[0.5555555555555556,\"#d8576b\"],[0.6666666666666666,\"#ed7953\"],[0.7777777777777778,\"#fb9f3a\"],[0.8888888888888888,\"#fdca26\"],[1.0,\"#f0f921\"]]},\"colorway\":[\"#636efa\",\"#EF553B\",\"#00cc96\",\"#ab63fa\",\"#FFA15A\",\"#19d3f3\",\"#FF6692\",\"#B6E880\",\"#FF97FF\",\"#FECB52\"],\"font\":{\"color\":\"#2a3f5f\"},\"geo\":{\"bgcolor\":\"white\",\"lakecolor\":\"white\",\"landcolor\":\"#E5ECF6\",\"showlakes\":true,\"showland\":true,\"subunitcolor\":\"white\"},\"hoverlabel\":{\"align\":\"left\"},\"hovermode\":\"closest\",\"mapbox\":{\"style\":\"light\"},\"paper_bgcolor\":\"white\",\"plot_bgcolor\":\"#E5ECF6\",\"polar\":{\"angularaxis\":{\"gridcolor\":\"white\",\"linecolor\":\"white\",\"ticks\":\"\"},\"bgcolor\":\"#E5ECF6\",\"radialaxis\":{\"gridcolor\":\"white\",\"linecolor\":\"white\",\"ticks\":\"\"}},\"scene\":{\"xaxis\":{\"backgroundcolor\":\"#E5ECF6\",\"gridcolor\":\"white\",\"gridwidth\":2,\"linecolor\":\"white\",\"showbackground\":true,\"ticks\":\"\",\"zerolinecolor\":\"white\"},\"yaxis\":{\"backgroundcolor\":\"#E5ECF6\",\"gridcolor\":\"white\",\"gridwidth\":2,\"linecolor\":\"white\",\"showbackground\":true,\"ticks\":\"\",\"zerolinecolor\":\"white\"},\"zaxis\":{\"backgroundcolor\":\"#E5ECF6\",\"gridcolor\":\"white\",\"gridwidth\":2,\"linecolor\":\"white\",\"showbackground\":true,\"ticks\":\"\",\"zerolinecolor\":\"white\"}},\"shapedefaults\":{\"line\":{\"color\":\"#2a3f5f\"}},\"ternary\":{\"aaxis\":{\"gridcolor\":\"white\",\"linecolor\":\"white\",\"ticks\":\"\"},\"baxis\":{\"gridcolor\":\"white\",\"linecolor\":\"white\",\"ticks\":\"\"},\"bgcolor\":\"#E5ECF6\",\"caxis\":{\"gridcolor\":\"white\",\"linecolor\":\"white\",\"ticks\":\"\"}},\"title\":{\"x\":0.05},\"xaxis\":{\"automargin\":true,\"gridcolor\":\"white\",\"linecolor\":\"white\",\"ticks\":\"\",\"title\":{\"standoff\":15},\"zerolinecolor\":\"white\",\"zerolinewidth\":2},\"yaxis\":{\"automargin\":true,\"gridcolor\":\"white\",\"linecolor\":\"white\",\"ticks\":\"\",\"title\":{\"standoff\":15},\"zerolinecolor\":\"white\",\"zerolinewidth\":2}}},\"xaxis\":{\"anchor\":\"y\",\"domain\":[0.0,1.0],\"title\":{\"text\":\"country\"},\"categoryorder\":\"array\",\"categoryarray\":[\"Finland\",\"Denmark\",\"Switzerland\",\"Iceland\",\"Netherlands\",\"Norway\",\"Sweden\",\"Luxembourg\",\"New Zealand\",\"Austria\",\"Australia\",\"Israel\",\"Germany\",\"Canada\",\"Ireland\",\"Costa Rica\",\"United Kingdom\",\"Czech Republic\",\"United States\",\"Belgium\",\"France\",\"Bahrain\",\"Malta\",\"Taiwan Province of China\",\"United Arab Emirates\",\"Saudi Arabia\",\"Spain\",\"Italy\",\"Slovenia\",\"Guatemala\",\"Uruguay\",\"Singapore\",\"Kosovo\",\"Slovakia\",\"Brazil\",\"Mexico\",\"Jamaica\",\"Lithuania\",\"Cyprus\",\"Estonia\",\"Panama\",\"Uzbekistan\",\"Chile\",\"Poland\",\"Kazakhstan\",\"Romania\",\"Kuwait\",\"Serbia\",\"El Salvador\",\"Mauritius\",\"Latvia\",\"Colombia\",\"Hungary\",\"Thailand\",\"Nicaragua\",\"Japan\",\"Argentina\",\"Portugal\",\"Honduras\",\"Croatia\",\"Philippines\",\"South Korea\",\"Peru\",\"Bosnia and Herzegovina\",\"Moldova\",\"Ecuador\",\"Kyrgyzstan\",\"Greece\",\"Bolivia\",\"Mongolia\",\"Paraguay\",\"Montenegro\",\"Dominican Republic\",\"North Cyprus\",\"Belarus\",\"Russia\",\"Hong Kong S.A.R. of China\",\"Tajikistan\",\"Vietnam\",\"Libya\",\"Malaysia\",\"Indonesia\",\"Congo (Brazzaville)\",\"China\",\"Ivory Coast\",\"Armenia\",\"Nepal\",\"Bulgaria\",\"Maldives\",\"Azerbaijan\",\"Cameroon\",\"Senegal\",\"Albania\",\"North Macedonia\",\"Ghana\",\"Niger\",\"Turkmenistan\",\"Gambia\",\"Benin\",\"Laos\",\"Bangladesh\",\"Guinea\",\"South Africa\",\"Turkey\",\"Pakistan\",\"Morocco\",\"Venezuela\",\"Georgia\",\"Algeria\",\"Ukraine\",\"Iraq\",\"Gabon\",\"Burkina Faso\",\"Cambodia\",\"Mozambique\",\"Nigeria\",\"Mali\",\"Iran\",\"Uganda\",\"Liberia\",\"Kenya\",\"Tunisia\",\"Lebanon\",\"Namibia\",\"Palestinian Territories\",\"Myanmar\",\"Jordan\",\"Chad\",\"Sri Lanka\",\"Swaziland\",\"Comoros\",\"Egypt\",\"Ethiopia\",\"Mauritania\",\"Madagascar\",\"Togo\",\"Zambia\",\"Sierra Leone\",\"India\",\"Burundi\",\"Yemen\",\"Tanzania\",\"Haiti\",\"Malawi\",\"Lesotho\",\"Botswana\",\"Rwanda\",\"Zimbabwe\",\"Afghanistan\"]},\"yaxis\":{\"anchor\":\"x\",\"domain\":[0.0,1.0],\"title\":{\"text\":\"ladderScore\"}},\"legend\":{\"title\":{\"text\":\"country\"},\"tracegroupgap\":0},\"margin\":{\"t\":60},\"barmode\":\"relative\",\"height\":600},                        {\"responsive\": true}                    ).then(function(){\n",
              "                            \n",
              "var gd = document.getElementById('7fda69b0-24af-4962-8ab2-1399ab78e88b');\n",
              "var x = new MutationObserver(function (mutations, observer) {{\n",
              "        var display = window.getComputedStyle(gd).display;\n",
              "        if (!display || display === 'none') {{\n",
              "            console.log([gd, 'removed!']);\n",
              "            Plotly.purge(gd);\n",
              "            observer.disconnect();\n",
              "        }}\n",
              "}});\n",
              "\n",
              "// Listen for the removal of the full notebook cells\n",
              "var notebookContainer = gd.closest('#notebook-container');\n",
              "if (notebookContainer) {{\n",
              "    x.observe(notebookContainer, {childList: true});\n",
              "}}\n",
              "\n",
              "// Listen for the clearing of the current output cell\n",
              "var outputEl = gd.closest('.output');\n",
              "if (outputEl) {{\n",
              "    x.observe(outputEl, {childList: true});\n",
              "}}\n",
              "\n",
              "                        })                };                            </script>        </div>\n",
              "</body>\n",
              "</html>"
            ]
          },
          "metadata": {}
        }
      ],
      "source": [
        "fig = px.bar(df, y= 'ladderScore', x= 'country', orientation='v', color ='country',\n",
        "                 labels={'Ladder score':'Mutluluk Endeksi'},\n",
        "                 height=600)\n",
        "fig.show()"
      ]
    },
    {
      "cell_type": "code",
      "execution_count": 14,
      "metadata": {
        "colab": {
          "base_uri": "https://localhost:8080/"
        },
        "id": "1b4l6mi1b3r9",
        "outputId": "e345a15c-8d6f-4d7d-a699-d6b392d8cb39"
      },
      "outputs": [
        {
          "output_type": "stream",
          "name": "stdout",
          "text": [
            "The most happy country is Finland, and the least happy country is Afghanistan\n"
          ]
        }
      ],
      "source": [
        "# En mutlu ve en mutsuz ülke belirlemesi\n",
        "# df.sort_values numerik değerleri ascending olarak sıralar\n",
        "# 'ignore_index'=False, veri çerçevesinin orijinal dizini sıralamadan sonra değişmez\n",
        "\n",
        "leat_happy_country=df.sort_values(by='ladderScore', ignore_index=True)['country'].iloc[0]\n",
        "most_happy_country=df.sort_values(by='ladderScore', ignore_index=True)['country'].iloc[-1]\n",
        "\n",
        "print(f'The most happy country is {most_happy_country}, and the least happy country is {leat_happy_country}')"
      ]
    },
    {
      "cell_type": "code",
      "execution_count": 15,
      "metadata": {
        "id": "MOJ-88QcVXjL",
        "colab": {
          "base_uri": "https://localhost:8080/"
        },
        "outputId": "39e06f7a-05f1-481a-c98a-a2ce13718ef1"
      },
      "outputs": [
        {
          "output_type": "stream",
          "name": "stdout",
          "text": [
            "Collecting sweetviz\n",
            "  Downloading sweetviz-2.1.3-py3-none-any.whl (15.1 MB)\n",
            "\u001b[K     |████████████████████████████████| 15.1 MB 6.0 MB/s \n",
            "\u001b[?25hRequirement already satisfied: scipy>=1.3.2 in /usr/local/lib/python3.7/dist-packages (from sweetviz) (1.4.1)\n",
            "Requirement already satisfied: jinja2>=2.11.1 in /usr/local/lib/python3.7/dist-packages (from sweetviz) (2.11.3)\n",
            "Requirement already satisfied: pandas!=1.0.0,!=1.0.1,!=1.0.2,>=0.25.3 in /usr/local/lib/python3.7/dist-packages (from sweetviz) (1.3.5)\n",
            "Requirement already satisfied: numpy>=1.16.0 in /usr/local/lib/python3.7/dist-packages (from sweetviz) (1.19.5)\n",
            "Requirement already satisfied: importlib-resources>=1.2.0 in /usr/local/lib/python3.7/dist-packages (from sweetviz) (5.4.0)\n",
            "Requirement already satisfied: tqdm>=4.43.0 in /usr/local/lib/python3.7/dist-packages (from sweetviz) (4.62.3)\n",
            "Requirement already satisfied: matplotlib>=3.1.3 in /usr/local/lib/python3.7/dist-packages (from sweetviz) (3.2.2)\n",
            "Requirement already satisfied: zipp>=3.1.0 in /usr/local/lib/python3.7/dist-packages (from importlib-resources>=1.2.0->sweetviz) (3.7.0)\n",
            "Requirement already satisfied: MarkupSafe>=0.23 in /usr/local/lib/python3.7/dist-packages (from jinja2>=2.11.1->sweetviz) (2.0.1)\n",
            "Requirement already satisfied: kiwisolver>=1.0.1 in /usr/local/lib/python3.7/dist-packages (from matplotlib>=3.1.3->sweetviz) (1.3.2)\n",
            "Requirement already satisfied: cycler>=0.10 in /usr/local/lib/python3.7/dist-packages (from matplotlib>=3.1.3->sweetviz) (0.11.0)\n",
            "Requirement already satisfied: python-dateutil>=2.1 in /usr/local/lib/python3.7/dist-packages (from matplotlib>=3.1.3->sweetviz) (2.8.2)\n",
            "Requirement already satisfied: pyparsing!=2.0.4,!=2.1.2,!=2.1.6,>=2.0.1 in /usr/local/lib/python3.7/dist-packages (from matplotlib>=3.1.3->sweetviz) (3.0.7)\n",
            "Requirement already satisfied: pytz>=2017.3 in /usr/local/lib/python3.7/dist-packages (from pandas!=1.0.0,!=1.0.1,!=1.0.2,>=0.25.3->sweetviz) (2018.9)\n",
            "Requirement already satisfied: six>=1.5 in /usr/local/lib/python3.7/dist-packages (from python-dateutil>=2.1->matplotlib>=3.1.3->sweetviz) (1.15.0)\n",
            "Installing collected packages: sweetviz\n",
            "Successfully installed sweetviz-2.1.3\n"
          ]
        }
      ],
      "source": [
        "pip install sweetviz"
      ]
    },
    {
      "cell_type": "code",
      "execution_count": 16,
      "metadata": {
        "colab": {
          "base_uri": "https://localhost:8080/",
          "height": 66,
          "referenced_widgets": [
            "2800a5126c92482393a96f1e8eb3a011",
            "41577696d0d241658acb40825071206a",
            "9a65b374c9da413b9396acdd0a5e881c",
            "acded27b0570436ba230d27b0175def9",
            "1682bf91523c4ced8597744d25080349",
            "657caa878f274eafb58f58aab393d8ce",
            "16f359b8ee8c4661a961b4e744a1bd3c",
            "a19b8bd73a32470e98331388cb3fa119",
            "259d18c448324d419b19681eaf5c20a6",
            "0fa2b662db3243fdb541a49e0fc3b765",
            "b785bd2e9c4641068b021371b569be76"
          ]
        },
        "id": "PRXqB8wYVPhr",
        "outputId": "dbc5cf8b-53bc-4360-a8c7-c228030c4d0b"
      },
      "outputs": [
        {
          "output_type": "display_data",
          "data": {
            "application/vnd.jupyter.widget-view+json": {
              "model_id": "2800a5126c92482393a96f1e8eb3a011",
              "version_minor": 0,
              "version_major": 2
            },
            "text/plain": [
              "                                             |          | [  0%]   00:00 -> (? left)"
            ]
          },
          "metadata": {}
        },
        {
          "output_type": "stream",
          "name": "stdout",
          "text": [
            "Report Advertising.html was generated! NOTEBOOK/COLAB USERS: the web browser MAY not pop up, regardless, the report IS saved in your notebook/colab files.\n"
          ]
        }
      ],
      "source": [
        "#importing sweetviz\n",
        "import sweetviz as sv\n",
        "#analyzing the dataset\n",
        "advert_report = sv.analyze(df)\n",
        "#display the report\n",
        "advert_report.show_html('Advertising.html')"
      ]
    },
    {
      "cell_type": "markdown",
      "metadata": {
        "id": "bTW6BzcVWmAJ"
      },
      "source": [
        "📌Advertising.html dosyası sisteminize eklenir. Sütunların grafikleri detaylı şekilde incelenebilir.<br>\n",
        "📌Araştırmaya en fazla Sub-Saharan African bölgesinden ülke katılmıştır.<br>\n",
        "📌Mutluluk skoru neredeyse normal dağılıma sahip ve ekonomik gelir ile ilişkilendirebileceğimiz GDP ile yüksek korelasyon içerisindedir.<br>\n",
        "📌Dünya nüfusunun %14'ü 6.. civarında skora sahiptir\n",
        "![ladder_score.png](data:image/png;base64,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)"
      ]
    },
    {
      "cell_type": "markdown",
      "metadata": {
        "id": "k1pxlL_VjFFe"
      },
      "source": [
        "📌Hedef değişken için bağımsız değişkenleri korelasyon ile belirleme"
      ]
    },
    {
      "cell_type": "code",
      "execution_count": 17,
      "metadata": {
        "colab": {
          "base_uri": "https://localhost:8080/",
          "height": 440
        },
        "id": "VNntni8xowuE",
        "outputId": "34d24b8d-8f91-4cb2-90ac-3bee6f511262"
      },
      "outputs": [
        {
          "output_type": "display_data",
          "data": {
            "image/png": "[encoded data removed]",
            "text/plain": [
              "<Figure size 600x400 with 2 Axes>"
            ]
          },
          "metadata": {}
        }
      ],
      "source": [
        "heatmap = sns.heatmap(df.corr(), vmin=-1, vmax=1, annot=True, cmap='BrBG')\n",
        "plt.yticks(rotation = \"horizontal\")\n",
        "plt.xticks(rotation = \"70\");"
      ]
    },
    {
      "cell_type": "markdown",
      "metadata": {
        "id": "Tc7CH7yupyqS"
      },
      "source": [
        "📌Korelasyon sıralamasına göre ladderScore'un sırasıyla GDP, Life Expect ve Social Support ile güçlü ilişkileri olduğu görülüyor."
      ]
    },
    {
      "cell_type": "code",
      "execution_count": 18,
      "metadata": {
        "colab": {
          "base_uri": "https://localhost:8080/"
        },
        "id": "fXVUiB6ribnv",
        "outputId": "2075b81b-90b5-482d-d12b-26b6f372d368"
      },
      "outputs": [
        {
          "output_type": "execute_result",
          "data": {
            "text/plain": [
              "ladderScore          1.000000\n",
              "GDP                  0.789760\n",
              "socialSupport        0.756888\n",
              "lifeExpect           0.768099\n",
              "freedomChoices       0.607753\n",
              "generosity          -0.017799\n",
              "perceptionCorrupt   -0.421140\n",
              "Name: ladderScore, dtype: float64"
            ]
          },
          "metadata": {},
          "execution_count": 18
        }
      ],
      "source": [
        "cor =df.corr()\n",
        "cor['ladderScore']"
      ]
    },
    {
      "cell_type": "markdown",
      "metadata": {
        "id": "0lAW-KCGm1SL"
      },
      "source": [
        "📌Türkiye genel mutluluk ortalamasının altında kalarak lowerHappy 0 olarak değer almıştır."
      ]
    },
    {
      "cell_type": "code",
      "execution_count": 19,
      "metadata": {
        "colab": {
          "base_uri": "https://localhost:8080/"
        },
        "id": "Fb8k-4qyh1Tm",
        "outputId": "2e810132-b1f6-4ddb-dce8-d212b7876963"
      },
      "outputs": [
        {
          "output_type": "stream",
          "name": "stdout",
          "text": [
            "    country                      regional  ...  perceptionCorrupt  lowerHappy\n",
            "103  Turkey  Middle East and North Africa  ...              0.776           0\n",
            "\n",
            "[1 rows x 10 columns]\n",
            "Ortalama mutluluk: 5.532838926174494\n"
          ]
        }
      ],
      "source": [
        "happiness_mean = df['ladderScore'].mean()\n",
        "df['lowerHappy'] = df['ladderScore'].apply(lambda x: 0 if x < happiness_mean else 1)\n",
        "print(df[df[\"country\"].map(lambda country: \"Turkey\" in country)])\n",
        "print(f'Ortalama mutluluk: {happiness_mean}')"
      ]
    },
    {
      "cell_type": "markdown",
      "metadata": {
        "id": "Ftvt-j1fgtTM"
      },
      "source": [
        "📌Veri kümemizin dengeli veya dengesiz olduğunu görelim"
      ]
    },
    {
      "cell_type": "code",
      "execution_count": 20,
      "metadata": {
        "colab": {
          "base_uri": "https://localhost:8080/",
          "height": 396
        },
        "id": "b5bZQ6pigjG6",
        "outputId": "943c0ebf-59c6-4a2d-90de-fbf59938cf0c"
      },
      "outputs": [
        {
          "output_type": "execute_result",
          "data": {
            "text/plain": [
              "<matplotlib.axes._subplots.AxesSubplot at 0x7f198b222810>"
            ]
          },
          "metadata": {},
          "execution_count": 20
        },
        {
          "output_type": "display_data",
          "data": {
            "image/png": "[encoded data removed]",
            "text/plain": [
              "<Figure size 600x400 with 1 Axes>"
            ]
          },
          "metadata": {}
        }
      ],
      "source": [
        "sns.countplot(df['lowerHappy'])"
      ]
    },
    {
      "cell_type": "markdown",
      "metadata": {
        "id": "De2La69LnMkA"
      },
      "source": [
        "📌Mutlu kategorisine giren ülkelerde daha yüksek gelir, sosyal yardım, sağlıklı hayat beklentisi ve özgür seçimler yapabilmek varken mutsuz ülkelerde yolsuzluk fazladır. <br>\n",
        "📌Cömertlikte mutsuz ülkeler üstünlük gösterebilmiştir."
      ]
    },
    {
      "cell_type": "code",
      "execution_count": 21,
      "metadata": {
        "colab": {
          "base_uri": "https://localhost:8080/",
          "height": 637
        },
        "id": "AyuKVGCukiKF",
        "outputId": "7db1c61d-5271-450f-9a20-7321b4cf74b6"
      },
      "outputs": [
        {
          "output_type": "display_data",
          "data": {
            "image/png": "[encoded data removed]",
            "text/plain": [
              "<Figure size 1200x600 with 6 Axes>"
            ]
          },
          "metadata": {}
        }
      ],
      "source": [
        "# colours\n",
        "low_c = '#dd4124'\n",
        "high_c = '#009473'\n",
        "plt.rcParams[\"font.family\"] = \"monospace\"\n",
        "\n",
        "fig = plt.figure(figsize=(12, 6), dpi=100)\n",
        "gs = fig.add_gridspec(2, 3)\n",
        "gs.update(wspace=0.2, hspace=0.5) #yazı için aralık\n",
        "\n",
        "#2 satır 3 sütun table özellikler\n",
        "plot = 0\n",
        "for row in range(0, 2):\n",
        "    for col in range(0, 3):\n",
        "        locals()[\"ax\"+str(plot)] = fig.add_subplot(gs[row, col])\n",
        "        locals()[\"ax\"+str(plot)].tick_params(axis='y', left=False)\n",
        "        locals()[\"ax\"+str(plot)].get_yaxis().set_visible(False)\n",
        "        locals()[\"ax\"+str(plot)].set_axisbelow(True)\n",
        "        for s in [\"top\",\"right\",\"left\"]:\n",
        "            locals()[\"ax\"+str(plot)].spines[s].set_visible(False)\n",
        "        plot += 1\n",
        "\n",
        "plot = 0\n",
        "\n",
        "Yes = df[df['lowerHappy'] == 1]\n",
        "No = df[df['lowerHappy'] == 0]\n",
        "\n",
        "for variable in continuous:\n",
        "        sns.kdeplot(Yes[variable], ax=locals()[\"ax\"+str(plot)], color=high_c)\n",
        "        sns.kdeplot(No[variable],ax=locals()[\"ax\"+str(plot)], color=low_c)\n",
        "        plot += 1\n",
        "        \n",
        "Xstart, Xend = ax0.get_xlim()\n",
        "Ystart, Yend = ax0.get_ylim()\n",
        "\n",
        "ax0.text(Xstart, Yend+(Yend*0.5), 'Differences Between Happy/Unhappy Countries')\n",
        "\n",
        "\n",
        "plt.show()"
      ]
    },
    {
      "cell_type": "markdown",
      "metadata": {
        "id": "qAD2m7XDog2R"
      },
      "source": [
        "📌Yıllara göre Finlandiya & Türkiye Mutluluk Karşılaştırması"
      ]
    },
    {
      "cell_type": "code",
      "execution_count": 22,
      "metadata": {
        "colab": {
          "base_uri": "https://localhost:8080/",
          "height": 267
        },
        "id": "eaeOAAcAnatF",
        "outputId": "048c7557-ce7d-4a15-bf3f-c503ae4e5261"
      },
      "outputs": [
        {
          "output_type": "execute_result",
          "data": {
            "text/html": [
              "\n",
              "  <div id=\"df-ef1764be-8cc5-4241-8275-a387c190940e\">\n",
              "    <div class=\"colab-df-container\">\n",
              "      <div>\n",
              "<style scoped>\n",
              "    .dataframe tbody tr th:only-of-type {\n",
              "        vertical-align: middle;\n",
              "    }\n",
              "\n",
              "    .dataframe tbody tr th {\n",
              "        vertical-align: top;\n",
              "    }\n",
              "\n",
              "    .dataframe thead th {\n",
              "        text-align: right;\n",
              "    }\n",
              "</style>\n",
              "<table border=\"1\" class=\"dataframe\">\n",
              "  <thead>\n",
              "    <tr style=\"text-align: right;\">\n",
              "      <th></th>\n",
              "      <th>Country name</th>\n",
              "      <th>year</th>\n",
              "      <th>Life Ladder</th>\n",
              "      <th>Log GDP per capita</th>\n",
              "      <th>Social support</th>\n",
              "      <th>Healthy life expectancy at birth</th>\n",
              "      <th>Freedom to make life choices</th>\n",
              "      <th>Generosity</th>\n",
              "      <th>Perceptions of corruption</th>\n",
              "      <th>Positive affect</th>\n",
              "      <th>Negative affect</th>\n",
              "    </tr>\n",
              "  </thead>\n",
              "  <tbody>\n",
              "    <tr>\n",
              "      <th>0</th>\n",
              "      <td>Afghanistan</td>\n",
              "      <td>2008</td>\n",
              "      <td>3.724</td>\n",
              "      <td>7.370</td>\n",
              "      <td>0.451</td>\n",
              "      <td>50.80</td>\n",
              "      <td>0.718</td>\n",
              "      <td>0.168</td>\n",
              "      <td>0.882</td>\n",
              "      <td>0.518</td>\n",
              "      <td>0.258</td>\n",
              "    </tr>\n",
              "    <tr>\n",
              "      <th>1</th>\n",
              "      <td>Afghanistan</td>\n",
              "      <td>2009</td>\n",
              "      <td>4.402</td>\n",
              "      <td>7.540</td>\n",
              "      <td>0.552</td>\n",
              "      <td>51.20</td>\n",
              "      <td>0.679</td>\n",
              "      <td>0.190</td>\n",
              "      <td>0.850</td>\n",
              "      <td>0.584</td>\n",
              "      <td>0.237</td>\n",
              "    </tr>\n",
              "    <tr>\n",
              "      <th>2</th>\n",
              "      <td>Afghanistan</td>\n",
              "      <td>2010</td>\n",
              "      <td>4.758</td>\n",
              "      <td>7.647</td>\n",
              "      <td>0.539</td>\n",
              "      <td>51.60</td>\n",
              "      <td>0.600</td>\n",
              "      <td>0.121</td>\n",
              "      <td>0.707</td>\n",
              "      <td>0.618</td>\n",
              "      <td>0.275</td>\n",
              "    </tr>\n",
              "    <tr>\n",
              "      <th>3</th>\n",
              "      <td>Afghanistan</td>\n",
              "      <td>2011</td>\n",
              "      <td>3.832</td>\n",
              "      <td>7.620</td>\n",
              "      <td>0.521</td>\n",
              "      <td>51.92</td>\n",
              "      <td>0.496</td>\n",
              "      <td>0.162</td>\n",
              "      <td>0.731</td>\n",
              "      <td>0.611</td>\n",
              "      <td>0.267</td>\n",
              "    </tr>\n",
              "    <tr>\n",
              "      <th>4</th>\n",
              "      <td>Afghanistan</td>\n",
              "      <td>2012</td>\n",
              "      <td>3.783</td>\n",
              "      <td>7.705</td>\n",
              "      <td>0.521</td>\n",
              "      <td>52.24</td>\n",
              "      <td>0.531</td>\n",
              "      <td>0.236</td>\n",
              "      <td>0.776</td>\n",
              "      <td>0.710</td>\n",
              "      <td>0.268</td>\n",
              "    </tr>\n",
              "  </tbody>\n",
              "</table>\n",
              "</div>\n",
              "      <button class=\"colab-df-convert\" onclick=\"convertToInteractive('df-ef1764be-8cc5-4241-8275-a387c190940e')\"\n",
              "              title=\"Convert this dataframe to an interactive table.\"\n",
              "              style=\"display:none;\">\n",
              "        \n",
              "  <svg xmlns=\"http://www.w3.org/2000/svg\" height=\"24px\"viewBox=\"0 0 24 24\"\n",
              "       width=\"24px\">\n",
              "    <path d=\"M0 0h24v24H0V0z\" fill=\"none\"/>\n",
              "    <path d=\"M18.56 5.44l.94 2.06.94-2.06 2.06-.94-2.06-.94-.94-2.06-.94 2.06-2.06.94zm-11 1L8.5 8.5l.94-2.06 2.06-.94-2.06-.94L8.5 2.5l-.94 2.06-2.06.94zm10 10l.94 2.06.94-2.06 2.06-.94-2.06-.94-.94-2.06-.94 2.06-2.06.94z\"/><path d=\"M17.41 7.96l-1.37-1.37c-.4-.4-.92-.59-1.43-.59-.52 0-1.04.2-1.43.59L10.3 9.45l-7.72 7.72c-.78.78-.78 2.05 0 2.83L4 21.41c.39.39.9.59 1.41.59.51 0 1.02-.2 1.41-.59l7.78-7.78 2.81-2.81c.8-.78.8-2.07 0-2.86zM5.41 20L4 18.59l7.72-7.72 1.47 1.35L5.41 20z\"/>\n",
              "  </svg>\n",
              "      </button>\n",
              "      \n",
              "  <style>\n",
              "    .colab-df-container {\n",
              "      display:flex;\n",
              "      flex-wrap:wrap;\n",
              "      gap: 12px;\n",
              "    }\n",
              "\n",
              "    .colab-df-convert {\n",
              "      background-color: #E8F0FE;\n",
              "      border: none;\n",
              "      border-radius: 50%;\n",
              "      cursor: pointer;\n",
              "      display: none;\n",
              "      fill: #1967D2;\n",
              "      height: 32px;\n",
              "      padding: 0 0 0 0;\n",
              "      width: 32px;\n",
              "    }\n",
              "\n",
              "    .colab-df-convert:hover {\n",
              "      background-color: #E2EBFA;\n",
              "      box-shadow: 0px 1px 2px rgba(60, 64, 67, 0.3), 0px 1px 3px 1px rgba(60, 64, 67, 0.15);\n",
              "      fill: #174EA6;\n",
              "    }\n",
              "\n",
              "    [theme=dark] .colab-df-convert {\n",
              "      background-color: #3B4455;\n",
              "      fill: #D2E3FC;\n",
              "    }\n",
              "\n",
              "    [theme=dark] .colab-df-convert:hover {\n",
              "      background-color: #434B5C;\n",
              "      box-shadow: 0px 1px 3px 1px rgba(0, 0, 0, 0.15);\n",
              "      filter: drop-shadow(0px 1px 2px rgba(0, 0, 0, 0.3));\n",
              "      fill: #FFFFFF;\n",
              "    }\n",
              "  </style>\n",
              "\n",
              "      <script>\n",
              "        const buttonEl =\n",
              "          document.querySelector('#df-ef1764be-8cc5-4241-8275-a387c190940e button.colab-df-convert');\n",
              "        buttonEl.style.display =\n",
              "          google.colab.kernel.accessAllowed ? 'block' : 'none';\n",
              "\n",
              "        async function convertToInteractive(key) {\n",
              "          const element = document.querySelector('#df-ef1764be-8cc5-4241-8275-a387c190940e');\n",
              "          const dataTable =\n",
              "            await google.colab.kernel.invokeFunction('convertToInteractive',\n",
              "                                                     [key], {});\n",
              "          if (!dataTable) return;\n",
              "\n",
              "          const docLinkHtml = 'Like what you see? Visit the ' +\n",
              "            '<a target=\"_blank\" href=https://colab.research.google.com/notebooks/data_table.ipynb>data table notebook</a>'\n",
              "            + ' to learn more about interactive tables.';\n",
              "          element.innerHTML = '';\n",
              "          dataTable['output_type'] = 'display_data';\n",
              "          await google.colab.output.renderOutput(dataTable, element);\n",
              "          const docLink = document.createElement('div');\n",
              "          docLink.innerHTML = docLinkHtml;\n",
              "          element.appendChild(docLink);\n",
              "        }\n",
              "      </script>\n",
              "    </div>\n",
              "  </div>\n",
              "  "
            ],
            "text/plain": [
              "  Country name  year  ...  Positive affect  Negative affect\n",
              "0  Afghanistan  2008  ...            0.518            0.258\n",
              "1  Afghanistan  2009  ...            0.584            0.237\n",
              "2  Afghanistan  2010  ...            0.618            0.275\n",
              "3  Afghanistan  2011  ...            0.611            0.267\n",
              "4  Afghanistan  2012  ...            0.710            0.268\n",
              "\n",
              "[5 rows x 11 columns]"
            ]
          },
          "metadata": {},
          "execution_count": 22
        }
      ],
      "source": [
        "general_df = pd.read_csv(\"world-happiness-report.xls\")\n",
        "general_df.head()"
      ]
    },
    {
      "cell_type": "code",
      "execution_count": 23,
      "metadata": {
        "id": "mEw8wuq9pOUc"
      },
      "outputs": [],
      "source": [
        "table_turkey = general_df.set_index('Country name').loc['Turkey']\n",
        "table_turkey = table_turkey.set_index('year')\n",
        "table_finland = general_df.set_index('Country name').loc['Finland']\n",
        "table_finland = table_finland.set_index('year')"
      ]
    },
    {
      "cell_type": "code",
      "execution_count": 24,
      "metadata": {
        "colab": {
          "base_uri": "https://localhost:8080/",
          "height": 436
        },
        "id": "8qlNlbviwvTR",
        "outputId": "d7a5df16-422c-4a36-8710-afeb9b90c7eb"
      },
      "outputs": [
        {
          "output_type": "display_data",
          "data": {
            "text/plain": [
              "<Figure size 2000x1000 with 0 Axes>"
            ]
          },
          "metadata": {}
        },
        {
          "output_type": "display_data",
          "data": {
            "image/png": "[encoded data removed]",
            "text/plain": [
              "<Figure size 600x400 with 1 Axes>"
            ]
          },
          "metadata": {}
        }
      ],
      "source": [
        "joint = table_turkey.join(table_finland, lsuffix='_Turkey',\n",
        "    rsuffix='_Finland')\n",
        "\n",
        "table_perAno = general_df.groupby('year').mean()\n",
        "\n",
        "new_joint = table_perAno.join(joint , lsuffix='_Turkey',\n",
        "    rsuffix='_Finland' )\n",
        "\n",
        "fig = plt.figure(figsize=(20,10))\n",
        "ax = new_joint[['Life Ladder', 'Life Ladder_Turkey', 'Life Ladder_Finland']].fillna(method='bfill').plot()\n",
        "plt.title(\"Ladder Score historic series: Finland, Turkey and world average\", pad=10)\n",
        "ax.set_ylabel(\"Life Ladder\")\n",
        "ax.set_xlabel(\"Years of the historical series\", labelpad=10)\n",
        "plt.ylim(2, 10)\n",
        "ax=0\n",
        "plt.show()"
      ]
    },
    {
      "cell_type": "markdown",
      "metadata": {
        "id": "Vz4e4zLwEGp0"
      },
      "source": [
        "📌Finlandiya 2008- 2009 aralığı ve 2019 yılı haricinde mutluluğunda artış görülüyor. 2019 için Covid-19 etkisi araştırılabilir. <br>\n",
        "📌Türkiye için düzensiz bir durum söz konusudur. 2017 yılı itibari ile mutlulukta azalma var.Dünya mutluluk ortalamasının altında yer alır."
      ]
    },
    {
      "cell_type": "code",
      "execution_count": 25,
      "metadata": {
        "id": "vgWMKKl0pLnO"
      },
      "outputs": [],
      "source": [
        "general_df=general_df.drop([\"Positive affect\",\"Negative affect\"], axis = 1)\n",
        "general_df.columns = ['country', 'year', 'ladderScore', 'GDP', 'socialSupport', 'lifeExpect', 'freedomChoices', 'generosity','perceptionCorrupt']"
      ]
    },
    {
      "cell_type": "markdown",
      "metadata": {
        "id": "wBQEXkWmPgGt"
      },
      "source": [
        "📌Sütunlar içerisinde NaN veriler mevcut.Ülkeler gruplandırılır ve doğru veriler ile doldurulmaya çalışılır ancak hala Nan veriler mevcut.Bu nedenle interpolasyon tekniği de uygulanır."
      ]
    },
    {
      "cell_type": "code",
      "execution_count": 26,
      "metadata": {
        "colab": {
          "base_uri": "https://localhost:8080/"
        },
        "id": "rgfXfYLiIrEW",
        "outputId": "5cd39a41-9b28-4845-8526-3c50302feb6d"
      },
      "outputs": [
        {
          "output_type": "stream",
          "name": "stdout",
          "text": [
            "GDP                   36\n",
            "socialSupport         13\n",
            "lifeExpect            55\n",
            "freedomChoices        32\n",
            "generosity            89\n",
            "perceptionCorrupt    110\n",
            "dtype: int64\n"
          ]
        }
      ],
      "source": [
        "null_columns=general_df.columns[general_df.isnull().any()] #column names with null values\n",
        "print(general_df[null_columns].isnull().sum())"
      ]
    },
    {
      "cell_type": "code",
      "execution_count": 27,
      "metadata": {
        "id": "ZOnY87FGKWKE"
      },
      "outputs": [],
      "source": [
        "for j in null_columns:\n",
        "  general_df[j] = general_df[j].fillna(general_df.groupby('country')[j].transform('mean'))\n"
      ]
    },
    {
      "cell_type": "code",
      "execution_count": 28,
      "metadata": {
        "colab": {
          "base_uri": "https://localhost:8080/"
        },
        "id": "EAQwyXz1Mcrq",
        "outputId": "8473ca07-c717-49cb-f5e5-35116c5d8435"
      },
      "outputs": [
        {
          "output_type": "execute_result",
          "data": {
            "text/plain": [
              "342                         China\n",
              "423                          Cuba\n",
              "699     Hong Kong S.A.R. of China\n",
              "905                        Kosovo\n",
              "1062                     Maldives\n",
              "1280                 North Cyprus\n",
              "1310                         Oman\n",
              "1559                      Somalia\n",
              "1562            Somaliland region\n",
              "1596                  South Sudan\n",
              "1768                 Turkmenistan\n",
              "Name: country, dtype: object"
            ]
          },
          "metadata": {},
          "execution_count": 28
        }
      ],
      "source": [
        "general_df1=general_df[general_df.isnull().any(axis=1)][\"country\"]\n",
        "general_df1[~general_df.duplicated('country')]"
      ]
    },
    {
      "cell_type": "code",
      "execution_count": 29,
      "metadata": {
        "id": "RcVE6VCmQJhF"
      },
      "outputs": [],
      "source": [
        "general_df=general_df.interpolate(method=\"polynomial\", order=2)\n"
      ]
    },
    {
      "cell_type": "markdown",
      "metadata": {
        "id": "u1WZzYNDARsR"
      },
      "source": [
        "**Linear Regression (OLS)**"
      ]
    },
    {
      "cell_type": "code",
      "execution_count": 30,
      "metadata": {
        "id": "A3WRRGR5gEc7"
      },
      "outputs": [],
      "source": [
        "X = general_df[['year','GDP','socialSupport','lifeExpect','freedomChoices','generosity','perceptionCorrupt']]\n",
        "y = general_df['ladderScore']\n",
        "X_train, X_test, y_train, y_test = train_test_split(X, y, test_size=0.30, random_state = 0)"
      ]
    },
    {
      "cell_type": "code",
      "execution_count": 31,
      "metadata": {
        "colab": {
          "base_uri": "https://localhost:8080/"
        },
        "id": "lx5CAYKkxhMK",
        "outputId": "91e8f9d4-d62c-4aa5-84f6-c892f5114f8e"
      },
      "outputs": [
        {
          "output_type": "stream",
          "name": "stdout",
          "text": [
            "Eğitim kümesi boyutu (X) : (1364, 7)\n",
            "Eğitim kümesi boyutu (y) : (1364,)\n",
            "Test kümesi boyutu (X)   : (585, 7)\n",
            "Test kümesi boyutu (y)   : (585,)\n"
          ]
        }
      ],
      "source": [
        "print(\"Eğitim kümesi boyutu (X) :\", X_train.shape)\n",
        "print(\"Eğitim kümesi boyutu (y) :\",y_train.shape)\n",
        "print(\"Test kümesi boyutu (X)   :\", X_test.shape)\n",
        "print(\"Test kümesi boyutu (y)   :\", y_test.shape)"
      ]
    },
    {
      "cell_type": "code",
      "execution_count": 32,
      "metadata": {
        "colab": {
          "base_uri": "https://localhost:8080/"
        },
        "id": "UQdUZdBQaxxx",
        "outputId": "9803be28-cab1-482c-f6a4-6f76643d9aa1"
      },
      "outputs": [
        {
          "output_type": "execute_result",
          "data": {
            "text/plain": [
              "LinearRegression()"
            ]
          },
          "metadata": {},
          "execution_count": 32
        }
      ],
      "source": [
        "lrm = linear_model.LinearRegression()\n",
        "lrm.fit(X_train, y_train)"
      ]
    },
    {
      "cell_type": "markdown",
      "metadata": {
        "id": "jiq6DzG3kJAd"
      },
      "source": [
        "📌$$ y = 27.627123287615902 - 0.01479442*year + 0.31359112*Gdp + 2.3182583*socialSupp +  0.03486269*lifeExpect + 1.29235237*freeChoice + 0.63116782*generosity- 0.51683425*perceptCorrupt $$\n",
        "\n",
        "\n",
        "\n"
      ]
    },
    {
      "cell_type": "code",
      "execution_count": 33,
      "metadata": {
        "colab": {
          "base_uri": "https://localhost:8080/"
        },
        "id": "tNG-nTk3by84",
        "outputId": "af969c35-3ba7-4689-8878-bcb50ccb6504"
      },
      "outputs": [
        {
          "output_type": "stream",
          "name": "stdout",
          "text": [
            "Değişkenler: \n",
            " [-0.01479442  0.31359112  2.3182583   0.03486269  1.29235237  0.63116782\n",
            " -0.51683425]\n",
            "Sabit değer (bias): \n",
            " 27.627123287615902\n"
          ]
        }
      ],
      "source": [
        "print('Değişkenler: \\n', lrm.coef_)\n",
        "print('Sabit değer (bias): \\n', lrm.intercept_)"
      ]
    },
    {
      "cell_type": "markdown",
      "metadata": {
        "id": "JIOvKhUm-MX9"
      },
      "source": [
        "📌Adj. R-squared:\t0.738 <br>\n",
        "📌p-value 0.5'den az,ideal"
      ]
    },
    {
      "cell_type": "code",
      "execution_count": 34,
      "metadata": {
        "colab": {
          "base_uri": "https://localhost:8080/",
          "height": 604
        },
        "id": "h3cRT7TU3KV6",
        "outputId": "22923d69-2890-4496-a170-3e82e1f0208e"
      },
      "outputs": [
        {
          "output_type": "execute_result",
          "data": {
            "text/html": [
              "<table class=\"simpletable\">\n",
              "<caption>OLS Regression Results</caption>\n",
              "<tr>\n",
              "  <th>Dep. Variable:</th>       <td>ladderScore</td>   <th>  R-squared:         </th> <td>   0.740</td>\n",
              "</tr>\n",
              "<tr>\n",
              "  <th>Model:</th>                   <td>OLS</td>       <th>  Adj. R-squared:    </th> <td>   0.738</td>\n",
              "</tr>\n",
              "<tr>\n",
              "  <th>Method:</th>             <td>Least Squares</td>  <th>  F-statistic:       </th> <td>   550.7</td>\n",
              "</tr>\n",
              "<tr>\n",
              "  <th>Date:</th>             <td>Fri, 11 Feb 2022</td> <th>  Prob (F-statistic):</th>  <td>  0.00</td> \n",
              "</tr>\n",
              "<tr>\n",
              "  <th>Time:</th>                 <td>08:10:17</td>     <th>  Log-Likelihood:    </th> <td> -1144.9</td>\n",
              "</tr>\n",
              "<tr>\n",
              "  <th>No. Observations:</th>      <td>  1364</td>      <th>  AIC:               </th> <td>   2306.</td>\n",
              "</tr>\n",
              "<tr>\n",
              "  <th>Df Residuals:</th>          <td>  1356</td>      <th>  BIC:               </th> <td>   2348.</td>\n",
              "</tr>\n",
              "<tr>\n",
              "  <th>Df Model:</th>              <td>     7</td>      <th>                     </th>     <td> </td>   \n",
              "</tr>\n",
              "<tr>\n",
              "  <th>Covariance Type:</th>      <td>nonrobust</td>    <th>                     </th>     <td> </td>   \n",
              "</tr>\n",
              "</table>\n",
              "<table class=\"simpletable\">\n",
              "<tr>\n",
              "          <td></td>             <th>coef</th>     <th>std err</th>      <th>t</th>      <th>P>|t|</th>  <th>[0.025</th>    <th>0.975]</th>  \n",
              "</tr>\n",
              "<tr>\n",
              "  <th>const</th>             <td>   27.6271</td> <td>    7.876</td> <td>    3.508</td> <td> 0.000</td> <td>   12.177</td> <td>   43.077</td>\n",
              "</tr>\n",
              "<tr>\n",
              "  <th>year</th>              <td>   -0.0148</td> <td>    0.004</td> <td>   -3.769</td> <td> 0.000</td> <td>   -0.022</td> <td>   -0.007</td>\n",
              "</tr>\n",
              "<tr>\n",
              "  <th>GDP</th>               <td>    0.3136</td> <td>    0.027</td> <td>   11.831</td> <td> 0.000</td> <td>    0.262</td> <td>    0.366</td>\n",
              "</tr>\n",
              "<tr>\n",
              "  <th>socialSupport</th>     <td>    2.3183</td> <td>    0.185</td> <td>   12.535</td> <td> 0.000</td> <td>    1.955</td> <td>    2.681</td>\n",
              "</tr>\n",
              "<tr>\n",
              "  <th>lifeExpect</th>        <td>    0.0349</td> <td>    0.004</td> <td>    9.367</td> <td> 0.000</td> <td>    0.028</td> <td>    0.042</td>\n",
              "</tr>\n",
              "<tr>\n",
              "  <th>freedomChoices</th>    <td>    1.2924</td> <td>    0.138</td> <td>    9.386</td> <td> 0.000</td> <td>    1.022</td> <td>    1.562</td>\n",
              "</tr>\n",
              "<tr>\n",
              "  <th>generosity</th>        <td>    0.6312</td> <td>    0.103</td> <td>    6.103</td> <td> 0.000</td> <td>    0.428</td> <td>    0.834</td>\n",
              "</tr>\n",
              "<tr>\n",
              "  <th>perceptionCorrupt</th> <td>   -0.5168</td> <td>    0.099</td> <td>   -5.219</td> <td> 0.000</td> <td>   -0.711</td> <td>   -0.323</td>\n",
              "</tr>\n",
              "</table>\n",
              "<table class=\"simpletable\">\n",
              "<tr>\n",
              "  <th>Omnibus:</th>       <td>19.514</td> <th>  Durbin-Watson:     </th> <td>   1.986</td>\n",
              "</tr>\n",
              "<tr>\n",
              "  <th>Prob(Omnibus):</th> <td> 0.000</td> <th>  Jarque-Bera (JB):  </th> <td>  24.319</td>\n",
              "</tr>\n",
              "<tr>\n",
              "  <th>Skew:</th>          <td>-0.197</td> <th>  Prob(JB):          </th> <td>5.24e-06</td>\n",
              "</tr>\n",
              "<tr>\n",
              "  <th>Kurtosis:</th>      <td> 3.522</td> <th>  Cond. No.          </th> <td>1.04e+06</td>\n",
              "</tr>\n",
              "</table><br/><br/>Warnings:<br/>[1] Standard Errors assume that the covariance matrix of the errors is correctly specified.<br/>[2] The condition number is large, 1.04e+06. This might indicate that there are<br/>strong multicollinearity or other numerical problems."
            ],
            "text/plain": [
              "<class 'statsmodels.iolib.summary.Summary'>\n",
              "\"\"\"\n",
              "                            OLS Regression Results                            \n",
              "==============================================================================\n",
              "Dep. Variable:            ladderScore   R-squared:                       0.740\n",
              "Model:                            OLS   Adj. R-squared:                  0.738\n",
              "Method:                 Least Squares   F-statistic:                     550.7\n",
              "Date:                Fri, 11 Feb 2022   Prob (F-statistic):               0.00\n",
              "Time:                        08:10:17   Log-Likelihood:                -1144.9\n",
              "No. Observations:                1364   AIC:                             2306.\n",
              "Df Residuals:                    1356   BIC:                             2348.\n",
              "Df Model:                           7                                         \n",
              "Covariance Type:            nonrobust                                         \n",
              "=====================================================================================\n",
              "                        coef    std err          t      P>|t|      [0.025      0.975]\n",
              "-------------------------------------------------------------------------------------\n",
              "const                27.6271      7.876      3.508      0.000      12.177      43.077\n",
              "year                 -0.0148      0.004     -3.769      0.000      -0.022      -0.007\n",
              "GDP                   0.3136      0.027     11.831      0.000       0.262       0.366\n",
              "socialSupport         2.3183      0.185     12.535      0.000       1.955       2.681\n",
              "lifeExpect            0.0349      0.004      9.367      0.000       0.028       0.042\n",
              "freedomChoices        1.2924      0.138      9.386      0.000       1.022       1.562\n",
              "generosity            0.6312      0.103      6.103      0.000       0.428       0.834\n",
              "perceptionCorrupt    -0.5168      0.099     -5.219      0.000      -0.711      -0.323\n",
              "==============================================================================\n",
              "Omnibus:                       19.514   Durbin-Watson:                   1.986\n",
              "Prob(Omnibus):                  0.000   Jarque-Bera (JB):               24.319\n",
              "Skew:                          -0.197   Prob(JB):                     5.24e-06\n",
              "Kurtosis:                       3.522   Cond. No.                     1.04e+06\n",
              "==============================================================================\n",
              "\n",
              "Warnings:\n",
              "[1] Standard Errors assume that the covariance matrix of the errors is correctly specified.\n",
              "[2] The condition number is large, 1.04e+06. This might indicate that there are\n",
              "strong multicollinearity or other numerical problems.\n",
              "\"\"\""
            ]
          },
          "metadata": {},
          "execution_count": 34
        }
      ],
      "source": [
        "X_train = sm.add_constant(X_train)\n",
        "sonuclar = sm.OLS(y_train, X_train).fit()\n",
        "sonuclar.summary()"
      ]
    },
    {
      "cell_type": "code",
      "execution_count": 35,
      "metadata": {
        "id": "iZHC7uZLb6P8"
      },
      "outputs": [],
      "source": [
        "predicted=lrm.predict(X_test)\n",
        "expected= y_test"
      ]
    },
    {
      "cell_type": "markdown",
      "metadata": {
        "id": "0mHJNGuf-gYK"
      },
      "source": [
        "📌Tahmin Edilen Değer & Gerçek Değer"
      ]
    },
    {
      "cell_type": "code",
      "execution_count": 36,
      "metadata": {
        "colab": {
          "base_uri": "https://localhost:8080/"
        },
        "id": "d_ORdeOzdjF7",
        "outputId": "e2b07eb0-8559-4053-9b99-f09e6f9b2c08"
      },
      "outputs": [
        {
          "output_type": "stream",
          "name": "stdout",
          "text": [
            "predicted: 5.055, expected:4.814\n",
            "predicted: 4.681, expected:4.203\n",
            "predicted: 5.613, expected:5.234\n",
            "predicted: 6.137, expected:7.267\n",
            "predicted: 4.805, expected:4.576\n",
            "predicted: 5.336, expected:4.560\n",
            "predicted: 4.802, expected:4.254\n",
            "predicted: 5.254, expected:5.096\n",
            "predicted: 5.208, expected:3.499\n",
            "predicted: 4.840, expected:4.225\n",
            "predicted: 6.402, expected:6.475\n",
            "predicted: 5.272, expected:6.019\n"
          ]
        }
      ],
      "source": [
        "for p,e in zip(predicted[::50],expected[::50]):\n",
        "  print(f'predicted: {p:.3f}, expected:{e:.3f}')"
      ]
    },
    {
      "cell_type": "markdown",
      "metadata": {
        "id": "avWxImKb-slG"
      },
      "source": [
        "📌En mutsuz 100 ülke için feature ortalamaları"
      ]
    },
    {
      "cell_type": "code",
      "execution_count": 37,
      "metadata": {
        "colab": {
          "base_uri": "https://localhost:8080/"
        },
        "id": "oQDk0gEMbGU4",
        "outputId": "c098b186-dd05-4500-8ea5-833672c23ce3"
      },
      "outputs": [
        {
          "output_type": "execute_result",
          "data": {
            "text/plain": [
              "year                 2013.800000\n",
              "ladderScore             3.369000\n",
              "GDP                     7.825873\n",
              "socialSupport           0.628550\n",
              "lifeExpect             53.403800\n",
              "freedomChoices          0.658387\n",
              "generosity             -0.001617\n",
              "perceptionCorrupt       0.761467\n",
              "dtype: float64"
            ]
          },
          "metadata": {},
          "execution_count": 37
        }
      ],
      "source": [
        "sort_general=general_df.sort_values(by=['ladderScore']).iloc[:100]\n",
        "sort_general.mean()\n"
      ]
    },
    {
      "cell_type": "markdown",
      "metadata": {
        "id": "KC-2Ay7B-9pw"
      },
      "source": [
        "📌En mutlu 100 ülke için feature ortalamaları"
      ]
    },
    {
      "cell_type": "code",
      "execution_count": 38,
      "metadata": {
        "colab": {
          "base_uri": "https://localhost:8080/"
        },
        "id": "-Oh3sKlNeCYq",
        "outputId": "66d2efd0-d339-4d0c-e5ee-1ed583158e18"
      },
      "outputs": [
        {
          "output_type": "execute_result",
          "data": {
            "text/plain": [
              "year                 2012.890000\n",
              "ladderScore             7.537610\n",
              "GDP                    10.822200\n",
              "socialSupport           0.944991\n",
              "lifeExpect             71.833400\n",
              "freedomChoices          0.923220\n",
              "generosity              0.160135\n",
              "perceptionCorrupt       0.385537\n",
              "dtype: float64"
            ]
          },
          "metadata": {},
          "execution_count": 38
        }
      ],
      "source": [
        "sort_general=general_df.sort_values(by=['ladderScore']).iloc[-100:]\n",
        "sort_general.mean()"
      ]
    },
    {
      "cell_type": "markdown",
      "metadata": {
        "id": "krxlBKbB_smV"
      },
      "source": [
        "📌Mutluluk ortalaması genel ortalamadan düşük olan ilk 100 ülkenin özellik değerleri ile 2022 yılı mutluluk tahmini"
      ]
    },
    {
      "cell_type": "code",
      "execution_count": 39,
      "metadata": {
        "colab": {
          "base_uri": "https://localhost:8080/"
        },
        "id": "ckSJXxgTfZXy",
        "outputId": "fe1779bd-4f5d-4fa8-b2a7-878fe7ef15d4"
      },
      "outputs": [
        {
          "output_type": "execute_result",
          "data": {
            "text/plain": [
              "array([3.94217037])"
            ]
          },
          "metadata": {},
          "execution_count": 39
        }
      ],
      "source": [
        "lrm.predict([[2022,7.825873,0.628550,53.403800,0.658387,-0.001617,0.761467]])"
      ]
    },
    {
      "cell_type": "markdown",
      "metadata": {
        "id": "sTVdOKHh_9vS"
      },
      "source": [
        "📌Mutluluk ortalaması genel ortalamadan yüksek olan ilk 100 ülkenin özellik değerleri ile 2022 yılı mutluluk tahmini"
      ]
    },
    {
      "cell_type": "code",
      "execution_count": 40,
      "metadata": {
        "colab": {
          "base_uri": "https://localhost:8080/"
        },
        "id": "duGf6iX_jQr5",
        "outputId": "d50fd3d8-6c78-401e-c584-20ffa167ce6e"
      },
      "outputs": [
        {
          "output_type": "execute_result",
          "data": {
            "text/plain": [
              "array([6.89653311])"
            ]
          },
          "metadata": {},
          "execution_count": 40
        }
      ],
      "source": [
        "lrm.predict([[2022,10.822200,0.944991,71.833400,0.923220, 0.160135, 0.385537]])"
      ]
    },
    {
      "cell_type": "markdown",
      "metadata": {
        "id": "yvp8WxEj8Cfe"
      },
      "source": [
        "**Xgboost+Hyperparameter-tuning**"
      ]
    },
    {
      "cell_type": "markdown",
      "source": [
        "📌Bu model ülkenin mutlu & mutsuz olma durumunu tahmin eder<br>\n",
        "📌Binary Sınıflandırma"
      ],
      "metadata": {
        "id": "gX0j5o8GDslg"
      }
    },
    {
      "cell_type": "code",
      "execution_count": 41,
      "metadata": {
        "id": "MiazUBbf8Eqt"
      },
      "outputs": [],
      "source": [
        "X = df[['GDP','lifeExpect','socialSupport']]\n",
        "y = df['lowerHappy']\n",
        "X_train, X_test, y_train, y_test = train_test_split(X, y, test_size=0.3, random_state=42)"
      ]
    },
    {
      "cell_type": "code",
      "execution_count": 42,
      "metadata": {
        "id": "wLRmLan3OO5T",
        "colab": {
          "base_uri": "https://localhost:8080/"
        },
        "outputId": "b4351d1d-4abb-4e5d-c307-5100a6b968ae"
      },
      "outputs": [
        {
          "output_type": "stream",
          "name": "stdout",
          "text": [
            "Fitting 5 folds for each of 5 candidates, totalling 25 fits\n",
            "[CV 1/5] END colsample_bytree=0.8, gamma=2, max_depth=3, min_child_weight=5, subsample=0.6;, score=(train=0.964, test=0.935) total time=   0.0s\n",
            "[CV 2/5] END colsample_bytree=0.8, gamma=2, max_depth=3, min_child_weight=5, subsample=0.6;, score=(train=0.942, test=0.982) total time=   0.0s\n",
            "[CV 3/5] END colsample_bytree=0.8, gamma=2, max_depth=3, min_child_weight=5, subsample=0.6;, score=(train=0.949, test=1.000) total time=   0.0s\n",
            "[CV 4/5] END colsample_bytree=0.8, gamma=2, max_depth=3, min_child_weight=5, subsample=0.6;, score=(train=0.971, test=0.868) total time=   0.0s\n",
            "[CV 5/5] END colsample_bytree=0.8, gamma=2, max_depth=3, min_child_weight=5, subsample=0.6;, score=(train=0.966, test=0.955) total time=   0.0s\n",
            "[CV 1/5] END colsample_bytree=1.0, gamma=2, max_depth=4, min_child_weight=10, subsample=0.6;, score=(train=0.500, test=0.500) total time=   0.0s\n",
            "[CV 2/5] END colsample_bytree=1.0, gamma=2, max_depth=4, min_child_weight=10, subsample=0.6;, score=(train=0.500, test=0.500) total time=   0.0s\n",
            "[CV 3/5] END colsample_bytree=1.0, gamma=2, max_depth=4, min_child_weight=10, subsample=0.6;, score=(train=0.500, test=0.500) total time=   0.0s\n",
            "[CV 4/5] END colsample_bytree=1.0, gamma=2, max_depth=4, min_child_weight=10, subsample=0.6;, score=(train=0.500, test=0.500) total time=   0.0s\n",
            "[CV 5/5] END colsample_bytree=1.0, gamma=2, max_depth=4, min_child_weight=10, subsample=0.6;, score=(train=0.500, test=0.500) total time=   0.0s\n",
            "[CV 1/5] END colsample_bytree=0.8, gamma=1.5, max_depth=5, min_child_weight=1, subsample=0.6;, score=(train=0.984, test=0.917) total time=   0.0s\n",
            "[CV 2/5] END colsample_bytree=0.8, gamma=1.5, max_depth=5, min_child_weight=1, subsample=0.6;, score=(train=0.983, test=1.000) total time=   0.0s\n",
            "[CV 3/5] END colsample_bytree=0.8, gamma=1.5, max_depth=5, min_child_weight=1, subsample=0.6;, score=(train=0.980, test=1.000) total time=   0.0s\n",
            "[CV 4/5] END colsample_bytree=0.8, gamma=1.5, max_depth=5, min_child_weight=1, subsample=0.6;, score=(train=0.988, test=0.886) total time=   0.0s\n",
            "[CV 5/5] END colsample_bytree=0.8, gamma=1.5, max_depth=5, min_child_weight=1, subsample=0.6;, score=(train=0.983, test=0.985) total time=   0.0s\n",
            "[CV 1/5] END colsample_bytree=0.6, gamma=5, max_depth=5, min_child_weight=10, subsample=1.0;, score=(train=0.902, test=0.866) total time=   0.0s\n",
            "[CV 2/5] END colsample_bytree=0.6, gamma=5, max_depth=5, min_child_weight=10, subsample=1.0;, score=(train=0.879, test=0.923) total time=   0.0s\n",
            "[CV 3/5] END colsample_bytree=0.6, gamma=5, max_depth=5, min_child_weight=10, subsample=1.0;, score=(train=0.875, test=0.955) total time=   0.0s\n",
            "[CV 4/5] END colsample_bytree=0.6, gamma=5, max_depth=5, min_child_weight=10, subsample=1.0;, score=(train=0.933, test=0.836) total time=   0.0s\n",
            "[CV 5/5] END colsample_bytree=0.6, gamma=5, max_depth=5, min_child_weight=10, subsample=1.0;, score=(train=0.875, test=0.955) total time=   0.0s\n",
            "[CV 1/5] END colsample_bytree=0.6, gamma=1, max_depth=4, min_child_weight=1, subsample=0.8;, score=(train=0.995, test=0.917) total time=   0.0s\n",
            "[CV 2/5] END colsample_bytree=0.6, gamma=1, max_depth=4, min_child_weight=1, subsample=0.8;, score=(train=0.994, test=1.000) total time=   0.0s\n",
            "[CV 3/5] END colsample_bytree=0.6, gamma=1, max_depth=4, min_child_weight=1, subsample=0.8;, score=(train=0.989, test=1.000) total time=   0.0s\n",
            "[CV 4/5] END colsample_bytree=0.6, gamma=1, max_depth=4, min_child_weight=1, subsample=0.8;, score=(train=0.995, test=0.882) total time=   0.0s\n",
            "[CV 5/5] END colsample_bytree=0.6, gamma=1, max_depth=4, min_child_weight=1, subsample=0.8;, score=(train=0.988, test=0.990) total time=   0.0s\n"
          ]
        },
        {
          "output_type": "execute_result",
          "data": {
            "text/plain": [
              "RandomizedSearchCV(cv=5, estimator=XGBClassifier(), n_iter=5, n_jobs=1,\n",
              "                   param_distributions={'colsample_bytree': [0.6, 0.8, 1.0],\n",
              "                                        'gamma': [0.5, 1, 1.5, 2, 5],\n",
              "                                        'max_depth': [3, 4, 5],\n",
              "                                        'min_child_weight': [1, 5, 10],\n",
              "                                        'subsample': [0.6, 0.8, 1.0]},\n",
              "                   random_state=121, return_train_score=True, scoring='roc_auc',\n",
              "                   verbose=3)"
            ]
          },
          "metadata": {},
          "execution_count": 42
        }
      ],
      "source": [
        "clf = XGBClassifier()\n",
        "\n",
        "# A parameter grid for XGBoost\n",
        "params = {\n",
        "        'min_child_weight': [1, 5, 10],\n",
        "        'gamma': [0.5, 1, 1.5, 2, 5],\n",
        "        'subsample': [0.6, 0.8, 1.0],\n",
        "        'colsample_bytree': [0.6, 0.8, 1.0],\n",
        "        'max_depth': [3, 4, 5]\n",
        "        }\n",
        "\n",
        "random_cv=RandomizedSearchCV(estimator=clf,param_distributions=params,\n",
        "                             cv=5,n_iter=5,scoring='roc_auc',n_jobs=1,verbose=3,return_train_score=True,random_state=121)\n",
        "random_cv.fit(X_train,y_train)"
      ]
    },
    {
      "cell_type": "code",
      "execution_count": 43,
      "metadata": {
        "colab": {
          "base_uri": "https://localhost:8080/"
        },
        "id": "dPGSZIYMOkDr",
        "outputId": "137dba82-e00e-49e5-abcf-04a785e7b1d2"
      },
      "outputs": [
        {
          "output_type": "execute_result",
          "data": {
            "text/plain": [
              "{'colsample_bytree': 0.6,\n",
              " 'gamma': 1,\n",
              " 'max_depth': 4,\n",
              " 'min_child_weight': 1,\n",
              " 'subsample': 0.8}"
            ]
          },
          "metadata": {},
          "execution_count": 43
        }
      ],
      "source": [
        "#best parameter \n",
        "random_cv.best_params_"
      ]
    },
    {
      "cell_type": "code",
      "execution_count": 44,
      "metadata": {
        "colab": {
          "base_uri": "https://localhost:8080/"
        },
        "id": "md_g8KmZOsiP",
        "outputId": "ffd99cd0-74d9-4f3f-ab19-a5f232fd767b"
      },
      "outputs": [
        {
          "output_type": "execute_result",
          "data": {
            "text/plain": [
              "XGBClassifier(colsample_bytree=0.8, gamma=1.5, max_depth=5, min_child_weigh=1,\n",
              "              subsample=0.6)"
            ]
          },
          "metadata": {},
          "execution_count": 44
        }
      ],
      "source": [
        "clf = XGBClassifier(colsample_bytree= 0.8,\n",
        " gamma= 1.5,\n",
        " max_depth= 5,\n",
        " min_child_weigh= 1,\n",
        " subsample= 0.6)\n",
        "\n",
        "clf.fit(X_train, y_train)"
      ]
    },
    {
      "cell_type": "code",
      "execution_count": 45,
      "metadata": {
        "colab": {
          "base_uri": "https://localhost:8080/"
        },
        "id": "I5YsumtbPDTQ",
        "outputId": "2bafa5b2-066c-47d6-94a9-864aca00e620"
      },
      "outputs": [
        {
          "output_type": "stream",
          "name": "stdout",
          "text": [
            "              precision    recall  f1-score   support\n",
            "\n",
            "           0       0.76      0.89      0.82        18\n",
            "           1       0.92      0.81      0.86        27\n",
            "\n",
            "    accuracy                           0.84        45\n",
            "   macro avg       0.84      0.85      0.84        45\n",
            "weighted avg       0.85      0.84      0.85        45\n",
            "\n"
          ]
        }
      ],
      "source": [
        "y_predict=clf.predict(X_test)\n",
        "print(classification_report(y_test,y_predict))"
      ]
    },
    {
      "cell_type": "code",
      "execution_count": 46,
      "metadata": {
        "colab": {
          "base_uri": "https://localhost:8080/"
        },
        "id": "-bwUmK9xO3-s",
        "outputId": "45dd704d-efca-45e2-8bff-15e72319c203"
      },
      "outputs": [
        {
          "output_type": "stream",
          "name": "stdout",
          "text": [
            "For test data: \n",
            "\n",
            "Predictions   0   1\n",
            "Actual             \n",
            "0            16   2\n",
            "1             5  22\n",
            "Test accuracy: 0.8444444444444444\n",
            "\n",
            "For training data: \n",
            "\n",
            "Predictions   0   1\n",
            "Actual             \n",
            "0            51   5\n",
            "1             3  45\n",
            "Training accuracy: 0.9230769230769231\n"
          ]
        }
      ],
      "source": [
        "print(\"For test data: \\n\")\n",
        "pred = clf.predict(X_test)\n",
        "print(pd.crosstab(y_test, pred, rownames = ['Actual'], colnames = ['Predictions']))\n",
        "print(\"Test accuracy:\", accuracy_score(y_test,pred))\n",
        "\n",
        "print(\"\\nFor training data: \\n\")\n",
        "pred_train = clf.predict(X_train)\n",
        "print(pd.crosstab(y_train, pred_train, rownames = ['Actual'], colnames = ['Predictions']))\n",
        "print(\"Training accuracy:\", accuracy_score(y_train,pred_train))"
      ]
    },
    {
      "cell_type": "markdown",
      "metadata": {
        "id": "LQAK7SXBwBZ2"
      },
      "source": [
        "**Artificial neural networks (ANN)**"
      ]
    },
    {
      "cell_type": "markdown",
      "source": [
        "📌Modelin girdi sayısını belirleme"
      ],
      "metadata": {
        "id": "_P3WqzRUHSws"
      }
    },
    {
      "cell_type": "code",
      "execution_count": 47,
      "metadata": {
        "colab": {
          "base_uri": "https://localhost:8080/"
        },
        "id": "VzgyjYoTwg9L",
        "outputId": "9e9e2690-cc1e-4d86-fb9a-1347f24c1281"
      },
      "outputs": [
        {
          "output_type": "stream",
          "name": "stdout",
          "text": [
            "3\n"
          ]
        }
      ],
      "source": [
        "girdi_adedi = X_train.shape[1]\n",
        "print(girdi_adedi)"
      ]
    },
    {
      "cell_type": "markdown",
      "source": [
        "📌16 nöronlu ilk katmanı modele ekle"
      ],
      "metadata": {
        "id": "oKQu9w17HVaD"
      }
    },
    {
      "cell_type": "code",
      "execution_count": 48,
      "metadata": {
        "id": "Q5jtDuWa4J0s"
      },
      "outputs": [],
      "source": [
        "siniflandirma_modeli = Sequential()\n",
        "\n",
        "siniflandirma_modeli.add(Dense(16, \n",
        "                               activation='relu', \n",
        "                               input_shape = (girdi_adedi,), \n",
        "                               name = \"Gizli_Katman_1\"))"
      ]
    },
    {
      "cell_type": "markdown",
      "source": [
        "📌4 nöronlu ikinci katman"
      ],
      "metadata": {
        "id": "170SZx7zHZ0v"
      }
    },
    {
      "cell_type": "code",
      "execution_count": 49,
      "metadata": {
        "id": "4nFFA6DS5D-g"
      },
      "outputs": [],
      "source": [
        "siniflandirma_modeli.add(Dense(4, \n",
        "                               activation='relu', \n",
        "                               input_shape = (girdi_adedi,), \n",
        "                               name = \"Gizli_Katman_2\"))"
      ]
    },
    {
      "cell_type": "markdown",
      "source": [
        "📌Çıktı katmanı<br>\n",
        "Bu katman için aktivasyon fonksiyonu olarak sigmoid kullarak  0 ila 1 arasında bir değer döndürmesini sağlayacağız."
      ],
      "metadata": {
        "id": "QWgbrSA8Hd70"
      }
    },
    {
      "cell_type": "code",
      "execution_count": 50,
      "metadata": {
        "id": "6Rq03F_GwsqT"
      },
      "outputs": [],
      "source": [
        "siniflandirma_modeli.add(Dense(1, activation='sigmoid', name = \"Cikti\"))"
      ]
    },
    {
      "cell_type": "markdown",
      "source": [
        "📌Model özeti"
      ],
      "metadata": {
        "id": "ApXkE1f_Hgnt"
      }
    },
    {
      "cell_type": "code",
      "execution_count": 51,
      "metadata": {
        "colab": {
          "base_uri": "https://localhost:8080/"
        },
        "id": "iA-tEsV0wu64",
        "outputId": "9f692d46-f076-41f0-d6bb-63a169b7ef40"
      },
      "outputs": [
        {
          "output_type": "stream",
          "name": "stdout",
          "text": [
            "Model: \"sequential\"\n",
            "_________________________________________________________________\n",
            " Layer (type)                Output Shape              Param #   \n",
            "=================================================================\n",
            " Gizli_Katman_1 (Dense)      (None, 16)                64        \n",
            "                                                                 \n",
            " Gizli_Katman_2 (Dense)      (None, 4)                 68        \n",
            "                                                                 \n",
            " Cikti (Dense)               (None, 1)                 5         \n",
            "                                                                 \n",
            "=================================================================\n",
            "Total params: 137\n",
            "Trainable params: 137\n",
            "Non-trainable params: 0\n",
            "_________________________________________________________________\n"
          ]
        }
      ],
      "source": [
        "siniflandirma_modeli.summary()"
      ]
    },
    {
      "cell_type": "markdown",
      "source": [
        "📌Modeli derlemek<br> Optimizer olarak <code>adam</code> algoritması kullanılır. Kayıp fonksiyonu olarak <code>binary_crossentropy</code>, modelin performansı için de <code>accuracy</code> kullanılır."
      ],
      "metadata": {
        "id": "cj5DxJCRHkNx"
      }
    },
    {
      "cell_type": "code",
      "execution_count": 52,
      "metadata": {
        "id": "H7CmdmHGxHP-"
      },
      "outputs": [],
      "source": [
        "siniflandirma_modeli.compile(optimizer ='adam',\n",
        "                             loss='binary_crossentropy', \n",
        "                             metrics =['accuracy'])"
      ]
    },
    {
      "cell_type": "code",
      "execution_count": 53,
      "metadata": {
        "id": "co0L57zpxMkZ"
      },
      "outputs": [],
      "source": [
        "X_egitim=np.asarray(X_train).astype(np.float)\n",
        "X_test=np.asarray(X_test).astype(np.float)\n",
        "y_egitim=np.asarray(y_train).astype(np.float)\n",
        "y_test=np.asarray(y_test).astype(np.float)"
      ]
    },
    {
      "cell_type": "code",
      "execution_count": 54,
      "metadata": {
        "colab": {
          "base_uri": "https://localhost:8080/"
        },
        "id": "0Z-tLPnvxU1w",
        "outputId": "078475bc-fd7a-467b-fddb-92f5abc2dc40"
      },
      "outputs": [
        {
          "output_type": "execute_result",
          "data": {
            "text/plain": [
              "<keras.callbacks.History at 0x7f19875990d0>"
            ]
          },
          "metadata": {},
          "execution_count": 54
        }
      ],
      "source": [
        "siniflandirma_modeli.fit(X_egitim, y_egitim, epochs=100, verbose=0)"
      ]
    },
    {
      "cell_type": "markdown",
      "source": [
        "📌Model performansına <code>evaluate</code> komutuyla bakılır. <code>evaluate()</code> metodu kayıp fonksiyonunu ve metrik değerini döndürmektedir."
      ],
      "metadata": {
        "id": "hXSEPDgbHqeL"
      }
    },
    {
      "cell_type": "code",
      "execution_count": 55,
      "metadata": {
        "colab": {
          "base_uri": "https://localhost:8080/"
        },
        "id": "y0a5ARCOyr_2",
        "outputId": "2e392190-67bc-48bc-de9f-9904fa3f19f1"
      },
      "outputs": [
        {
          "output_type": "stream",
          "name": "stdout",
          "text": [
            "4/4 [==============================] - 0s 5ms/step - loss: 0.6710 - accuracy: 0.5577\n",
            "2/2 [==============================] - 0s 7ms/step - loss: 0.6558 - accuracy: 0.6000\n",
            "\n",
            "Eğitim kümesi doğruluk değeri : 0.558\n",
            "Test kümesi doğruluk değeri   : 0.600\n"
          ]
        }
      ],
      "source": [
        "dogruluk_egitim = siniflandirma_modeli.evaluate(X_egitim, y_egitim)[1]\n",
        "dogruluk_test = siniflandirma_modeli.evaluate(X_test, y_test)[1]\n",
        "\n",
        "print(\"\\nEğitim kümesi doğruluk değeri : {:.3f}\".format(dogruluk_egitim))\n",
        "print(\"Test kümesi doğruluk değeri   : {:.3f}\".format(dogruluk_test))"
      ]
    },
    {
      "cell_type": "markdown",
      "source": [
        "**Conclusion**"
      ],
      "metadata": {
        "id": "mgjDTBfG1-N0"
      }
    },
    {
      "cell_type": "markdown",
      "source": [
        "✅Mutlu kategorisine giren ülkelerde daha yüksek gelir, sosyal yardım, sağlıklı hayat beklentisi ve özgür seçimler yapabilmek varken mutsuz ülkelerde yolsuzluk fazladır.Cömertlikte ise mutsuz ülkeler üstünlük gösterebilmiştir.<br>\n",
        "✅Batı Avrupa ve Kuzey Amerika bölgelerinin sağlıklı yaşam beklentisi ve mutluluk skoru yüksek.<br>\n",
        "✅En mutlu ülke Finlandiya, en mutsuz ülke Afganistan.<br>\n",
        "✅Türkiye(4,94), genel mutluluk ortalamasının(5.53) altında kalmıştır.<br>\n",
        "✅2005 yılından 2021 yılına dek genel mutluluk ortalamasında azalma var.<br>\n",
        "✅2022 yılı için mutluluk düzeyi ortalamanın altında kalan ülkeler için ort. mutluluk tahmini :3.94<br>\n",
        "✅2022 yılı için mutluluk düzeyi ortalamanın üzerinde  yer alan ülkeler için ort. mutluluk tahmini :6.89<br>\n",
        "✅ML tarafından en güçlü tahmin Hiperparametre ayarlaması yapılan Xgboost algoritmasının performansıdır."
      ],
      "metadata": {
        "id": "QCGV0Xoq2F88"
      }
    }
  ],
  "metadata": {
    "colab": {
      "collapsed_sections": [],
      "name": "World_Happiness_Report.ipynb",
      "provenance": []
    },
    "kernelspec": {
      "display_name": "Python 3",
      "name": "python3"
    },
    "language_info": {
      "name": "python"
    },
    "widgets": {
      "application/vnd.jupyter.widget-state+json": {
        "2800a5126c92482393a96f1e8eb3a011": {
          "model_module": "@jupyter-widgets/controls",
          "model_name": "HBoxModel",
          "model_module_version": "1.5.0",
          "state": {
            "_view_name": "HBoxView",
            "_dom_classes": [],
            "_model_name": "HBoxModel",
            "_view_module": "@jupyter-widgets/controls",
            "_model_module_version": "1.5.0",
            "_view_count": null,
            "_view_module_version": "1.5.0",
            "box_style": "",
            "layout": "IPY_MODEL_41577696d0d241658acb40825071206a",
            "_model_module": "@jupyter-widgets/controls",
            "children": [
              "IPY_MODEL_9a65b374c9da413b9396acdd0a5e881c",
              "IPY_MODEL_acded27b0570436ba230d27b0175def9",
              "IPY_MODEL_1682bf91523c4ced8597744d25080349"
            ]
          }
        },
        "41577696d0d241658acb40825071206a": {
          "model_module": "@jupyter-widgets/base",
          "model_name": "LayoutModel",
          "model_module_version": "1.2.0",
          "state": {
            "_view_name": "LayoutView",
            "grid_template_rows": null,
            "right": null,
            "justify_content": null,
            "_view_module": "@jupyter-widgets/base",
            "overflow": null,
            "_model_module_version": "1.2.0",
            "_view_count": null,
            "flex_flow": "row wrap",
            "width": "100%",
            "min_width": null,
            "border": null,
            "align_items": null,
            "bottom": null,
            "_model_module": "@jupyter-widgets/base",
            "top": null,
            "grid_column": null,
            "overflow_y": null,
            "overflow_x": null,
            "grid_auto_flow": null,
            "grid_area": null,
            "grid_template_columns": null,
            "flex": null,
            "_model_name": "LayoutModel",
            "justify_items": null,
            "grid_row": null,
            "max_height": null,
            "align_content": null,
            "visibility": null,
            "align_self": null,
            "height": null,
            "min_height": null,
            "padding": null,
            "grid_auto_rows": null,
            "grid_gap": null,
            "max_width": null,
            "order": null,
            "_view_module_version": "1.2.0",
            "grid_template_areas": null,
            "object_position": null,
            "object_fit": null,
            "grid_auto_columns": null,
            "margin": null,
            "display": "inline-flex",
            "left": null
          }
        },
        "9a65b374c9da413b9396acdd0a5e881c": {
          "model_module": "@jupyter-widgets/controls",
          "model_name": "HTMLModel",
          "model_module_version": "1.5.0",
          "state": {
            "_view_name": "HTMLView",
            "style": "IPY_MODEL_657caa878f274eafb58f58aab393d8ce",
            "_dom_classes": [],
            "description": "",
            "_model_name": "HTMLModel",
            "placeholder": "​",
            "_view_module": "@jupyter-widgets/controls",
            "_model_module_version": "1.5.0",
            "value": "Done! Use &#x27;show&#x27; commands to display/save.   ",
            "_view_count": null,
            "_view_module_version": "1.5.0",
            "description_tooltip": null,
            "_model_module": "@jupyter-widgets/controls",
            "layout": "IPY_MODEL_16f359b8ee8c4661a961b4e744a1bd3c"
          }
        },
        "acded27b0570436ba230d27b0175def9": {
          "model_module": "@jupyter-widgets/controls",
          "model_name": "FloatProgressModel",
          "model_module_version": "1.5.0",
          "state": {
            "_view_name": "ProgressView",
            "style": "IPY_MODEL_a19b8bd73a32470e98331388cb3fa119",
            "_dom_classes": [],
            "description": "",
            "_model_name": "FloatProgressModel",
            "bar_style": "success",
            "max": 1,
            "_view_module": "@jupyter-widgets/controls",
            "_model_module_version": "1.5.0",
            "value": 1,
            "_view_count": null,
            "_view_module_version": "1.5.0",
            "orientation": "horizontal",
            "min": 0,
            "description_tooltip": null,
            "_model_module": "@jupyter-widgets/controls",
            "layout": "IPY_MODEL_259d18c448324d419b19681eaf5c20a6"
          }
        },
        "1682bf91523c4ced8597744d25080349": {
          "model_module": "@jupyter-widgets/controls",
          "model_name": "HTMLModel",
          "model_module_version": "1.5.0",
          "state": {
            "_view_name": "HTMLView",
            "style": "IPY_MODEL_0fa2b662db3243fdb541a49e0fc3b765",
            "_dom_classes": [],
            "description": "",
            "_model_name": "HTMLModel",
            "placeholder": "​",
            "_view_module": "@jupyter-widgets/controls",
            "_model_module_version": "1.5.0",
            "value": " [100%]   00:01 -&gt; (00:00 left)",
            "_view_count": null,
            "_view_module_version": "1.5.0",
            "description_tooltip": null,
            "_model_module": "@jupyter-widgets/controls",
            "layout": "IPY_MODEL_b785bd2e9c4641068b021371b569be76"
          }
        },
        "657caa878f274eafb58f58aab393d8ce": {
          "model_module": "@jupyter-widgets/controls",
          "model_name": "DescriptionStyleModel",
          "model_module_version": "1.5.0",
          "state": {
            "_view_name": "StyleView",
            "_model_name": "DescriptionStyleModel",
            "description_width": "",
            "_view_module": "@jupyter-widgets/base",
            "_model_module_version": "1.5.0",
            "_view_count": null,
            "_view_module_version": "1.2.0",
            "_model_module": "@jupyter-widgets/controls"
          }
        },
        "16f359b8ee8c4661a961b4e744a1bd3c": {
          "model_module": "@jupyter-widgets/base",
          "model_name": "LayoutModel",
          "model_module_version": "1.2.0",
          "state": {
            "_view_name": "LayoutView",
            "grid_template_rows": null,
            "right": null,
            "justify_content": null,
            "_view_module": "@jupyter-widgets/base",
            "overflow": null,
            "_model_module_version": "1.2.0",
            "_view_count": null,
            "flex_flow": null,
            "width": null,
            "min_width": null,
            "border": null,
            "align_items": null,
            "bottom": null,
            "_model_module": "@jupyter-widgets/base",
            "top": null,
            "grid_column": null,
            "overflow_y": null,
            "overflow_x": null,
            "grid_auto_flow": null,
            "grid_area": null,
            "grid_template_columns": null,
            "flex": null,
            "_model_name": "LayoutModel",
            "justify_items": null,
            "grid_row": null,
            "max_height": null,
            "align_content": null,
            "visibility": null,
            "align_self": null,
            "height": null,
            "min_height": null,
            "padding": null,
            "grid_auto_rows": null,
            "grid_gap": null,
            "max_width": null,
            "order": null,
            "_view_module_version": "1.2.0",
            "grid_template_areas": null,
            "object_position": null,
            "object_fit": null,
            "grid_auto_columns": null,
            "margin": null,
            "display": null,
            "left": null
          }
        },
        "a19b8bd73a32470e98331388cb3fa119": {
          "model_module": "@jupyter-widgets/controls",
          "model_name": "ProgressStyleModel",
          "model_module_version": "1.5.0",
          "state": {
            "_view_name": "StyleView",
            "_model_name": "ProgressStyleModel",
            "description_width": "",
            "_view_module": "@jupyter-widgets/base",
            "_model_module_version": "1.5.0",
            "_view_count": null,
            "_view_module_version": "1.2.0",
            "bar_color": null,
            "_model_module": "@jupyter-widgets/controls"
          }
        },
        "259d18c448324d419b19681eaf5c20a6": {
          "model_module": "@jupyter-widgets/base",
          "model_name": "LayoutModel",
          "model_module_version": "1.2.0",
          "state": {
            "_view_name": "LayoutView",
            "grid_template_rows": null,
            "right": null,
            "justify_content": null,
            "_view_module": "@jupyter-widgets/base",
            "overflow": null,
            "_model_module_version": "1.2.0",
            "_view_count": null,
            "flex_flow": null,
            "width": null,
            "min_width": null,
            "border": null,
            "align_items": null,
            "bottom": null,
            "_model_module": "@jupyter-widgets/base",
            "top": null,
            "grid_column": null,
            "overflow_y": null,
            "overflow_x": null,
            "grid_auto_flow": null,
            "grid_area": null,
            "grid_template_columns": null,
            "flex": "2",
            "_model_name": "LayoutModel",
            "justify_items": null,
            "grid_row": null,
            "max_height": null,
            "align_content": null,
            "visibility": null,
            "align_self": null,
            "height": null,
            "min_height": null,
            "padding": null,
            "grid_auto_rows": null,
            "grid_gap": null,
            "max_width": null,
            "order": null,
            "_view_module_version": "1.2.0",
            "grid_template_areas": null,
            "object_position": null,
            "object_fit": null,
            "grid_auto_columns": null,
            "margin": null,
            "display": null,
            "left": null
          }
        },
        "0fa2b662db3243fdb541a49e0fc3b765": {
          "model_module": "@jupyter-widgets/controls",
          "model_name": "DescriptionStyleModel",
          "model_module_version": "1.5.0",
          "state": {
            "_view_name": "StyleView",
            "_model_name": "DescriptionStyleModel",
            "description_width": "",
            "_view_module": "@jupyter-widgets/base",
            "_model_module_version": "1.5.0",
            "_view_count": null,
            "_view_module_version": "1.2.0",
            "_model_module": "@jupyter-widgets/controls"
          }
        },
        "b785bd2e9c4641068b021371b569be76": {
          "model_module": "@jupyter-widgets/base",
          "model_name": "LayoutModel",
          "model_module_version": "1.2.0",
          "state": {
            "_view_name": "LayoutView",
            "grid_template_rows": null,
            "right": null,
            "justify_content": null,
            "_view_module": "@jupyter-widgets/base",
            "overflow": null,
            "_model_module_version": "1.2.0",
            "_view_count": null,
            "flex_flow": null,
            "width": null,
            "min_width": null,
            "border": null,
            "align_items": null,
            "bottom": null,
            "_model_module": "@jupyter-widgets/base",
            "top": null,
            "grid_column": null,
            "overflow_y": null,
            "overflow_x": null,
            "grid_auto_flow": null,
            "grid_area": null,
            "grid_template_columns": null,
            "flex": null,
            "_model_name": "LayoutModel",
            "justify_items": null,
            "grid_row": null,
            "max_height": null,
            "align_content": null,
            "visibility": null,
            "align_self": null,
            "height": null,
            "min_height": null,
            "padding": null,
            "grid_auto_rows": null,
            "grid_gap": null,
            "max_width": null,
            "order": null,
            "_view_module_version": "1.2.0",
            "grid_template_areas": null,
            "object_position": null,
            "object_fit": null,
            "grid_auto_columns": null,
            "margin": null,
            "display": null,
            "left": null
          }
        }
      }
    }
  },
  "nbformat": 4,
  "nbformat_minor": 0
}